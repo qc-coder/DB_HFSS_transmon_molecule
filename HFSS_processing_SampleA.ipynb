{
 "cells": [
  {
   "cell_type": "code",
   "execution_count": 1,
   "metadata": {},
   "outputs": [],
   "source": [
    "import numpy as np\n",
    "import matplotlib.pyplot as plt\n",
    "import matplotlib.gridspec as gridspec\n"
   ]
  },
  {
   "cell_type": "code",
   "execution_count": 2,
   "metadata": {},
   "outputs": [],
   "source": [
    "def w(L,C):\n",
    "    w = 1.0 / np.sqrt(L*C)\n",
    "    return w / (2*np.pi)\n",
    "\n",
    "def C_from_L_fr(L, fr, ToPrint=True):\n",
    "    '''\n",
    "    L in Henry\n",
    "    fr in Hz\n",
    "    return C in Farads\n",
    "    '''\n",
    "    C = 1.0 /( L * (2*np.pi*fr)**2 )\n",
    "    if ToPrint:\n",
    "        print( 'L is:', round( 1e9*L, 3 ), '[nH];  fr is:', round( 1e-9*fr, 3 ), '[GHz];  C is:', round( 1e15*C, 2 ), '[fF]')\n",
    "    return C\n",
    "\n",
    "def get_Cs(Lj, fr_q):\n",
    "    L_q = L_j / 2\n",
    "    C_q = C_from_L_fr( L_q, fr_q )\n",
    "    C_s = C_q / 2\n",
    "    return C_s\n",
    "\n",
    "########################"
   ]
  },
  {
   "cell_type": "code",
   "execution_count": 3,
   "metadata": {},
   "outputs": [],
   "source": [
    "## new good function ##\n",
    "def process_HFSS_frLC(filename, datlim=[None,None], title=''):\n",
    "    '''\n",
    "    To extract the Capsitance from simple LC oscillator (one mode, one L)\n",
    "    Takes file with shape [L, fr], fit the data and returns C=const\n",
    "    use datlim to crop the data\n",
    "    '''\n",
    "    data = np.loadtxt(filename)\n",
    "    \n",
    "    L_list = 1e-9*data[:,0]  ## in H\n",
    "    fr_list = data[:,1]      ##in Hz\n",
    "    x_data = L_list[ datlim[0]:datlim[1] ]\n",
    "    y_data = fr_list[ datlim[0]:datlim[1] ]\n",
    "    \n",
    "    from scipy import optimize\n",
    "    def freqLC(L, L_prst, C):\n",
    "        L_tot = L + np.abs(L_prst)\n",
    "        w = 1.0 / np.sqrt( L_tot*C )\n",
    "        return w / (2*np.pi)\n",
    "    init_L_prst = 0\n",
    "    init_C = 50e-15\n",
    "    init_params = [init_L_prst, init_C]\n",
    "    params, params_covariance = optimize.curve_fit(freqLC, x_data, y_data, p0=init_params)\n",
    "\n",
    "    [L_prst,C] = params \n",
    "    C_str = 'C = '+ str(round(1e15*C,3))+ ' [fF]'\n",
    "    L_str = 'Lprst = '+ str(round(1e9*L_prst,3))+ ' [nH]'\n",
    "    title_string = title+'\\n'+C_str+'\\n'+L_str\n",
    "    print(C_str)\n",
    "    print(L_str)\n",
    "\n",
    "    ##\n",
    "    fig, ax = plt.subplots()\n",
    "    ax.plot(1e9*x_data, 1e-9*y_data, 'o', label='HFSS')\n",
    "    ax.plot(1e9*x_data, 1e-9*freqLC(x_data, L_prst, C), '--', label='fit=(1/2pi) * ( 1/SQRT( C*(L+Lprst) ) )')\n",
    "\n",
    "    ax.legend()\n",
    "    ax.grid()\n",
    "    ax.set_title(title_string)\n",
    "    ax.set_xlabel('L [nH]')\n",
    "    ax.set_ylabel('Freq [GHz]')\n",
    "\n",
    "    return C"
   ]
  },
  {
   "cell_type": "code",
   "execution_count": 11,
   "metadata": {},
   "outputs": [
    {
     "name": "stdout",
     "output_type": "stream",
     "text": [
      "Article Example:\n",
      "('C_s=', 114.60738508130959, 'fF')\n",
      "('C_t=', 174.7916418824165, 'fF')\n"
     ]
    }
   ],
   "source": [
    "def get_Cs_Ct_from_fQ_fA(fr_a, fr_q, L_a, L_j):\n",
    "    def get_Cs_from_frQ_FulSys(fr_q, L_j):\n",
    "        w_q = fr_q * 2*np.pi\n",
    "        C_s = 1.0/( L_j*w_q**2 )\n",
    "        return C_s\n",
    "    C_s = get_Cs_from_frQ_FulSys( fr_q, L_j )\n",
    "    w_a = fr_a * 2*np.pi\n",
    "    L = (L_j*L_a) / (2*L_j+L_a) ##shouldbe_correct\n",
    "#     L = L_a / (1. + (0.5*L_a/L_j) )  ##wrong\n",
    "#     L = (2*L_j*L_a) / (2*L_j+L_a) ##update x2 29 Dec 2021\n",
    "    C_t = 1./(L * w_a**2) - 0.5*C_s\n",
    "    return [C_s, C_t]\n",
    "\n",
    "## article example ##\n",
    "print('Article Example:')\n",
    "[C_s, C_t] = get_Cs_Ct_from_fQ_fA(7.78e9, 6.284e9, 5.32e-9, 5.597e-9)\n",
    "print('C_s=',C_s*1e15, 'fF')\n",
    "print('C_t=',C_t*1e15, 'fF')"
   ]
  },
  {
   "cell_type": "markdown",
   "metadata": {},
   "source": [
    "# Remy geo. prec mesh"
   ]
  },
  {
   "cell_type": "markdown",
   "metadata": {},
   "source": [
    "# Cs = 105 fF, Ct = 64 fF"
   ]
  },
  {
   "cell_type": "markdown",
   "metadata": {},
   "source": [
    "### 2 May 2020"
   ]
  },
  {
   "cell_type": "code",
   "execution_count": 12,
   "metadata": {},
   "outputs": [
    {
     "name": "stdout",
     "output_type": "stream",
     "text": [
      "night infinity\n",
      "path  L_j  L_a     Cs    Ct     fQ    fA\n",
      " #7   60.0  40.0   98     67    2.07   3.8\n",
      " #9   60.0  40.0   101    66    2.04   3.8\n",
      " #10  60.0  40.0   105    64    2.0    3.79\n"
     ]
    }
   ],
   "source": [
    "print 'night infinity'\n",
    "print 'path', ' L_j ', 'L_a', '    Cs ', '  Ct  ', '  fQ', '   fA'\n",
    "\n",
    "[La, Lj, fr_q, fr_a] = [40e-9, 60e-9, 2.06513e9, 3.79776e9]\n",
    "[Cs, Ct] = get_Cs_Ct_from_fQ_fA(fr_a, fr_q, La, Lj)\n",
    "print ' #7  ',1e9*Lj, '',1e9*La , ' ', int(1e15*Cs),'   ',int(1e15*Ct),'  ', round(1e-9*fr_q,2),' ', round(1e-9*fr_a,2)\n",
    "\n",
    "[La, Lj, fr_q, fr_a] = [40e-9, 60e-9, 2.04008e9, 3.79676e9]\n",
    "[Cs, Ct] = get_Cs_Ct_from_fQ_fA(fr_a, fr_q, La, Lj)\n",
    "print ' #9  ',1e9*Lj, '',1e9*La , ' ', int(1e15*Cs),'  ',int(1e15*Ct),'  ', round(1e-9*fr_q,2),' ', round(1e-9*fr_a,2)\n",
    "\n",
    "[La, Lj, fr_q, fr_a] = [40e-9, 60e-9, 1.99688e9, 3.79066e9]\n",
    "[Cs, Ct] = get_Cs_Ct_from_fQ_fA(fr_a, fr_q, La, Lj)\n",
    "print ' #10 ',1e9*Lj, '',1e9*La , ' ', int(1e15*Cs),'  ',int(1e15*Ct),'  ', round(1e-9*fr_q,2),'  ', round(1e-9*fr_a,2)\n"
   ]
  },
  {
   "cell_type": "code",
   "execution_count": 13,
   "metadata": {},
   "outputs": [
    {
     "name": "stdout",
     "output_type": "stream",
     "text": [
      "night infinity\n",
      "path  L_j  L_a     Cs    Ct     fQ    fA\n",
      " #7   60.0  40.0   98     67    2.07   3.8\n",
      " #9   60.0  40.0   101    66    2.04   3.8\n",
      " #10  60.0  40.0   105    64    2.0    3.79\n"
     ]
    }
   ],
   "source": [
    "print 'night infinity'\n",
    "print 'path', ' L_j ', 'L_a', '    Cs ', '  Ct  ', '  fQ', '   fA'\n",
    "\n",
    "[La, Lj, fr_q, fr_a] = [40e-9, 60e-9, 2.06513e9, 3.79776e9]\n",
    "[Cs, Ct] = get_Cs_Ct_from_fQ_fA(fr_a, fr_q, La, Lj)\n",
    "print ' #7  ',1e9*Lj, '',1e9*La , ' ', int(1e15*Cs),'   ',int(1e15*Ct),'  ', round(1e-9*fr_q,2),' ', round(1e-9*fr_a,2)\n",
    "\n",
    "[La, Lj, fr_q, fr_a] = [40e-9, 60e-9, 2.04008e9, 3.79676e9]\n",
    "[Cs, Ct] = get_Cs_Ct_from_fQ_fA(fr_a, fr_q, La, Lj)\n",
    "print ' #9  ',1e9*Lj, '',1e9*La , ' ', int(1e15*Cs),'  ',int(1e15*Ct),'  ', round(1e-9*fr_q,2),' ', round(1e-9*fr_a,2)\n",
    "\n",
    "[La, Lj, fr_q, fr_a] = [40e-9, 60e-9, 1.99688e9, 3.79066e9]\n",
    "[Cs, Ct] = get_Cs_Ct_from_fQ_fA(fr_a, fr_q, La, Lj)\n",
    "print ' #10 ',1e9*Lj, '',1e9*La , ' ', int(1e15*Cs),'  ',int(1e15*Ct),'  ', round(1e-9*fr_q,2),'  ', round(1e-9*fr_a,2)\n"
   ]
  },
  {
   "cell_type": "code",
   "execution_count": 14,
   "metadata": {},
   "outputs": [
    {
     "name": "stdout",
     "output_type": "stream",
     "text": [
      "Setup2 (2%) nothing except pads&Wires 50,4,0.5 um 4passes 0.1%\n",
      "path  L_j  L_a     Cs    Ct     fQ    fA\n",
      "  #4 60.0  40.0   150    52    1.68   3.64\n",
      "  #5 60.0  40.0   165    45    1.6   3.62\n",
      "Setup2 (2%) nothing except pads&Wires 50,4,0.5 um 2passes 4%\n",
      " L_j  L_a     Cs    Ct     fQ    fA\n",
      "15.0  15.0   137    76    3.51   5.91\n",
      "Setup2 (5%) subWires,Wires,Pads, BigRect,Between,Corners = [0.5, 4, 50, 80, 50, 10] -- only 2 passes\n",
      " L_j  L_a     Cs    Ct     fQ    fA\n",
      "60.0  40.0   303    -15    1.18   3.51\n",
      "2May_001butshit\n"
     ]
    }
   ],
   "source": [
    "print 'Setup2 (2%) nothing except pads&Wires 50,4,0.5 um 4passes 0.1%'\n",
    "print 'path', ' L_j ', 'L_a', '    Cs ', '  Ct  ', '  fQ', '   fA'\n",
    "[La, Lj, fr_q, fr_a] = [40e-9, 60e-9, 1.67540e9, 3.63991e9]\n",
    "[Cs, Ct] = get_Cs_Ct_from_fQ_fA(fr_a, fr_q, La, Lj)\n",
    "print '  #4',1e9*Lj, '',1e9*La , ' ', int(1e15*Cs),'  ',int(1e15*Ct),'  ', round(1e-9*fr_q,2),' ', round(1e-9*fr_a,2)\n",
    "\n",
    "[La, Lj, fr_q, fr_a] = [40e-9, 60e-9, 1.59545e9, 3.62418e9]\n",
    "[Cs, Ct] = get_Cs_Ct_from_fQ_fA(fr_a, fr_q, La, Lj)\n",
    "print '  #5',1e9*Lj, '',1e9*La , ' ', int(1e15*Cs),'  ',int(1e15*Ct),'  ', round(1e-9*fr_q,2),' ', round(1e-9*fr_a,2)\n",
    "\n",
    "print 'Setup2 (2%) nothing except pads&Wires 50,4,0.5 um 2passes 4%'\n",
    "[La, Lj, fr_q, fr_a] = [15e-9, 15e-9, 3.50774e9, 5.91113e9]\n",
    "[Cs, Ct] = get_Cs_Ct_from_fQ_fA(fr_a, fr_q, La, Lj)\n",
    "print ' L_j ', 'L_a', '    Cs ', '  Ct  ', '  fQ', '   fA'\n",
    "print 1e9*Lj, '',1e9*La , ' ', int(1e15*Cs),'  ',int(1e15*Ct),'  ', round(1e-9*fr_q,2),' ', round(1e-9*fr_a,2)\n",
    "\n",
    "print 'Setup2 (5%) subWires,Wires,Pads, BigRect,Between,Corners = [0.5, 4, 50, 80, 50, 10] -- only 2 passes'\n",
    "[La, Lj, fr_q, fr_a] = [40e-9, 60e-9, 1.17866e9, 3.51256e9]\n",
    "[Cs, Ct] = get_Cs_Ct_from_fQ_fA(fr_a, fr_q, La, Lj)\n",
    "print ' L_j ', 'L_a', '    Cs ', '  Ct  ', '  fQ', '   fA'\n",
    "print 1e9*Lj, '',1e9*La , ' ', int(1e15*Cs),'  ',int(1e15*Ct),'  ', round(1e-9*fr_q,2),' ', round(1e-9*fr_a,2)\n",
    "\n",
    "print '2May_001butshit'"
   ]
  },
  {
   "cell_type": "markdown",
   "metadata": {},
   "source": [
    "### 1 May"
   ]
  },
  {
   "cell_type": "code",
   "execution_count": 8,
   "metadata": {},
   "outputs": [
    {
     "name": "stdout",
     "output_type": "stream",
     "text": [
      "__Mesher 100 um, SX=0.6, SY=2.20mm  1% --- finished ---\n",
      " L_j  L_a     Cs    Ct     fQ    fA\n",
      "60.0  40.0   102    65    2.03   3.8\n",
      "__Mesher 100 um, SX=0.6, SY=2.20mm  1% not finished (true2%)\n",
      " L_j  L_a     Cs    Ct     fQ    fA\n",
      "60.0  40.0   98    67    2.07   3.8\n",
      "__Mesher 100 um, SX=0.6, SY=2.20mm  5%\n",
      " L_j  L_a     Cs    Ct     fQ    fA\n",
      "60.0  40.0   68    77    2.48   3.88\n",
      "__Mesher 100 um, SX=0.4, SY=2.05mm \n",
      " L_j  L_a     Cs    Ct     fQ    fA\n",
      "60.0  40.0   97    70    2.08   3.76\n",
      "__Mesher 10 um\n",
      " L_j  L_a     Cs    Ct     fQ    fA\n",
      "60.0  40.0   93    70    2.12   3.8\n",
      "__Mesher 20 um\n",
      " L_j  L_a     Cs    Ct     fQ    fA\n",
      "60.0  40.0   93    70    2.12   3.8\n",
      "__Mesher 50 um\n"
     ]
    },
    {
     "ename": "NameError",
     "evalue": "name 'print_C_from_file' is not defined",
     "output_type": "error",
     "traceback": [
      "\u001b[1;31m---------------------------------------------------------------------------\u001b[0m",
      "\u001b[1;31mNameError\u001b[0m                                 Traceback (most recent call last)",
      "\u001b[1;32m<ipython-input-8-9021a7774225>\u001b[0m in \u001b[0;36m<module>\u001b[1;34m()\u001b[0m\n\u001b[0;32m     39\u001b[0m \u001b[0mfilename\u001b[0m \u001b[1;33m=\u001b[0m \u001b[0mfolder\u001b[0m \u001b[1;33m+\u001b[0m \u001b[1;34m'20200430_RemyGeo_prec_mesh.dat'\u001b[0m\u001b[1;33m\u001b[0m\u001b[0m\n\u001b[0;32m     40\u001b[0m \u001b[1;32mprint\u001b[0m \u001b[1;34m'__Mesher 50 um'\u001b[0m\u001b[1;33m\u001b[0m\u001b[0m\n\u001b[1;32m---> 41\u001b[1;33m \u001b[0mprint_C_from_file\u001b[0m\u001b[1;33m(\u001b[0m\u001b[0mfilename\u001b[0m\u001b[1;33m)\u001b[0m\u001b[1;33m\u001b[0m\u001b[0m\n\u001b[0m\u001b[0;32m     42\u001b[0m \u001b[1;33m\u001b[0m\u001b[0m\n\u001b[0;32m     43\u001b[0m \u001b[1;32mprint\u001b[0m \u001b[1;34m'\\nVery big difference, with another mesh!\\nBefore it was:'\u001b[0m\u001b[1;33m\u001b[0m\u001b[0m\n",
      "\u001b[1;31mNameError\u001b[0m: name 'print_C_from_file' is not defined"
     ]
    }
   ],
   "source": [
    "### Check ####\n",
    "print '__Mesher 100 um, SX=0.6, SY=2.20mm  1% --- finished ---'\n",
    "[La, Lj, fr_q, fr_a] = [40e-9, 60e-9, 2.02570e9, 3.7957e9]\n",
    "[Cs, Ct] = get_Cs_Ct_from_fQ_fA(fr_a, fr_q, La, Lj)\n",
    "print ' L_j ', 'L_a', '    Cs ', '  Ct  ', '  fQ', '   fA'\n",
    "print 1e9*Lj, '',1e9*La , ' ', int(1e15*Cs),'  ',int(1e15*Ct),'  ', round(1e-9*fr_q,2),' ', round(1e-9*fr_a,2)\n",
    "\n",
    "print '__Mesher 100 um, SX=0.6, SY=2.20mm  1% not finished (true2%)'\n",
    "[La, Lj, fr_q, fr_a] = [40e-9, 60e-9, 2.07086e9, 3.80110e9]\n",
    "[Cs, Ct] = get_Cs_Ct_from_fQ_fA(fr_a, fr_q, La, Lj)\n",
    "print ' L_j ', 'L_a', '    Cs ', '  Ct  ', '  fQ', '   fA'\n",
    "print 1e9*Lj, '',1e9*La , ' ', int(1e15*Cs),'  ',int(1e15*Ct),'  ', round(1e-9*fr_q,2),' ', round(1e-9*fr_a,2)\n",
    "\n",
    "print '__Mesher 100 um, SX=0.6, SY=2.20mm  5%'\n",
    "[La, Lj, fr_q, fr_a] = [40e-9, 60e-9, 2.47743e9, 3.88071e9]\n",
    "[Cs, Ct] = get_Cs_Ct_from_fQ_fA(fr_a, fr_q, La, Lj)\n",
    "print ' L_j ', 'L_a', '    Cs ', '  Ct  ', '  fQ', '   fA'\n",
    "print 1e9*Lj, '',1e9*La , ' ', int(1e15*Cs),'  ',int(1e15*Ct),'  ', round(1e-9*fr_q,2),' ', round(1e-9*fr_a,2)\n",
    "\n",
    "print '__Mesher 100 um, SX=0.4, SY=2.05mm '\n",
    "[La, Lj, fr_q, fr_a] = [40e-9, 60e-9, 2.07574e9, 3.76402e9]\n",
    "[Cs, Ct] = get_Cs_Ct_from_fQ_fA(fr_a, fr_q, La, Lj)\n",
    "print ' L_j ', 'L_a', '    Cs ', '  Ct  ', '  fQ', '   fA'\n",
    "print 1e9*Lj, '',1e9*La , ' ', int(1e15*Cs),'  ',int(1e15*Ct),'  ', round(1e-9*fr_q,2),' ', round(1e-9*fr_a,2)\n",
    "\n",
    "print '__Mesher 10 um'\n",
    "[La, Lj, fr_q, fr_a] = [40e-9, 60e-9, 2.12344e9, 3.79807e9]\n",
    "[Cs, Ct] = get_Cs_Ct_from_fQ_fA(fr_a, fr_q, La, Lj)\n",
    "print ' L_j ', 'L_a', '    Cs ', '  Ct  ', '  fQ', '   fA'\n",
    "print 1e9*Lj, '',1e9*La , ' ', int(1e15*Cs),'  ',int(1e15*Ct),'  ', round(1e-9*fr_q,2),' ', round(1e-9*fr_a,2)\n",
    "\n",
    "print '__Mesher 20 um'\n",
    "[La, Lj, fr_q, fr_a] = [40e-9, 60e-9, 2.1234e9, 3.798e9]\n",
    "[Cs, Ct] = get_Cs_Ct_from_fQ_fA(fr_a, fr_q, La, Lj)\n",
    "print ' L_j ', 'L_a', '    Cs ', '  Ct  ', '  fQ', '   fA'\n",
    "print 1e9*Lj, '',1e9*La , ' ', int(1e15*Cs),'  ',int(1e15*Ct),'  ', round(1e-9*fr_q,2),' ', round(1e-9*fr_a,2)\n",
    "\n",
    "folder = 'D:\\\\Data\\\\Desktop\\\\HFSS_results\\\\__Vary_parameters__\\\\1_Initial_Remy_Geometry\\\\FullWiring\\\\'\n",
    "filename = folder + '20200430_RemyGeo_prec_mesh.dat'\n",
    "print '__Mesher 50 um'\n",
    "print_C_from_file(filename)\n",
    "\n",
    "print '\\nVery big difference, with another mesh!\\nBefore it was:'\n",
    "folder = 'D:\\\\Data\\\\Desktop\\HFSS_results\\\\__Vary_parameters__\\\\1_Initial_Remy_Geometry\\\\FullWiring\\\\'\n",
    "filename = folder + '200423_200_RG_LaLj_24points_ok.dat'\n",
    "print '__No additional mesh'\n",
    "print_C_from_file(filename)\n",
    "print('\\nWhy is it so?!')\n"
   ]
  },
  {
   "cell_type": "markdown",
   "metadata": {},
   "source": [
    "## Remy geometry, but Pad2 in center"
   ]
  },
  {
   "cell_type": "code",
   "execution_count": 9,
   "metadata": {},
   "outputs": [
    {
     "name": "stdout",
     "output_type": "stream",
     "text": [
      " L_j  L_a     Cs    Ct     fQ    fA\n",
      "60.0 20.0   70.0 194.0   2.45  3.59\n"
     ]
    }
   ],
   "source": [
    "Lj = 60e-9\n",
    "La = 20e-9\n",
    "fr_q = 2.45333e9\n",
    "fr_a = 3.59109e9\n",
    "\n",
    "[C_s, C_t] = get_Cs_Ct_from_fQ_fA(fr_a, fr_q, La, Lj)\n",
    "# [C_s, C_t] = get_Cs_Ct_from_fQ_fA(fr_q, fr_a, La, Lj)\n",
    "\n",
    "print ' L_j ', 'L_a', '    Cs ', '  Ct  ', '  fQ', '   fA'\n",
    "print 1e9*Lj, 1e9*La,' ', round(1e15*C_s), round(1e15*C_t),' ', round(1e-9*fr_q,2),'', round(1e-9*fr_a,2)\n"
   ]
  },
  {
   "cell_type": "code",
   "execution_count": 10,
   "metadata": {},
   "outputs": [
    {
     "name": "stdout",
     "output_type": "stream",
     "text": [
      "Gap   Width RatMoS  Cs    Ct    fQ    fA\n"
     ]
    },
    {
     "ename": "IOError",
     "evalue": "[Errno 2] No such file or directory: 'D:\\\\Data\\\\Desktop\\\\HFSS_results\\\\__Vary_parameters__\\\\2_StripGeometry\\\\20200428_StripGeo_Vary_LWRG=2000,sv,sv,sv.dat'",
     "output_type": "error",
     "traceback": [
      "\u001b[1;31m---------------------------------------------------------------------------\u001b[0m",
      "\u001b[1;31mIOError\u001b[0m                                   Traceback (most recent call last)",
      "\u001b[1;32m<ipython-input-10-87612e5a12f6>\u001b[0m in \u001b[0;36m<module>\u001b[1;34m()\u001b[0m\n\u001b[0;32m     12\u001b[0m \u001b[1;31m#########################\u001b[0m\u001b[1;33m\u001b[0m\u001b[1;33m\u001b[0m\u001b[0m\n\u001b[0;32m     13\u001b[0m \u001b[1;33m\u001b[0m\u001b[0m\n\u001b[1;32m---> 14\u001b[1;33m \u001b[0mdata\u001b[0m \u001b[1;33m=\u001b[0m \u001b[0mnp\u001b[0m\u001b[1;33m.\u001b[0m\u001b[0mloadtxt\u001b[0m\u001b[1;33m(\u001b[0m\u001b[0mfilename\u001b[0m\u001b[1;33m)\u001b[0m\u001b[1;33m\u001b[0m\u001b[0m\n\u001b[0m\u001b[0;32m     15\u001b[0m \u001b[0mPart_Gap\u001b[0m \u001b[1;33m=\u001b[0m \u001b[0mdata\u001b[0m\u001b[1;33m[\u001b[0m\u001b[1;33m:\u001b[0m\u001b[1;33m,\u001b[0m\u001b[1;36m0\u001b[0m\u001b[1;33m]\u001b[0m\u001b[1;33m\u001b[0m\u001b[0m\n\u001b[0;32m     16\u001b[0m \u001b[0mWidth\u001b[0m \u001b[1;33m=\u001b[0m \u001b[0mdata\u001b[0m\u001b[1;33m[\u001b[0m\u001b[1;33m:\u001b[0m\u001b[1;33m,\u001b[0m\u001b[1;36m1\u001b[0m\u001b[1;33m]\u001b[0m\u001b[1;33m\u001b[0m\u001b[0m\n",
      "\u001b[1;32mc:\\python27\\lib\\site-packages\\numpy\\lib\\npyio.pyc\u001b[0m in \u001b[0;36mloadtxt\u001b[1;34m(fname, dtype, comments, delimiter, converters, skiprows, usecols, unpack, ndmin)\u001b[0m\n\u001b[0;32m    732\u001b[0m                 \u001b[0mfh\u001b[0m \u001b[1;33m=\u001b[0m \u001b[0miter\u001b[0m\u001b[1;33m(\u001b[0m\u001b[0mbz2\u001b[0m\u001b[1;33m.\u001b[0m\u001b[0mBZ2File\u001b[0m\u001b[1;33m(\u001b[0m\u001b[0mfname\u001b[0m\u001b[1;33m)\u001b[0m\u001b[1;33m)\u001b[0m\u001b[1;33m\u001b[0m\u001b[0m\n\u001b[0;32m    733\u001b[0m             \u001b[1;32melif\u001b[0m \u001b[0msys\u001b[0m\u001b[1;33m.\u001b[0m\u001b[0mversion_info\u001b[0m\u001b[1;33m[\u001b[0m\u001b[1;36m0\u001b[0m\u001b[1;33m]\u001b[0m \u001b[1;33m==\u001b[0m \u001b[1;36m2\u001b[0m\u001b[1;33m:\u001b[0m\u001b[1;33m\u001b[0m\u001b[0m\n\u001b[1;32m--> 734\u001b[1;33m                 \u001b[0mfh\u001b[0m \u001b[1;33m=\u001b[0m \u001b[0miter\u001b[0m\u001b[1;33m(\u001b[0m\u001b[0mopen\u001b[0m\u001b[1;33m(\u001b[0m\u001b[0mfname\u001b[0m\u001b[1;33m,\u001b[0m \u001b[1;34m'U'\u001b[0m\u001b[1;33m)\u001b[0m\u001b[1;33m)\u001b[0m\u001b[1;33m\u001b[0m\u001b[0m\n\u001b[0m\u001b[0;32m    735\u001b[0m             \u001b[1;32melse\u001b[0m\u001b[1;33m:\u001b[0m\u001b[1;33m\u001b[0m\u001b[0m\n\u001b[0;32m    736\u001b[0m                 \u001b[0mfh\u001b[0m \u001b[1;33m=\u001b[0m \u001b[0miter\u001b[0m\u001b[1;33m(\u001b[0m\u001b[0mopen\u001b[0m\u001b[1;33m(\u001b[0m\u001b[0mfname\u001b[0m\u001b[1;33m)\u001b[0m\u001b[1;33m)\u001b[0m\u001b[1;33m\u001b[0m\u001b[0m\n",
      "\u001b[1;31mIOError\u001b[0m: [Errno 2] No such file or directory: 'D:\\\\Data\\\\Desktop\\\\HFSS_results\\\\__Vary_parameters__\\\\2_StripGeometry\\\\20200428_StripGeo_Vary_LWRG=2000,sv,sv,sv.dat'"
     ]
    }
   ],
   "source": [
    "'''\n",
    "Variation +- 2% of each LWRG\n",
    "Part_Gap\tWidth\tPart_Ratio_Middle_o_Side\tfr1\tfr2\t\n",
    "'''\n",
    "folder = 'D:\\\\Data\\\\Desktop\\\\HFSS_results\\\\__Vary_parameters__\\\\2_StripGeometry\\\\'\n",
    "filename = folder + '20200428_StripGeo_Vary_LWRG=2000,sv,sv,sv.dat'\n",
    "\n",
    "L_j = 60e-9\n",
    "L_a = 40e-9\n",
    "\n",
    "print 'Gap ',' Width','RatMoS', ' Cs ', '  Ct  ', ' fQ', '   fA'\n",
    "#########################\n",
    "\n",
    "data = np.loadtxt(filename)\n",
    "Part_Gap = data[:,0]\n",
    "Width = data[:,1]\n",
    "RatioMoS = data[:,2]\n",
    "fr_q_list = data[:,3]\n",
    "fr_a_list = data[:,4]\n",
    "\n",
    "Cs_list = np.ones_like(fr_q_list)\n",
    "Ct_list = np.ones_like(fr_q_list)\n",
    "for i in range(len( fr_q_list )):\n",
    "    [Cs_list[i], Ct_list[i]] = get_Cs_Ct_from_fQ_fA(fr_a_list[i], fr_q_list[i], L_a, L_j)\n",
    "    print Part_Gap[i],Width[i],RatioMoS[i], ' ', round(1e15*Cs_list[i]),round(1e15*Ct_list[i]),' ', round(1e-9*fr_q_list[i],2),'', round(1e-9*fr_a_list[i],2)\n",
    "\n",
    "#########################\n",
    "\n",
    "## reshape to 3D array \n",
    "Gaps = np.unique(Part_Gap)\n",
    "Widths = np.unique(Width)\n",
    "Ratios = np.unique(RatioMoS)\n",
    "\n",
    "lg = len(Gaps)\n",
    "lw = len(Widths)\n",
    "lr = len(Ratios)\n",
    "\n",
    "Cs_3D_fF = np.reshape(1e15*Cs_list, [lg,lw,lr])\n",
    "Ct_3D_fF = np.reshape(1e15*Ct_list, [lg,lw,lr])\n",
    "\n",
    "'''\n",
    "Cs_3D[gap_i, width_i, rat_i]\n",
    "'''\n",
    "\n",
    "###########################################################################\n",
    "\n",
    "max_Cs = np.max(Cs_3D_fF)\n",
    "min_Cs = np.min(Cs_3D_fF)\n",
    "tar_Cs = 143\n",
    "range_Cs = np.max([ abs(tar_Cs-max_Cs), abs(tar_Cs-min_Cs) ])\n",
    "print '\\nrange_Cs',range_Cs\n",
    "Cs_colormin = tar_Cs - range_Cs\n",
    "Cs_colormax = tar_Cs + range_Cs\n",
    "\n",
    "max_Ct = np.max(Ct_3D_fF)\n",
    "min_Ct = np.min(Ct_3D_fF)\n",
    "tar_Ct = 89\n",
    "range_Ct = np.max([ abs(tar_Ct-max_Ct), abs(tar_Ct-min_Ct) ])\n",
    "print 'range_Ct',range_Ct\n",
    "Ct_colormin = tar_Ct - range_Ct\n",
    "Ct_colormax = tar_Ct + range_Ct\n",
    "\n",
    "#########################\n",
    "\n",
    "\n",
    "\n",
    "####### PICTURE COLORPLOTS ######\n",
    "\n",
    "fig1 = plt.figure(constrained_layout=True, figsize=[15,10])\n",
    "spec1 = gridspec.GridSpec(ncols=4, nrows=2, figure=fig1, width_ratios=[1,1,1,.1])\n",
    "ax11 = fig1.add_subplot(spec1[0, 0])\n",
    "ax12 = fig1.add_subplot(spec1[0, 1])\n",
    "ax13 = fig1.add_subplot(spec1[0, 2])\n",
    "ax14 = fig1.add_subplot(spec1[0, 3], visible=False) #colorbar\n",
    "\n",
    "ax11.set_title('Cs; gap='+str((Gaps[0]) ))\n",
    "ax11.set_xlabel('Ratio MoS')\n",
    "ax11.set_ylabel('Width [um]')\n",
    "c11 = ax11.pcolor(Cs_3D_fF[0,:,:], edgecolors='k', linewidths=4, vmin=Cs_colormin, vmax=Cs_colormax)\n",
    "c11.set_cmap('seismic')\n",
    "\n",
    "ax12.set_title( 'Cs; gap='+str(Gaps[1]) )\n",
    "c12 = ax12.pcolor(Cs_3D_fF[1,:,:], edgecolors='k', linewidths=4, vmin=Cs_colormin, vmax=Cs_colormax)\n",
    "c12.set_cmap('seismic')\n",
    "\n",
    "ax13.set_title( 'Cs; gap='+str(Gaps[2]) )\n",
    "c13 = ax13.pcolor(Cs_3D_fF[2,:,:], edgecolors='k', linewidths=4, vmin=Cs_colormin, vmax=Cs_colormax)\n",
    "c13.set_cmap('seismic')\n",
    "\n",
    "cbar1 = fig1.colorbar(c11, ax=ax14, orientation = 'vertical', fraction=1.0)\n",
    "\n",
    "##############\n",
    "\n",
    "ax21 = fig1.add_subplot(spec1[1, 0])\n",
    "ax22 = fig1.add_subplot(spec1[1, 1])\n",
    "ax23 = fig1.add_subplot(spec1[1, 2])\n",
    "ax24 = fig1.add_subplot(spec1[1, 3], visible=False) #colorbar\n",
    "\n",
    "ax21.set_title('Ct; gap='+str((Gaps[0]) ))\n",
    "c21 = ax21.pcolor(Ct_3D_fF[0,:,:], edgecolors='k', linewidths=4, vmin=Ct_colormin, vmax=Ct_colormax)\n",
    "c21.set_cmap('seismic')\n",
    "\n",
    "ax22.set_title( 'Ct; gap='+str(Gaps[1]) )\n",
    "c22 = ax22.pcolor(Ct_3D_fF[1,:,:], edgecolors='k', linewidths=4, vmin=Ct_colormin, vmax=Ct_colormax)\n",
    "c22.set_cmap('seismic')\n",
    "\n",
    "ax23.set_title( 'Ct; gap='+str(Gaps[2]) )\n",
    "c23 = ax23.pcolor(Ct_3D_fF[2,:,:], edgecolors='k', linewidths=4, vmin=Ct_colormin, vmax=Ct_colormax)\n",
    "c23.set_cmap('seismic')\n",
    "\n",
    "cbar2 = fig1.colorbar(c21, ax=ax24, orientation = 'vertical', fraction=1.0)\n",
    "\n",
    "#########################\n",
    "\n"
   ]
  },
  {
   "cell_type": "code",
   "execution_count": 11,
   "metadata": {},
   "outputs": [
    {
     "name": "stdout",
     "output_type": "stream",
     "text": [
      "\n",
      "LWRG = 2000, 400, 3 ,0.05 \n",
      "\n"
     ]
    },
    {
     "ename": "NameError",
     "evalue": "name 'print_C_from_file' is not defined",
     "output_type": "error",
     "traceback": [
      "\u001b[1;31m---------------------------------------------------------------------------\u001b[0m",
      "\u001b[1;31mNameError\u001b[0m                                 Traceback (most recent call last)",
      "\u001b[1;32m<ipython-input-11-b4618d0170b5>\u001b[0m in \u001b[0;36m<module>\u001b[1;34m()\u001b[0m\n\u001b[0;32m      6\u001b[0m \u001b[1;32mprint\u001b[0m \u001b[1;34m'\\nLWRG = 2000, 400, 3 ,0.05 \\n'\u001b[0m\u001b[1;33m\u001b[0m\u001b[0m\n\u001b[0;32m      7\u001b[0m \u001b[1;33m\u001b[0m\u001b[0m\n\u001b[1;32m----> 8\u001b[1;33m \u001b[0mprint_C_from_file\u001b[0m\u001b[1;33m(\u001b[0m\u001b[0mfilename\u001b[0m\u001b[1;33m)\u001b[0m\u001b[1;33m\u001b[0m\u001b[0m\n\u001b[0m\u001b[0;32m      9\u001b[0m \u001b[1;32mprint\u001b[0m\u001b[1;33m(\u001b[0m\u001b[1;34m'\\nConfirmed!'\u001b[0m\u001b[1;33m)\u001b[0m\u001b[1;33m\u001b[0m\u001b[0m\n",
      "\u001b[1;31mNameError\u001b[0m: name 'print_C_from_file' is not defined"
     ]
    }
   ],
   "source": [
    "### Check ####\n",
    "folder = 'D:\\\\Data\\\\Desktop\\\\HFSS_results\\\\__Vary_parameters__\\\\2_StripGeometry\\\\'\n",
    "filename = folder + '20200428_StripGeo_check_LWRG=2000,400,3,0.05.dat'\n",
    "\n",
    "### GOOD TARGET PARAMETERS ###\n",
    "print '\\nLWRG = 2000, 400, 3 ,0.05 \\n'\n",
    "\n",
    "print_C_from_file(filename)\n",
    "print('\\nConfirmed!')"
   ]
  },
  {
   "cell_type": "code",
   "execution_count": null,
   "metadata": {},
   "outputs": [],
   "source": []
  }
 ],
 "metadata": {
  "kernelspec": {
   "display_name": "Python 2",
   "language": "python",
   "name": "python2"
  },
  "language_info": {
   "codemirror_mode": {
    "name": "ipython",
    "version": 2
   },
   "file_extension": ".py",
   "mimetype": "text/x-python",
   "name": "python",
   "nbconvert_exporter": "python",
   "pygments_lexer": "ipython2",
   "version": "2.7.10"
  }
 },
 "nbformat": 4,
 "nbformat_minor": 2
}
