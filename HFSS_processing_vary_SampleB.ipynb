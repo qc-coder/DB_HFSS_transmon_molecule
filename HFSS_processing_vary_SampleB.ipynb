{
 "cells": [
  {
   "cell_type": "code",
   "execution_count": 40,
   "metadata": {
    "scrolled": true
   },
   "outputs": [],
   "source": [
    "import os\n",
    "import numpy as np\n",
    "\n",
    "import matplotlib.pyplot as plt\n",
    "import matplotlib.gridspec as gridspec\n",
    "from matplotlib import cm\n",
    "import matplotlib as mpl"
   ]
  },
  {
   "cell_type": "code",
   "execution_count": 42,
   "metadata": {
    "scrolled": true
   },
   "outputs": [],
   "source": [
    "def w(L,C):\n",
    "    w = 1.0 / np.sqrt(L*C)\n",
    "    return w / (2*np.pi)\n",
    "\n",
    "def C_from_L_fr(L, fr, ToPrint=True):\n",
    "    '''\n",
    "    L in Henry\n",
    "    fr in Hz\n",
    "    return C in Farads\n",
    "    '''\n",
    "    C = 1.0 /( L * (2*np.pi*fr)**2 )\n",
    "    if ToPrint:\n",
    "        print( 'L is:', round( 1e9*L, 3 ), '[nH];  fr is:', round( 1e-9*fr, 3 ), '[GHz];  C is:', round( 1e15*C, 2 ), '[fF]')\n",
    "    return C\n",
    "\n",
    "def get_Cs(Lj, fr_q):\n",
    "    L_q = L_j / 2\n",
    "    C_q = C_from_L_fr( L_q, fr_q )\n",
    "    C_s = C_q / 2\n",
    "    return C_s\n",
    "\n",
    "########################"
   ]
  },
  {
   "cell_type": "code",
   "execution_count": 43,
   "metadata": {
    "scrolled": true
   },
   "outputs": [],
   "source": [
    "## new good function ##\n",
    "def process_HFSS_frLC(filename, datlim=[None,None], title=''):\n",
    "    '''\n",
    "    To extract the Capsitance from simple LC oscillator (one mode, one L)\n",
    "    Takes file with shape [L, fr], fit the data and returns C=const\n",
    "    use datlim to crop the data\n",
    "    '''\n",
    "    data = np.loadtxt(filename)\n",
    "    \n",
    "    L_list = 1e-9*data[:,0]  ## in H\n",
    "    fr_list = data[:,1]      ##in Hz\n",
    "    x_data = L_list[ datlim[0]:datlim[1] ]\n",
    "    y_data = fr_list[ datlim[0]:datlim[1] ]\n",
    "    \n",
    "    from scipy import optimize\n",
    "    def freqLC(L, L_prst, C):\n",
    "        L_tot = L + np.abs(L_prst)\n",
    "        w = 1.0 / np.sqrt( L_tot*C )\n",
    "        return w / (2*np.pi)\n",
    "    init_L_prst = 0\n",
    "    init_C = 50e-15\n",
    "    init_params = [init_L_prst, init_C]\n",
    "    params, params_covariance = optimize.curve_fit(freqLC, x_data, y_data, p0=init_params)\n",
    "\n",
    "    [L_prst,C] = params \n",
    "    C_str = 'C = '+ str(round(1e15*C,3))+ ' [fF]'\n",
    "    L_str = 'Lprst = '+ str(round(1e9*L_prst,3))+ ' [nH]'\n",
    "    title_string = title+'\\n'+C_str+'\\n'+L_str\n",
    "    print(C_str)\n",
    "    print(L_str)\n",
    "\n",
    "    ##\n",
    "    fig, ax = plt.subplots()\n",
    "    ax.plot(1e9*x_data, 1e-9*y_data, 'o', label='HFSS')\n",
    "    ax.plot(1e9*x_data, 1e-9*freqLC(x_data, L_prst, C), '--', label='fit=(1/2pi) * ( 1/SQRT( C*(L+Lprst) ) )')\n",
    "\n",
    "    ax.legend()\n",
    "    ax.grid()\n",
    "    ax.set_title(title_string)\n",
    "    ax.set_xlabel('L [nH]')\n",
    "    ax.set_ylabel('Freq [GHz]')\n",
    "\n",
    "    return C"
   ]
  },
  {
   "cell_type": "markdown",
   "metadata": {},
   "source": [
    "# Two eigenmodes, La,Lj (full system) -> Cs,Ct"
   ]
  },
  {
   "cell_type": "code",
   "execution_count": 44,
   "metadata": {
    "scrolled": true
   },
   "outputs": [
    {
     "name": "stdout",
     "output_type": "stream",
     "text": [
      "Article Example:\n",
      "('C_s=', 114.60738508130959, 'fF')\n",
      "('C_t=', 174.7916418824165, 'fF')\n"
     ]
    }
   ],
   "source": [
    "def get_Cs_Ct_from_fQ_fA(fr_a, fr_q, L_a, L_j):\n",
    "    def get_Cs_from_frQ_FulSys(fr_q, L_j):\n",
    "        w_q = fr_q * 2*np.pi\n",
    "        C_s = 1.0/( L_j*w_q**2 )\n",
    "        return C_s\n",
    "    C_s = get_Cs_from_frQ_FulSys( fr_q, L_j )\n",
    "    w_a = fr_a * 2*np.pi\n",
    "    L = (L_j*L_a) / (2*L_j+L_a) ##shouldbe_correct\n",
    "#     L = L_a / (1. + (0.5*L_a/L_j) )  ##wrong\n",
    "    C_t = 1./(L * w_a**2) - 0.5*C_s\n",
    "    return [C_s, C_t]\n",
    "\n",
    "## article example ##\n",
    "print('Article Example:')\n",
    "[C_s, C_t] = get_Cs_Ct_from_fQ_fA(7.78e9, 6.284e9, 5.32e-9, 5.597e-9)\n",
    "print('C_s=',C_s*1e15, 'fF')\n",
    "print('C_t=',C_t*1e15, 'fF')"
   ]
  },
  {
   "cell_type": "code",
   "execution_count": 45,
   "metadata": {
    "scrolled": true
   },
   "outputs": [],
   "source": [
    "def print_C_from_file(filename):\n",
    "    '''\n",
    "    Takes file of data this shape:\n",
    "    L_j [nH]\tL_a [nH]\tfr1 [Hz]\tfr2 [Hz]\n",
    "    and print all data + Cs and Ct\n",
    "    '''\n",
    "    data = np.loadtxt(filename)\n",
    "\n",
    "    L_j_list = 1e-9*data[:,0] \n",
    "    L_a_list = 1e-9*data[:,1]\n",
    "    fr_q_list = data[:,2]\n",
    "    fr_a_list = data[:,3]\n",
    "    \n",
    "    Cs_list = []\n",
    "    Ct_list = []\n",
    "    for i in range(len( L_a_list )):\n",
    "        [C_s, C_t] = get_Cs_Ct_from_fQ_fA(fr_a_list[i], fr_q_list[i], L_a_list[i], L_j_list[i])\n",
    "        Cs_list.append(C_s)\n",
    "        Ct_list.append(C_t)\n",
    "        \n",
    "    print(' L_j ', 'L_a', '    Cs ', '  Ct  ', '  fQ', '   fA')\n",
    "    for i in range(len( L_j_list )):\n",
    "        print( 1e9*L_j_list[i], 1e9*L_a_list[i],' ', round(1e15*Cs_list[i]), round(1e15*Ct_list[i]),' ', round(1e-9*fr_q_list[i],2),'', round(1e-9*fr_a_list[i],2) )\n"
   ]
  },
  {
   "cell_type": "code",
   "execution_count": 46,
   "metadata": {
    "scrolled": true
   },
   "outputs": [],
   "source": [
    "### data processing ###\n",
    "class HFSS_Result_Circular:\n",
    "    La = 0\n",
    "    Lj = 0\n",
    "    \n",
    "    R1 = 0\n",
    "    Gap = 0\n",
    "    RingWidth = 0\n",
    "    SectorAngle = 0\n",
    "    \n",
    "    R2 = 0\n",
    "    R3 = 0\n",
    "    PerimeterCs = 0\n",
    "    AreaSideCt = 0\n",
    "    \n",
    "    \n",
    "    fr_q = 0\n",
    "    fr_a = 0\n",
    "    \n",
    "    Cs = 0\n",
    "    Ct = 0\n",
    "    \n",
    "    \n",
    "    def __init__(self, R1, Gap, RingWidth, SectorAngle, fr_q, fr_a, La=40e-9, Lj = 60e-9):\n",
    "        self.La  = La\n",
    "        self.Lj  = Lj\n",
    "        self.fr_a = fr_a\n",
    "        self.fr_q = fr_q\n",
    "        \n",
    "        self.R1  = R1\n",
    "        self.Gap = Gap\n",
    "        self.RingWidth = RingWidth\n",
    "        self.SectorAngle = SectorAngle\n",
    "        \n",
    "        self.R2 = R1 + Gap\n",
    "        self.R3 = self.R2 + RingWidth\n",
    "        self.PerimeterCs  = 2 *np.pi *(self.R2 - R1) /Gap\n",
    "        self.AreaSideCt = 0.5*SectorAngle  * np.pi *( self.R3**2 - self.R2**2 ) /( 2*self.R2 +RingWidth )\n",
    "\n",
    "        [self.Cs, self.Ct] = get_Cs_Ct_from_fQ_fA(fr_a, fr_q, self.La, self.Lj)\n",
    "    \n",
    "\n"
   ]
  },
  {
   "cell_type": "code",
   "execution_count": 48,
   "metadata": {
    "scrolled": true
   },
   "outputs": [
    {
     "name": "stdout",
     "output_type": "stream",
     "text": [
      "('C_s_target: ', 105.0)\n",
      "('C_t_target: ', 96.0)\n",
      "___________\n",
      "('C_s_target: ', 110.0)\n",
      "('C_t_target: ', 92.0)\n",
      "('Cs/Ct_target: ', 1.1956521739130435)\n"
     ]
    }
   ],
   "source": [
    "C_s_target_coef = 1.0\n",
    "C_t_target_coef = 1.5\n",
    "\n",
    "C_s = 105\n",
    "C_t = 64\n",
    "\n",
    "C_s_target = C_s * C_s_target_coef\n",
    "C_t_target = C_t * C_t_target_coef\n",
    "print('C_s_target: ', C_s_target)\n",
    "print('C_t_target: ', C_t_target)\n",
    "print('___________')\n",
    "C_s_target = 110.0\n",
    "C_t_target = 92.0\n",
    "print('C_s_target: ', C_s_target)\n",
    "print('C_t_target: ', C_t_target)\n",
    "print('Cs/Ct_target: ', C_s_target / C_t_target)"
   ]
  },
  {
   "cell_type": "code",
   "execution_count": 49,
   "metadata": {
    "scrolled": true
   },
   "outputs": [
    {
     "name": "stdout",
     "output_type": "stream",
     "text": [
      "('Cs wanted', 112.0, 117.0)\n",
      "('Ct wanted', 88.0, 95.0)\n",
      "\n",
      "\n",
      "('Cs wanted', 112)\n",
      "('Ct wanted', 95)\n",
      "('Cs/Ct wanted', 1.1789473684210525)\n"
     ]
    }
   ],
   "source": [
    "R_article_Cs = 110\n",
    "R_hfss_Cs    = 105\n",
    "R_article_Ct = 59\n",
    "R_hfss_Ct    = 64\n",
    "A = 1.062\n",
    "B = 1.486\n",
    "\n",
    "print( \"Cs wanted\",  round(min(A*R_article_Cs, A*R_hfss_Cs)), round(max(A*R_article_Cs, A*R_hfss_Cs)) )\n",
    "print( \"Ct wanted\",  round(min(B*R_article_Ct, B*R_hfss_Ct)), round(max(B*R_article_Ct, B*R_hfss_Ct)) )\n",
    "\n",
    "print('\\n')\n",
    "print(\"Cs wanted\", 112)\n",
    "print(\"Ct wanted\", 95)\n",
    "print(\"Cs/Ct wanted\", 112.0/95.0)"
   ]
  },
  {
   "cell_type": "markdown",
   "metadata": {},
   "source": [
    "#### plotter of all results "
   ]
  },
  {
   "cell_type": "code",
   "execution_count": 50,
   "metadata": {
    "scrolled": true
   },
   "outputs": [],
   "source": [
    "def plot_CsCt_scatter_R1(list_circ_res, fig=None, ax=None, target=[112, 95], figsize=[16,16], fontsize=10, color='red', marker='x', xlim=[None, None], ylim=[None, None]):\n",
    "    \"\"\" \n",
    "    Plot in a scatterplot the embeddings of the words specified in the list \"words\".\n",
    "    Include a label next to each point.\n",
    "    \"\"\"\n",
    "    if fig is None and ax is None:\n",
    "        fig = plt.figure(figsize=figsize)\n",
    "        ax = fig.add_subplot(1, 1, 1)        \n",
    "        ax.set_title('HFSS   CircularGeo   label=( R1 [um], Gap [um], RingWidth [um], Angle [%] )')\n",
    "        ax.axvline(target[0], color='gold', alpha=0.3)\n",
    "        ax.axhline(target[1], color='gold', alpha=0.3)\n",
    "        ax.set_xlabel('Cs [fF]')\n",
    "        ax.set_ylabel('Ct [fF]')\n",
    "        ax.grid(alpha=0.2)\n",
    "        ax.axis('equal')\n",
    "        \n",
    "    for i in list_circ_res:\n",
    "        x, y = round(1e15*i.Cs), round(1e15*i.Ct)\n",
    "        word = str(i.R1) +' ' +str(i.Gap) +' ' +str(i.RingWidth) +' ' +str(round(i.SectorAngle, 2)) \n",
    "        ax.scatter(x, y, marker=marker, color=color)\n",
    "        ax.text(x+.03, y+.03, word, fontsize=fontsize)\n",
    "        \n",
    "    \n",
    "    return [fig, ax]"
   ]
  },
  {
   "cell_type": "code",
   "execution_count": 51,
   "metadata": {
    "scrolled": true
   },
   "outputs": [],
   "source": [
    "def plot_CsCt_scatter_R3(list_circ_res, fig=None, ax=None, target=[112, 95], figsize=[16,16], fontsize=10, color='red', marker='x', xlim=[None, None], ylim=[None, None]):\n",
    "    \"\"\" \n",
    "    Plot in a scatterplot the embeddings of the words specified in the list \"words\".\n",
    "    Include a label next to each point.\n",
    "    \"\"\"\n",
    "    if fig is None and ax is None:\n",
    "        fig = plt.figure(figsize=figsize)\n",
    "        ax = fig.add_subplot(1, 1, 1)        \n",
    "        ax.set_title('HFSS   CircularGeo   label=( R3 [um], Gap [um], RingWidth [um], Angle [%] )')\n",
    "        ax.axvline(target[0], color='gold', alpha=0.3)\n",
    "        ax.axhline(target[1], color='gold', alpha=0.3)\n",
    "        ax.set_xlabel('Cs [fF]')\n",
    "        ax.set_ylabel('Ct [fF]')\n",
    "        ax.grid(alpha=0.2)\n",
    "        ax.axis('equal')\n",
    "        \n",
    "    for i in list_circ_res:\n",
    "        x, y = round(1e15*i.Cs), round(1e15*i.Ct)\n",
    "        word = str(i.R3) +' ' +str(i.Gap) +' ' +str(i.RingWidth) +' ' +str(round(i.SectorAngle, 2)) \n",
    "        ax.scatter(x, y, marker=marker, color=color)\n",
    "        ax.text(x+.03, y+.03, word, fontsize=fontsize)\n",
    "        \n",
    "    \n",
    "    return [fig, ax]"
   ]
  },
  {
   "cell_type": "markdown",
   "metadata": {},
   "source": [
    "# Plot what we have (prepare data first)"
   ]
  },
  {
   "cell_type": "markdown",
   "metadata": {},
   "source": [
    "#### R1, Gap, RingWidth, Theta"
   ]
  },
  {
   "cell_type": "code",
   "execution_count": 52,
   "metadata": {
    "scrolled": true
   },
   "outputs": [],
   "source": [
    "fig = None\n",
    "ax = None\n",
    "xlim = [None, None]\n",
    "ylim = [None, None]"
   ]
  },
  {
   "cell_type": "markdown",
   "metadata": {},
   "source": [
    "### Circular geo"
   ]
  },
  {
   "cell_type": "code",
   "execution_count": 53,
   "metadata": {
    "scrolled": true
   },
   "outputs": [],
   "source": [
    "list_circ_res = []\n",
    "def print_string(R1, Gap, Width, Theta, La, Lj, fr_q, fr_a):\n",
    "    [Cs, Ct] = get_Cs_Ct_from_fQ_fA(fr_a, fr_q, La, Lj)\n",
    "    print('|'+ \"{:5.0f}\".format(R1) +' |'+ \"{:5.0f}\".format(Gap) +' |'+ \"{:5.0f}\".format(Width) +' | '+ \"{:2.3f}\".format(Theta) +' ||'+ \"{:6.1f}\".format(1e15*Cs) +' |'+ \"{:6.1f}\".format(1e15*Ct)+' |'+\"{:5.2f}\".format(Cs/Ct)+' |' ) \n",
    "    s = HFSS_Result_Circular(R1,Gap,Width,Theta, fr_q, fr_a)\n",
    "    list_circ_res.append(s)\n",
    "    \n",
    "def print_string_R3(R3, Gap, Width, Theta, La, Lj, fr_q, fr_a):\n",
    "    [Cs, Ct] = get_Cs_Ct_from_fQ_fA(fr_a, fr_q, La, Lj)\n",
    "    print('|'+ \"{:5.0f}\".format(R3) +' |'+ \"{:5.0f}\".format(Gap) +' |'+ \"{:5.0f}\".format(Width) +' | '+ \"{:2.3f}\".format(Theta) +' ||'+ \"{:6.1f}\".format(1e15*Cs) +' |'+ \"{:6.1f}\".format(1e15*Ct)+' |'+\"{:5.2f}\".format(Cs/Ct)+' |' ) \n",
    "    R1 = R3 - Gap - Width\n",
    "    s = HFSS_Result_Circular(R1,Gap,Width,Theta, fr_q, fr_a)\n",
    "    list_circ_res.append(s)\n",
    "#     build_matrix( R3, Gap, Width, Theta, Cs, Ct )"
   ]
  },
  {
   "cell_type": "markdown",
   "metadata": {},
   "source": [
    "### 17 Jun Circular Geometry "
   ]
  },
  {
   "cell_type": "markdown",
   "metadata": {},
   "source": [
    "### All the CircularGeo Data is here (wires = 1 um)"
   ]
  },
  {
   "cell_type": "markdown",
   "metadata": {},
   "source": [
    "### process data and save again"
   ]
  },
  {
   "cell_type": "code",
   "execution_count": 54,
   "metadata": {
    "scrolled": true
   },
   "outputs": [
    {
     "data": {
      "text/plain": [
       "array([  5.00000000e-01,   1.60000000e+02,   5.00000000e+01,\n",
       "         5.00000000e+01,   2.62946155e+09,   4.16153019e+09])"
      ]
     },
     "execution_count": 54,
     "metadata": {},
     "output_type": "execute_result"
    }
   ],
   "source": [
    "## check file\n",
    "folder = 'D:\\\\Data\\\\=Exp_Data=\\\\Results\\\\HFSS_results\\\\1_CircularGeo_DB\\\\'\n",
    "filename = '20200617_Circular database_R3_EXTENDED_noComas'\n",
    "data = np.loadtxt(folder+filename+'.txt')\n",
    "data[0]"
   ]
  },
  {
   "cell_type": "code",
   "execution_count": 55,
   "metadata": {
    "scrolled": true
   },
   "outputs": [],
   "source": [
    "def process_and_save(folder, filename):\n",
    "#     data_format_string = 'R3, Gap, Width, SectorAngle, fr_q, fr_a'\n",
    "    data = np.loadtxt(folder+filename+'.txt')\n",
    "    ## add Cs Ct to the array\n",
    "    La, Lj = 40e-9, 60e-9\n",
    "\n",
    "    N_strings = len(data)\n",
    "    M_values = len(data[0])\n",
    "    print( 'N: '+ str(N_strings) )\n",
    "    print( 'M: '+ str(M_values) )\n",
    "    data_processed = np.zeros((N_strings, M_values+2))\n",
    "\n",
    "    for i in range(len(data)):\n",
    "        datstr = data[i]\n",
    "        R3, Gap, Width, SectorAngle, fr_q, fr_a  = datstr[0], datstr[1], datstr[2], datstr[3],  datstr[4], datstr[5]\n",
    "        [Cs, Ct] = get_Cs_Ct_from_fQ_fA(fr_a, fr_q, La, Lj)\n",
    "        data_processed[i] = [R3*1e3, Gap, Width, SectorAngle, fr_q*1e-9, fr_a*1e-9, Cs*1e15, Ct*1e15]\n",
    "        ## [um], [um], [um], [%], [GHz], [GHz], [fF], [fF]\n",
    "\n",
    "    header_string = 'Circular Geometry HFSS (17 Jun 2020) \\n La = 40 [nH] Lj = 60 [nH] \\n R3 [um], Gap [um], RingWidth [um], SectorAngle [%], fr1[GHz], fr2[GHz], Cs[nH], Ct[nH]'\n",
    "    np.savetxt(folder+filename+'Done.txt', data_processed, header=header_string)\n",
    "    print('done')\n",
    "    return \n",
    "\n",
    "\n",
    "#################################################\n",
    "folder = 'D:\\\\Data\\\\=Exp_Data=\\\\Results\\\\HFSS_results\\\\CircularGeo_DB\\\\'\n",
    "filename = '20200617_Circular database_R3_EXTENDED_noComas'\n",
    "##\n",
    "##\n",
    "##\n",
    "# process_and_save(folder, filename)  ## be carefull when switch it ON\n",
    "##\n",
    "##\n",
    "##"
   ]
  },
  {
   "cell_type": "markdown",
   "metadata": {},
   "source": [
    "____________"
   ]
  },
  {
   "cell_type": "markdown",
   "metadata": {},
   "source": [
    "# Work on\n"
   ]
  },
  {
   "cell_type": "markdown",
   "metadata": {},
   "source": [
    "### Circular with assimetric shift 520"
   ]
  },
  {
   "cell_type": "code",
   "execution_count": 57,
   "metadata": {},
   "outputs": [
    {
     "name": "stdout",
     "output_type": "stream",
     "text": [
      "|----------------------------------------------------|\n",
      "\n",
      "=======06/07/2020========================================================\n",
      "\n",
      "|----------------------------------------------------|\n",
      "|  R3  |  Gap | Width| Theta |StAng_c||  Cs   |   Ct  | Cs/Ct|\n",
      "Wires 8um repeat decided parameters more precise 0.001% freq\n",
      "|  710 |  140 |   70 | 0.750 | 1.000 || 125.4 | 122.8 | 1.02 |\n",
      "|  710 |  140 |   70 | 0.750 | 1.000 || 123.2 | 121.0 | 1.02 |\n"
     ]
    }
   ],
   "source": [
    "def add_point(x, y, text='', ax=ax, fontsize=8, marker='x', color='k'):\n",
    "    ax.scatter(x, y, marker=marker, color=color)\n",
    "    ax.text(x+.1, y+.1, text, fontsize=fontsize)\n",
    "    \n",
    "def print_string_R3_assim(R3, Gap, Width, Theta, ThetaStruc, La, Lj, fr_q, fr_a, PLOT=True, color='k', marker='x'):\n",
    "    [Cs, Ct] = get_Cs_Ct_from_fQ_fA(fr_a, fr_q, La, Lj)\n",
    "    print('|'+ \"{:5.0f}\".format(R3) +' |'+ \"{:5.0f}\".format(Gap) +' |'+ \"{:5.0f}\".format(Width) +' | '+ \"{:2.3f}\".format(Theta)+' | '+ \"{:2.3f}\".format(ThetaStruc) +' ||'+ \"{:6.1f}\".format(1e15*Cs) +' |'+ \"{:6.1f}\".format(1e15*Ct)+' |'+\"{:5.2f}\".format(Cs/Ct)+' |' ) \n",
    "    R1 = R3 - Gap - Width\n",
    "    s = HFSS_Result_Circular(R1,Gap,Width,Theta, fr_q, fr_a)\n",
    "    list_circ_res.append(s)\n",
    "#     if PLOT:\n",
    "#         add_point(1e15*Cs, 1e15*Ct, text=str(R3)+', '+str(Gap)+', '+str(Width)+', '+str(Theta)+', '+str(ThetaStruc), color=color, marker=marker)\n",
    "\n",
    "\n",
    "print('|----------------------------------------------------|')\n",
    "print( '\\n=======06/07/2020========================================================\\n')\n",
    "print('|----------------------------------------------------|')\n",
    "print('|  R3  |  Gap | Width| Theta |StAng_c||  Cs   |   Ct  | Cs/Ct|')\n",
    "print('Wires 8um repeat decided parameters more precise 0.001% freq')\n",
    "                ## |  R3  |  Gap | Width| Theta |StAng_c|     \n",
    "print_string_R3_assim(710,   140,    70,   0.75,  1.0,   40e-9, 60e-9, 1.83513e9, 3.01704e9)\n",
    "print_string_R3_assim(710,   140,    70,   0.75,  1.0,   40e-9, 60e-9, 1.85129e9, 3.04124e9)"
   ]
  },
  {
   "cell_type": "code",
   "execution_count": 58,
   "metadata": {},
   "outputs": [
    {
     "name": "stdout",
     "output_type": "stream",
     "text": [
      "|----------------------------------------------------|\n",
      "\n",
      "=======03/07/2020========================================================\n",
      "\n",
      "|----------------------------------------------------|\n",
      "|  R3  |  Gap | Width| Theta |StAng_c||  Cs   |   Ct  | Cs/Ct|\n",
      "Wires 8um\n",
      "Substrate thikness 0.28 mm\n",
      "|  650 |  120 |   60 | 0.750 | 1.000 || 118.2 | 110.6 | 1.07 |\n",
      "Substrate thikness 0.3 mm\n",
      "|  650 |  120 |   60 | 0.750 | 1.000 || 119.2 | 111.7 | 1.07 |\n",
      "|  700 |  120 |   60 | 0.750 | 1.000 || 131.3 | 118.0 | 1.11 |\n",
      "|  700 |  140 |   80 | 0.750 | 1.000 || 123.1 | 126.1 | 0.98 |\n",
      "|  650 |  140 |   60 | 0.750 | 1.000 || 111.1 | 111.0 | 1.00 |\n",
      "|  700 |  140 |   60 | 0.750 | 1.000 || 122.4 | 116.6 | 1.05 |\n",
      "|  750 |  140 |   60 | 0.750 | 1.000 || 133.7 | 122.8 | 1.09 |\n",
      "|  720 |  140 |   60 | 0.750 | 1.000 || 127.0 | 119.2 | 1.07 |\n",
      "|  720 |  150 |   60 | 0.750 | 1.000 || 123.1 | 118.9 | 1.04 |\n",
      "|  720 |  140 |   70 | 0.750 | 1.000 || 127.6 | 124.1 | 1.03 |\n",
      "|  700 |  140 |   70 | 0.750 | 1.000 || 123.0 | 121.5 | 1.01 |\n",
      "|  710 |  140 |   70 | 0.750 | 1.000 || 125.4 | 122.8 | 1.02 |\n"
     ]
    },
    {
     "data": {
      "image/png": "[encoded data removed]",
      "text/plain": [
       "<Figure size 1008x1008 with 1 Axes>"
      ]
     },
     "metadata": {
      "needs_background": "light"
     },
     "output_type": "display_data"
    }
   ],
   "source": [
    "target=[125, 122]\n",
    "fig = plt.figure(figsize=[14,14])\n",
    "ax = fig.add_subplot(1, 1, 1)        \n",
    "ax.set_title('Circular assimetric:\\n R3, Gap, Width, Theta, ThetStr ')\n",
    "ax.axvline(target[0], color='gold', alpha=0.3)\n",
    "ax.axhline(target[1], color='gold', alpha=0.3)\n",
    "ax.set_xlabel('Cs [fF]')\n",
    "ax.set_ylabel('Ct [fF]')\n",
    "ax.grid(alpha=0.2)\n",
    "ax.axis('equal')\n",
    "\n",
    "def add_point(x, y, text='', ax=ax, fontsize=8, marker='x', color='k'):\n",
    "    ax.scatter(x, y, marker=marker, color=color)\n",
    "    ax.text(x+.1, y+.1, text, fontsize=fontsize)\n",
    "    \n",
    "def print_string_R3_assim(R3, Gap, Width, Theta, ThetaStruc, La, Lj, fr_q, fr_a, PLOT=True, color='k', marker='x'):\n",
    "    [Cs, Ct] = get_Cs_Ct_from_fQ_fA(fr_a, fr_q, La, Lj)\n",
    "    print('|'+ \"{:5.0f}\".format(R3) +' |'+ \"{:5.0f}\".format(Gap) +' |'+ \"{:5.0f}\".format(Width) +' | '+ \"{:2.3f}\".format(Theta)+' | '+ \"{:2.3f}\".format(ThetaStruc) +' ||'+ \"{:6.1f}\".format(1e15*Cs) +' |'+ \"{:6.1f}\".format(1e15*Ct)+' |'+\"{:5.2f}\".format(Cs/Ct)+' |' ) \n",
    "    R1 = R3 - Gap - Width\n",
    "    s = HFSS_Result_Circular(R1,Gap,Width,Theta, fr_q, fr_a)\n",
    "    list_circ_res.append(s)\n",
    "    if PLOT:\n",
    "        add_point(1e15*Cs, 1e15*Ct, text=str(R3)+', '+str(Gap)+', '+str(Width)+', '+str(Theta)+', '+str(ThetaStruc), color=color, marker=marker)\n",
    "\n",
    "\n",
    "print('|----------------------------------------------------|')\n",
    "print( '\\n=======03/07/2020========================================================\\n')\n",
    "print('|----------------------------------------------------|')\n",
    "print('|  R3  |  Gap | Width| Theta |StAng_c||  Cs   |   Ct  | Cs/Ct|')\n",
    "print('Wires 8um')\n",
    "                ## |  R3  |  Gap | Width| Theta |StAng_c|\n",
    "print('Substrate thikness 0.28 mm')\n",
    "print_string_R3_assim(650,   120,    60,   0.75,  1.0,   40e-9, 60e-9, 1.88977e9, 3.15447e9, color='b')\n",
    "print('Substrate thikness 0.3 mm')\n",
    "print_string_R3_assim(650,   120,    60,   0.75,  1.0,   40e-9, 60e-9, 1.88213e9, 3.13963e9, color='magenta')\n",
    "print_string_R3_assim(700,   120,    60,   0.75,  1.0,   40e-9, 60e-9, 1.79342e9, 3.03212e9, color='b')\n",
    "print_string_R3_assim(700,   140,    80,   0.75,  1.0,   40e-9, 60e-9, 1.85196e9, 2.99982e9, color='k')\n",
    "print_string_R3_assim(650,   140,    60,   0.75,  1.0,   40e-9, 60e-9, 1.94965e9, 3.18482e9, color='g')\n",
    "print_string_R3_assim(700,   140,    60,   0.75,  1.0,   40e-9, 60e-9, 1.85689e9, 3.08130e9, color='g')\n",
    "print_string_R3_assim(750,   140,    60,   0.75,  1.0,   40e-9, 60e-9, 1.77721e9, 2.98415e9, color='g')\n",
    "print_string_R3_assim(720,   140,    60,   0.75,  1.0,   40e-9, 60e-9, 1.82357e9, 3.04040e9, color='g')\n",
    "print_string_R3_assim(720,   150,    60,   0.75,  1.0,   40e-9, 60e-9, 1.85169e9, 3.05876e9, color='r')\n",
    "print_string_R3_assim(720,   140,    70,   0.75,  1.0,   40e-9, 60e-9, 1.81859e9, 2.99767e9, color='r')\n",
    "print_string_R3_assim(700,   140,    70,   0.75,  1.0,   40e-9, 60e-9, 1.85240e9, 3.03766e9, color='r')\n",
    "print_string_R3_assim(710,   140,    70,   0.75,  1.0,   40e-9, 60e-9, 1.83513e9, 3.01704e9, color='r')"
   ]
  },
  {
   "cell_type": "code",
   "execution_count": 59,
   "metadata": {
    "scrolled": false
   },
   "outputs": [
    {
     "name": "stdout",
     "output_type": "stream",
     "text": [
      "|----------------------------------------------------|\n",
      "\n",
      "=======30/06/2020========================================================\n",
      "\n",
      "|----------------------------------------------------|\n",
      "|  R3  |  Gap | Width| Theta |StAng_c||  Cs   |   Ct  | Cs/Ct|\n",
      "Wires 8um\n",
      "|  700 |  200 |   50 | 0.800 | 1.000 || 104.4 | 116.5 | 0.90 |\n",
      "|  700 |  200 |   50 | 0.750 | 1.000 || 102.3 | 110.8 | 0.92 |\n",
      "|  700 |  200 |   50 | 0.700 | 0.700 ||  97.5 | 101.3 | 0.96 |\n",
      "\n",
      "=======02/07/2020========================================================\n",
      "\n",
      "|  700 |  200 |   50 | 0.700 | 1.000 ||  99.9 | 105.7 | 0.95 |\n",
      "|  750 |  200 |   50 | 0.700 | 0.700 || 107.3 | 106.5 | 1.01 |\n",
      "|  750 |  180 |   50 | 0.700 | 0.700 || 112.5 | 106.2 | 1.06 |\n",
      "|  750 |  180 |   50 | 0.700 | 0.800 || 113.8 | 107.8 | 1.05 |\n",
      "|  750 |  200 |   80 | 0.750 | 1.000 || 101.6 | 125.4 | 0.81 |\n",
      "|  750 |  180 |   80 | 0.750 | 1.000 || 107.9 | 125.1 | 0.86 |\n",
      "|  750 |  180 |   70 | 0.750 | 1.000 || 108.2 | 120.7 | 0.90 |\n",
      "|  750 |  180 |   60 | 0.750 | 1.000 || 108.1 | 115.7 | 0.93 |\n",
      "|  750 |  160 |   60 | 0.750 | 1.000 || 114.8 | 116.1 | 0.99 |\n",
      "|  750 |  140 |   60 | 0.750 | 1.000 || 122.4 | 116.6 | 1.05 |\n",
      "|  750 |  120 |   60 | 0.750 | 1.000 || 131.3 | 118.0 | 1.11 |\n",
      "|  650 |  120 |   60 | 0.750 | 1.000 || 119.2 | 111.7 | 1.07 |\n",
      "|  600 |  120 |   60 | 0.750 | 1.000 || 107.2 | 105.7 | 1.01 |\n",
      "|  620 |  120 |   60 | 0.750 | 1.000 || 111.9 | 107.9 | 1.04 |\n",
      "|  620 |  120 |   60 | 0.800 | 1.000 || 114.5 | 113.7 | 1.01 |\n",
      "|  620 |  140 |   60 | 0.800 | 1.000 || 106.5 | 113.1 | 0.94 |\n",
      "|  620 |  140 |   60 | 0.750 | 1.000 || 104.0 | 107.4 | 0.97 |\n",
      "|  650 |  140 |   60 | 0.750 | 1.000 || 111.1 | 111.0 | 1.00 |\n",
      "|  650 |  100 |   60 | 0.750 | 1.000 || 128.7 | 113.2 | 1.14 |\n",
      "|  650 |  120 |   80 | 0.750 | 1.000 || 119.1 | 120.6 | 0.99 |\n",
      "|----------------------------------------------------|\n",
      "best (new target):\n",
      "|  650 |  120 |   60 | 0.750 | 1.000 || 119.2 | 111.7 | 1.07 |\n"
     ]
    },
    {
     "data": {
      "image/png": "[encoded data removed]",
      "text/plain": [
       "<Figure size 1008x1008 with 1 Axes>"
      ]
     },
     "metadata": {
      "needs_background": "light"
     },
     "output_type": "display_data"
    }
   ],
   "source": [
    "target=[120, 112]\n",
    "fig = plt.figure(figsize=[14,14])\n",
    "ax = fig.add_subplot(1, 1, 1)        \n",
    "ax.set_title('Circular assimetric:\\n R3, Gap, Width, Theta, ThetStr ')\n",
    "ax.axvline(target[0], color='gold', alpha=0.3)\n",
    "ax.axhline(target[1], color='gold', alpha=0.3)\n",
    "ax.set_xlabel('Cs [fF]')\n",
    "ax.set_ylabel('Ct [fF]')\n",
    "ax.grid(alpha=0.2)\n",
    "ax.axis('equal')\n",
    "\n",
    "def add_point(x, y, text='', ax=ax, fontsize=8, marker='x', color='k'):\n",
    "    ax.scatter(x, y, marker=marker, color=color)\n",
    "    ax.text(x+.1, y+.1, text, fontsize=fontsize)\n",
    "    \n",
    "def print_string_R3_assim(R3, Gap, Width, Theta, ThetaStruc, La, Lj, fr_q, fr_a, PLOT=True, color='k', marker='x'):\n",
    "    [Cs, Ct] = get_Cs_Ct_from_fQ_fA(fr_a, fr_q, La, Lj)\n",
    "    print('|'+ \"{:5.0f}\".format(R3) +' |'+ \"{:5.0f}\".format(Gap) +' |'+ \"{:5.0f}\".format(Width) +' | '+ \"{:2.3f}\".format(Theta)+' | '+ \"{:2.3f}\".format(ThetaStruc) +' ||'+ \"{:6.1f}\".format(1e15*Cs) +' |'+ \"{:6.1f}\".format(1e15*Ct)+' |'+\"{:5.2f}\".format(Cs/Ct)+' |' ) \n",
    "    R1 = R3 - Gap - Width\n",
    "    s = HFSS_Result_Circular(R1,Gap,Width,Theta, fr_q, fr_a)\n",
    "    list_circ_res.append(s)\n",
    "    if PLOT:\n",
    "        add_point(1e15*Cs, 1e15*Ct, text=str(R3)+', '+str(Gap)+', '+str(Width)+', '+str(Theta)+', '+str(ThetaStruc), color=color, marker=marker)\n",
    "\n",
    "\n",
    "print('|----------------------------------------------------|')\n",
    "print( '\\n=======30/06/2020========================================================\\n')\n",
    "print('|----------------------------------------------------|')\n",
    "print('|  R3  |  Gap | Width| Theta |StAng_c||  Cs   |   Ct  | Cs/Ct|')\n",
    "print('Wires 8um')\n",
    "                ## |  R3  |  Gap | Width| Theta |StAng_c|\n",
    "print_string_R3_assim(700,   200,    50,   0.8,   1.0,   40e-9, 60e-9, 2.01132e9, 3.16427e9, color='grey') \n",
    "print_string_R3_assim(700,   200,    50,   0.75,  1.0,   40e-9, 60e-9, 2.03130e9, 3.22900e9, color='k') \n",
    "print_string_R3_assim(700,   200,    50,   0.7,   0.7,   40e-9, 60e-9, 2.08086e9, 3.35521e9, color='k') \n",
    "\n",
    "print( '\\n=======02/07/2020========================================================\\n')\n",
    "print_string_R3_assim(700,   200,    50,   0.7,   1.0,   40e-9, 60e-9, 2.05533e9, 3.29404e9, color='sienna') \n",
    "print_string_R3_assim(750,   200,    50,   0.7,   0.7,   40e-9, 60e-9, 1.98377e9, 3.24772e9, color='sienna') \n",
    "print_string_R3_assim(750,   180,    50,   0.7,   0.7,   40e-9, 60e-9, 1.93759e9, 3.22445e9, color='sienna') \n",
    "print_string_R3_assim(750,   180,    50,   0.7,   0.8,   40e-9, 60e-9, 1.92642e9, 3.20187e9, color='sienna') \n",
    "print_string_R3_assim(750,   200,    80,   0.75,  1.0,   40e-9, 60e-9, 2.03892e9, 3.09609e9, color='b')  #field is perfect\n",
    "print_string_R3_assim(750,   180,    80,   0.75,  1.0,   40e-9, 60e-9, 1.97844e9, 3.07141e9, color='b') \n",
    "print_string_R3_assim(750,   180,    70,   0.75,  1.0,   40e-9, 60e-9, 1.97546e9, 3.10821e9, color='b') \n",
    "print_string_R3_assim(750,   180,    60,   0.75,  1.0,   40e-9, 60e-9, 1.97621e9, 3.15371e9, color='b') \n",
    "print_string_R3_assim(750,   160,    60,   0.75,  1.0,   40e-9, 60e-9, 1.91773e9, 3.11995e9, color='r') \n",
    "print_string_R3_assim(750,   140,    60,   0.75,  1.0,   40e-9, 60e-9, 1.85689e9, 3.08130e9, color='r') \n",
    "print_string_R3_assim(750,   120,    60,   0.75,  1.0,   40e-9, 60e-9, 1.79342e9, 3.03212e9, color='g') \n",
    "# print_string_R3_assim(750,   100,    60,   0.75,  1.0,   40e-9, 60e-9, 1.72957e9, 2.97879e9, color='r') \n",
    "# print_string_R3_assim(750,    80,    60,   0.75,  1.0,   40e-9, 60e-9, 1.66216e9, 2.91680e9, color='r') \n",
    "print_string_R3_assim(650,   120,    60,   0.75,  1.0,   40e-9, 60e-9, 1.88213e9, 3.13963e9, color='magenta') \n",
    "print_string_R3_assim(600,   120,    60,   0.75,  1.0,   40e-9, 60e-9, 1.98448e9, 3.25545e9, color='g') \n",
    "print_string_R3_assim(620,   120,    60,   0.75,  1.0,   40e-9, 60e-9, 1.94244e9, 3.20990e9, color='g') \n",
    "print_string_R3_assim(620,   120,    60,   0.80,  1.0,   40e-9, 60e-9, 1.91977e9, 3.14230e9, color='violet') \n",
    "print_string_R3_assim(620,   140,    60,   0.80,  1.0,   40e-9, 60e-9, 1.99123e9, 3.18603e9, color='lime') \n",
    "print_string_R3_assim(620,   140,    60,   0.75,  1.0,   40e-9, 60e-9, 2.01457e9, 3.25496e9, color='lime') \n",
    "\n",
    "print_string_R3_assim(650,   140,    60,   0.75,  1.0,   40e-9, 60e-9, 1.94965e9, 3.18482e9, color='magenta') \n",
    "print_string_R3_assim(650,   100,    60,   0.75,  1.0,   40e-9, 60e-9, 1.81127e9, 3.08429e9, color='magenta') \n",
    "print_string_R3_assim(650,   120,    80,   0.75,  1.0,   40e-9, 60e-9, 1.88281e9, 3.06202e9, color='gold') \n",
    "print('|----------------------------------------------------|')\n",
    "print('best (new target):')\n",
    "print_string_R3_assim(650,   120,    60,   0.75,  1.0,   40e-9, 60e-9, 1.88213e9, 3.13963e9, color='magenta')"
   ]
  },
  {
   "cell_type": "code",
   "execution_count": 60,
   "metadata": {
    "scrolled": false
   },
   "outputs": [
    {
     "name": "stdout",
     "output_type": "stream",
     "text": [
      "\n",
      "=======29/06/2020========================================================\n",
      "\n",
      "_____Precise_model_15passes_0.03%error_____\n",
      "|----------------------------------------------------|\n",
      "|  R3  |  Gap | Width| Theta |StAng_c||  Cs   |   Ct  | Cs/Ct|\n",
      "Wires 8um\n",
      "|  850 |  200 |   50 | 0.500 | 1.000 || 115.2 | 101.6 | 1.13 |\n",
      "|  850 |  200 |   50 | 0.700 | 0.600 || 124.3 | 115.0 | 1.08 |\n",
      "|  850 |  240 |   50 | 0.700 | 0.600 || 113.5 | 114.3 | 0.99 |\n",
      "|----------------------------------------------------|\n",
      "\n",
      "=======30/06/2020========================================================\n",
      "\n",
      "|----------------------------------------------------|\n",
      "|  R3  |  Gap | Width| Theta |StAng_c||  Cs   |   Ct  | Cs/Ct|\n",
      "Wires 8um\n",
      "|  850 |  240 |   80 | 0.700 | 1.000 || 118.7 | 134.3 | 0.88 |\n",
      "|  800 |  240 |   80 | 0.700 | 1.000 || 108.9 | 129.2 | 0.84 |\n",
      "|  800 |  240 |   80 | 0.500 | 0.500 ||  90.7 |  94.6 | 0.96 |\n",
      "|  800 |  240 |   80 | 0.800 | 1.000 || 112.7 | 143.6 | 0.79 |\n",
      "|  800 |  200 |   80 | 0.800 | 1.000 || 125.6 | 143.6 | 0.87 |\n",
      "|  750 |  200 |   80 | 0.800 | 1.000 || 114.7 | 137.9 | 0.83 |\n",
      "|  700 |  200 |   80 | 0.800 | 1.000 || 103.5 | 132.4 | 0.78 |\n",
      "|  700 |  200 |   70 | 0.800 | 1.000 || 103.9 | 127.4 | 0.82 |\n",
      "|  700 |  200 |   60 | 0.800 | 1.000 || 104.2 | 122.3 | 0.85 |\n",
      "|  700 |  200 |   50 | 0.800 | 1.000 || 104.4 | 116.5 | 0.90 |\n"
     ]
    },
    {
     "data": {
      "image/png": "[encoded data removed]",
      "text/plain": [
       "<Figure size 1008x1008 with 1 Axes>"
      ]
     },
     "metadata": {
      "needs_background": "light"
     },
     "output_type": "display_data"
    }
   ],
   "source": [
    "target=[110, 92]\n",
    "fig = plt.figure(figsize=[14,14])\n",
    "ax = fig.add_subplot(1, 1, 1)        \n",
    "ax.set_title('Circular assimetric:\\n R3, Gap, Width, Theta, ThetStr ')\n",
    "ax.axvline(target[0], color='gold', alpha=0.3)\n",
    "ax.axhline(target[1], color='gold', alpha=0.3)\n",
    "ax.set_xlabel('Cs [fF]')\n",
    "ax.set_ylabel('Ct [fF]')\n",
    "ax.grid(alpha=0.2)\n",
    "ax.axis('equal')\n",
    "\n",
    "def add_point(x, y, text='', ax=ax, fontsize=8, marker='x', color='k'):\n",
    "    ax.scatter(x, y, marker=marker, color=color)\n",
    "    ax.text(x+.1, y+.1, text, fontsize=fontsize)\n",
    "    \n",
    "def print_string_R3_assim(R3, Gap, Width, Theta, ThetaStruc, La, Lj, fr_q, fr_a, PLOT=True, color='k', marker='x'):\n",
    "    [Cs, Ct] = get_Cs_Ct_from_fQ_fA(fr_a, fr_q, La, Lj)\n",
    "    print('|'+ \"{:5.0f}\".format(R3) +' |'+ \"{:5.0f}\".format(Gap) +' |'+ \"{:5.0f}\".format(Width) +' | '+ \"{:2.3f}\".format(Theta)+' | '+ \"{:2.3f}\".format(ThetaStruc) +' ||'+ \"{:6.1f}\".format(1e15*Cs) +' |'+ \"{:6.1f}\".format(1e15*Ct)+' |'+\"{:5.2f}\".format(Cs/Ct)+' |' ) \n",
    "    R1 = R3 - Gap - Width\n",
    "    s = HFSS_Result_Circular(R1,Gap,Width,Theta, fr_q, fr_a)\n",
    "    list_circ_res.append(s)\n",
    "    if PLOT:\n",
    "        add_point(1e15*Cs, 1e15*Ct, text=str(R3)+', '+str(Gap)+', '+str(Width)+', '+str(Theta)+', '+str(ThetaStruc), color=color, marker=marker)\n",
    "\n",
    "##############################################################################################\n",
    "print( '\\n=======29/06/2020========================================================\\n')\n",
    "print('_____Precise_model_15passes_0.03%error_____')\n",
    "print('|----------------------------------------------------|')\n",
    "print('|  R3  |  Gap | Width| Theta |StAng_c||  Cs   |   Ct  | Cs/Ct|')\n",
    "print('Wires 8um')\n",
    "print_string_R3_assim(850,   200,  50,   0.50,  1.0,   40e-9, 60e-9, 1.91469e9, 3.25682e9)\n",
    "print_string_R3_assim(850,   200,  50,   0.7,   0.6,   40e-9, 60e-9, 1.84308e9, 3.08799e9)\n",
    "print_string_R3_assim(850,   240,  50,   0.7,   0.6,   40e-9, 60e-9, 1.92871e9, 3.14168e9)\n",
    "print('|----------------------------------------------------|')\n",
    "\n",
    "print( '\\n=======30/06/2020========================================================\\n')\n",
    "print('|----------------------------------------------------|')\n",
    "print('|  R3  |  Gap | Width| Theta |StAng_c||  Cs   |   Ct  | Cs/Ct|')\n",
    "print('Wires 8um')\n",
    "                ## |  R3  |  Gap | Width| Theta |StAng_c|\n",
    "print_string_R3_assim(850,   240,    80,   0.7,   1.0,   40e-9, 60e-9, 1.88629e9, 2.95297e9, color='r')\n",
    "print_string_R3_assim(800,   240,    80,   0.7,   1.0,   40e-9, 60e-9, 1.96918e9, 3.03220e9, color='r')\n",
    "print_string_R3_assim(800,   240,    80,   0.5,   0.5,   40e-9, 60e-9, 2.15768e9, 3.47359e9, color='r')\n",
    "print_string_R3_assim(800,   240,    80,   0.8,   1.0,   40e-9, 60e-9, 1.93505e9, 2.90602e9, color='r')\n",
    "print_string_R3_assim(800,   200,    80,   0.8,   1.0,   40e-9, 60e-9, 1.83312e9, 2.86003e9, color='b')\n",
    "print_string_R3_assim(750,   200,    80,   0.8,   1.0,   40e-9, 60e-9, 1.91885e9, 2.94106e9, color='b')\n",
    "print_string_R3_assim(700,   200,    80,   0.8,   1.0,   40e-9, 60e-9, 2.01950e9, 3.02780e9, color='b')\n",
    "print_string_R3_assim(700,   200,    70,   0.8,   1.0,   40e-9, 60e-9, 2.01572e9, 3.06868e9, color='b')\n",
    "print_string_R3_assim(700,   200,    60,   0.8,   1.0,   40e-9, 60e-9, 2.01252e9, 3.11187e9, color='b')\n",
    "print_string_R3_assim(700,   200,    50,   0.8,   1.0,   40e-9, 60e-9, 2.01132e9, 3.16427e9, color='g') \n",
    "\n"
   ]
  },
  {
   "cell_type": "code",
   "execution_count": 61,
   "metadata": {
    "scrolled": true
   },
   "outputs": [
    {
     "data": {
      "text/plain": [
       "2.1812080536912752"
      ]
     },
     "execution_count": 61,
     "metadata": {},
     "output_type": "execute_result"
    }
   ],
   "source": [
    "130.0 / 59.6"
   ]
  },
  {
   "cell_type": "code",
   "execution_count": 62,
   "metadata": {
    "scrolled": false
   },
   "outputs": [
    {
     "name": "stdout",
     "output_type": "stream",
     "text": [
      "\n",
      "=======29/06/2020========================================================\n",
      "\n",
      "_____Precise_model_30passes_0.03%error_____\n",
      "|----------------------------------------------------|\n",
      "|  R3  |  Gap | Width| Theta |StAng_c||  Cs   |   Ct  | Cs/Ct|\n",
      "Wires 1um\n",
      "|  850 |  200 |   50 | 0.700 | 0.082 || 122.0 | 113.5 | 1.07 |\n",
      "|  850 |  220 |   50 | 0.700 | 0.082 || 116.5 | 113.0 | 1.03 |\n",
      "Wires 4um\n",
      "|  850 |  220 |   50 | 0.700 | 0.082 || 118.5 | 113.9 | 1.04 |\n",
      "Wires 8um\n",
      "|  850 |  220 |   50 | 0.700 | 0.082 || 119.0 | 114.9 | 1.04 |\n",
      "Wires 4um\n",
      "|  850 |  220 |   50 | 0.650 | 0.082 || 113.5 | 107.1 | 1.06 |\n",
      "|  850 |  220 |  100 | 0.650 | 0.082 || 115.8 | 127.3 | 0.91 |\n",
      "|  900 |  220 |  100 | 0.650 | 0.082 || 124.8 | 132.0 | 0.95 |\n",
      "|  950 |  220 |  100 | 0.650 | 0.082 || 133.7 | 136.9 | 0.98 |\n",
      "|  800 |  220 |  100 | 0.650 | 0.082 || 106.3 | 122.5 | 0.87 |\n",
      "|  800 |  220 |   80 | 0.650 | 0.082 || 106.5 | 115.0 | 0.93 |\n",
      "|  800 |  220 |   60 | 0.650 | 0.082 || 105.5 | 106.9 | 0.99 |\n",
      "|  800 |  220 |   40 | 0.650 | 0.082 || 103.5 |  97.5 | 1.06 |\n",
      "|  800 |  240 |  100 | 0.650 | 0.082 || 101.2 | 122.7 | 0.82 |\n",
      "|  800 |  220 |  100 | 0.650 | 0.082 || 106.3 | 122.5 | 0.87 |\n",
      "|  800 |  200 |  100 | 0.650 | 0.082 || 111.9 | 122.6 | 0.91 |\n",
      "|  800 |  200 |  100 | 0.650 | 0.500 || 111.7 | 122.5 | 0.91 |\n",
      "|  800 |  200 |  100 | 0.650 | 0.600 || 112.7 | 123.4 | 0.91 |\n",
      "|  800 |  200 |  100 | 0.650 | 0.700 || 114.5 | 124.7 | 0.92 |\n",
      "|  800 |  200 |  100 | 0.650 | 0.800 || 115.5 | 126.2 | 0.92 |\n",
      "|  800 |  200 |  100 | 0.650 | 0.900 || 116.5 | 128.1 | 0.91 |\n",
      "|  800 |  200 |  100 | 0.650 | 1.000 || 117.2 | 130.0 | 0.90 |\n",
      "|------------------------------------------------------------|\n"
     ]
    },
    {
     "data": {
      "image/png": "[encoded data removed]",
      "text/plain": [
       "<Figure size 1008x1008 with 1 Axes>"
      ]
     },
     "metadata": {
      "needs_background": "light"
     },
     "output_type": "display_data"
    }
   ],
   "source": [
    "target=[110, 92]\n",
    "fig = plt.figure(figsize=[14,14])\n",
    "ax = fig.add_subplot(1, 1, 1)        \n",
    "ax.set_title('Circular assimetric:\\n R3, Gap, Width, Theta, ThetStr ')\n",
    "ax.axvline(target[0], color='gold', alpha=0.3)\n",
    "ax.axhline(target[1], color='gold', alpha=0.3)\n",
    "ax.set_xlabel('Cs [fF]')\n",
    "ax.set_ylabel('Ct [fF]')\n",
    "ax.grid(alpha=0.2)\n",
    "ax.axis('equal')\n",
    "\n",
    "def add_point(x, y, text='', ax=ax, fontsize=8, marker='x', color='k'):\n",
    "    ax.scatter(x, y, marker=marker, color=color)\n",
    "    ax.text(x+.2, y+.4, text, fontsize=fontsize)\n",
    "    \n",
    "def print_string_R3_assim(R3, Gap, Width, Theta, ThetaStruc, La, Lj, fr_q, fr_a, PLOT=True, color='k', marker='x'):\n",
    "    [Cs, Ct] = get_Cs_Ct_from_fQ_fA(fr_a, fr_q, La, Lj)\n",
    "    print('|'+ \"{:5.0f}\".format(R3) +' |'+ \"{:5.0f}\".format(Gap) +' |'+ \"{:5.0f}\".format(Width) +' | '+ \"{:2.3f}\".format(Theta)+' | '+ \"{:2.3f}\".format(ThetaStruc) +' ||'+ \"{:6.1f}\".format(1e15*Cs) +' |'+ \"{:6.1f}\".format(1e15*Ct)+' |'+\"{:5.2f}\".format(Cs/Ct)+' |' ) \n",
    "    R1 = R3 - Gap - Width\n",
    "    s = HFSS_Result_Circular(R1,Gap,Width,Theta, fr_q, fr_a)\n",
    "    list_circ_res.append(s)\n",
    "    if PLOT:\n",
    "        add_point(1e15*Cs, 1e15*Ct, text=str(R3)+', '+str(Gap)+', '+str(Width)+', '+str(Theta)+', '+str(ThetaStruc), color=color, marker=marker)\n",
    "\n",
    "#############################################################################################\n",
    "\n",
    "print( '\\n=======29/06/2020========================================================\\n')\n",
    "print('_____Precise_model_30passes_0.03%error_____')\n",
    "print('|----------------------------------------------------|')\n",
    "print('|  R3  |  Gap | Width| Theta |StAng_c||  Cs   |   Ct  | Cs/Ct|')\n",
    "print('Wires 1um')\n",
    "                # '|  R3  |  Gap | Width| Theta |ThetStr||'\n",
    "print_string_R3_assim(850,   200,   50,   0.7,   0.082,    40e-9, 60e-9, 1.86028e9, 3.11101e9, PLOT=False)\n",
    "print_string_R3_assim(850,   220,   50,   0.7,   0.082,    40e-9, 60e-9, 1.90382e9, 3.14069e9, PLOT=False)\n",
    "print('Wires 4um')\n",
    "print_string_R3_assim(850,   220,   50,   0.7,   0.082,    40e-9, 60e-9, 1.88761e9, 3.12257e9, PLOT=False)\n",
    "print('Wires 8um')\n",
    "print_string_R3_assim(850,   220,   50,   0.7,   0.082,    40e-9, 60e-9, 1.88328e9, 3.11195e9, PLOT=False)\n",
    "print('Wires 4um')\n",
    "print_string_R3_assim(850,   220,   50,   0.65,  0.082,    40e-9, 60e-9, 1.92880e9, 3.21088e9, PLOT=False)\n",
    "\n",
    "## vary R3\n",
    "print_string_R3_assim(850,   220,  100,   0.65,  0.082,    40e-9, 60e-9, 1.90958e9, 3.01973e9, color='g', marker='+')\n",
    "print_string_R3_assim(900,   220,  100,   0.65,  0.082,    40e-9, 60e-9, 1.83921e9, 2.94725e9, color='g', marker='+')\n",
    "print_string_R3_assim(950,   220,  100,   0.65,  0.082,    40e-9, 60e-9, 1.77718e9, 2.87931e9, color='g', marker='+')\n",
    "print_string_R3_assim(800,   220,  100,   0.65,  0.082,    40e-9, 60e-9, 1.99283e9, 3.10073e9, color='g', marker='o')\n",
    "## vary Width\n",
    "print_string_R3_assim(800,   220,  80,   0.65,  0.082,    40e-9, 60e-9, 1.99112e9, 3.16851e9, color='b', marker='o')\n",
    "print_string_R3_assim(800,   220,  60,   0.65,  0.082,    40e-9, 60e-9, 2.00014e9, 3.25167e9, color='b', marker='o')\n",
    "print_string_R3_assim(800,   220,  40,   0.65,  0.082,    40e-9, 60e-9, 2.01989e9, 3.36385e9, color='b', marker='o')\n",
    "\n",
    "## vary Gap\n",
    "print_string_R3_assim(800,   240, 100,   0.65,  0.082,    40e-9, 60e-9, 2.04279e9, 3.12173e9, color='k', marker='+')\n",
    "print_string_R3_assim(800,   220, 100,   0.65,  0.082,    40e-9, 60e-9, 1.99283e9, 3.10073e9, color='k', marker='+') ##copy\n",
    "print_string_R3_assim(800,   200, 100,   0.65,  0.082,    40e-9, 60e-9, 1.94235e9, 3.07543e9, color='k', marker='+')\n",
    "\n",
    "## vary StrAngle_coef (0 - 1)\n",
    "print_string_R3_assim(800,   200, 100,   0.65,  0.5,    40e-9, 60e-9, 1.94379e9, 3.07669e9, color='orange', marker='d')\n",
    "print_string_R3_assim(800,   200, 100,   0.65,  0.6,    40e-9, 60e-9, 1.93524e9, 3.06527e9, color='orange', marker='d')\n",
    "print_string_R3_assim(800,   200, 100,   0.65,  0.7,    40e-9, 60e-9, 1.91979e9, 3.04595e9, color='orange', marker='d')\n",
    "print_string_R3_assim(800,   200, 100,   0.65,  0.8,    40e-9, 60e-9, 1.91145e9, 3.02977e9, color='orange', marker='d')\n",
    "print_string_R3_assim(800,   200, 100,   0.65,  0.9,    40e-9, 60e-9, 1.90386e9, 3.01065e9, color='orange', marker='d')\n",
    "print_string_R3_assim(800,   200, 100,   0.65,  1.0,    40e-9, 60e-9, 1.89821e9, 2.99279e9, color='orange', marker='d')\n",
    "\n",
    "print('|------------------------------------------------------------|')\n",
    "\n"
   ]
  },
  {
   "cell_type": "markdown",
   "metadata": {},
   "source": [
    "### Circular 501"
   ]
  },
  {
   "cell_type": "markdown",
   "metadata": {},
   "source": [
    "### Repeat precise measurement"
   ]
  },
  {
   "cell_type": "code",
   "execution_count": 63,
   "metadata": {
    "scrolled": true
   },
   "outputs": [
    {
     "name": "stdout",
     "output_type": "stream",
     "text": [
      "\n",
      "=======17/06/2020========================================================\n",
      "\n",
      "Wires 1um\n",
      "_____Precise_model_30passes_0.03%error_____\n",
      "|----------------------------------------------------|\n",
      "|  R3  |  Gap | Width| Theta ||  Cs   |   Ct  | Cs/Ct|\n",
      "|  850 |  200 |   50 | 0.500 || 107.6 |  93.6 | 1.15 |\n"
     ]
    }
   ],
   "source": [
    "print( '\\n=======17/06/2020========================================================\\n')\n",
    "print('Wires 1um')\n",
    "print('_____Precise_model_30passes_0.03%error_____')\n",
    "print('|----------------------------------------------------|')\n",
    "print('|  R3  |  Gap | Width| Theta ||  Cs   |   Ct  | Cs/Ct|')\n",
    "list_circ_res = []\n",
    "print_string_R3(850, 200,   50,   0.50,   40e-9, 60e-9, 1.98046e9, 3.38456e9)"
   ]
  },
  {
   "cell_type": "markdown",
   "metadata": {},
   "source": [
    "### 16 Jun Circular Geometry "
   ]
  },
  {
   "cell_type": "code",
   "execution_count": 64,
   "metadata": {
    "scrolled": true
   },
   "outputs": [
    {
     "name": "stdout",
     "output_type": "stream",
     "text": [
      "288.0 min\n",
      "4.8 hours\n",
      "0.2 days\n"
     ]
    }
   ],
   "source": [
    "### time ###\n",
    "speed = 2.0 #min/solution\n",
    "n = 4. # number of points\n",
    "\n",
    "# points = n**4\n",
    "# points = 4 * 3 * 3 * 4\n",
    "points = 144\n",
    "\n",
    "total_time_min = points *speed\n",
    "total_time_hours =  total_time_min / 60.0\n",
    "total_time_days = total_time_hours / 24.0\n",
    "print total_time_min, 'min'\n",
    "print total_time_hours, 'hours'\n",
    "print total_time_days, 'days'"
   ]
  },
  {
   "cell_type": "code",
   "execution_count": 65,
   "metadata": {
    "scrolled": true
   },
   "outputs": [
    {
     "name": "stdout",
     "output_type": "stream",
     "text": [
      "\n",
      "=======16/06/2020========================================================\n",
      "\n",
      "Wires 1um\n",
      "___vary R3_____\n",
      "|----------------------------------------------------|\n",
      "|  R3  |  Gap | Width| Theta ||  Cs   |   Ct  | Cs/Ct|\n",
      "|  600 |  200 |   70 | 0.650 ||  75.8 |  98.1 | 0.77 |\n",
      "|  650 |  200 |   70 | 0.650 ||  85.7 | 102.4 | 0.84 |\n",
      "|  700 |  200 |   70 | 0.650 ||  95.6 | 106.8 | 0.89 |\n",
      "|  750 |  200 |   70 | 0.650 || 105.1 | 111.8 | 0.94 |\n",
      "|  800 |  200 |   70 | 0.650 || 114.3 | 116.4 | 0.98 |\n",
      "|  850 |  200 |   70 | 0.650 || 123.4 | 121.0 | 1.02 |\n",
      "|  900 |  200 |   70 | 0.650 || 132.9 | 126.5 | 1.05 |\n",
      "|  950 |  200 |   70 | 0.650 || 142.0 | 132.4 | 1.07 |\n",
      "| 1000 |  200 |   70 | 0.650 || 150.8 | 137.9 | 1.09 |\n",
      "\n",
      "___vary Width_____\n",
      "|----------------------------------------------------|\n",
      "|  R3  |  Gap | Width| Theta ||  Cs   |   Ct  | Cs/Ct|\n",
      "|  750 |  200 |   50 | 0.650 || 103.8 | 102.8 | 1.01 |\n",
      "|  750 |  200 |   60 | 0.650 || 104.8 | 107.6 | 0.97 |\n",
      "|  750 |  200 |   70 | 0.650 || 105.1 | 111.8 | 0.94 |\n",
      "|  750 |  200 |   80 | 0.650 || 105.9 | 115.5 | 0.92 |\n",
      "|  750 |  200 |   90 | 0.650 || 104.9 | 119.3 | 0.88 |\n",
      "|  750 |  200 |  100 | 0.650 || 104.4 | 122.6 | 0.85 |\n",
      "\n",
      "___vary Teta_____\n",
      "|----------------------------------------------------|\n",
      "|  R3  |  Gap | Width| Theta ||  Cs   |   Ct  | Cs/Ct|\n",
      "|  750 |  200 |   70 | 0.400 ||  88.9 |  84.0 | 1.06 |\n",
      "|  750 |  200 |   70 | 0.450 ||  92.4 |  88.9 | 1.04 |\n",
      "|  750 |  200 |   70 | 0.500 ||  95.9 |  94.0 | 1.02 |\n",
      "|  750 |  200 |   70 | 0.550 ||  99.2 |  99.3 | 1.00 |\n",
      "|  750 |  200 |   70 | 0.600 || 102.2 | 105.3 | 0.97 |\n",
      "|  750 |  200 |   70 | 0.650 || 105.1 | 111.8 | 0.94 |\n",
      "|  750 |  200 |   70 | 0.700 || 108.0 | 117.9 | 0.92 |\n",
      "|  750 |  200 |   70 | 0.750 || 110.7 | 124.5 | 0.89 |\n",
      "|  750 |  200 |   70 | 0.800 || 113.1 | 131.5 | 0.86 |\n",
      "|  750 |  200 |   70 | 0.850 || 115.8 | 140.5 | 0.82 |\n",
      "\n",
      "___vary R3 (Teta=0.5)_____\n",
      "|----------------------------------------------------|\n",
      "|  R3  |  Gap | Width| Theta ||  Cs   |   Ct  | Cs/Ct|\n",
      "|  600 |  200 |   70 | 0.500 ||  70.0 |  82.2 | 0.85 |\n",
      "|  650 |  200 |   70 | 0.500 ||  78.8 |  85.9 | 0.92 |\n",
      "|  700 |  200 |   70 | 0.500 ||  87.5 |  90.3 | 0.97 |\n",
      "|  750 |  200 |   70 | 0.500 ||  95.9 |  94.0 | 1.02 |\n",
      "|  800 |  200 |   70 | 0.500 || 104.5 |  98.9 | 1.06 |\n",
      "|  850 |  200 |   70 | 0.500 || 112.9 | 103.8 | 1.09 |\n",
      "|  900 |  200 |   70 | 0.500 || 120.9 | 108.0 | 1.12 |\n",
      "|  950 |  200 |   70 | 0.500 || 129.2 | 113.3 | 1.14 |\n",
      "| 1000 |  200 |   70 | 0.500 || 135.7 | 116.8 | 1.16 |\n",
      "\n",
      "___vary Width (R3=852,G=200,T=0.5)_____\n",
      "|----------------------------------------------------|\n",
      "|  R3  |  Gap | Width| Theta ||  Cs   |   Ct  | Cs/Ct|\n",
      "|  850 |  200 |   50 | 0.500 || 110.6 |  96.6 | 1.15 |\n",
      "|  850 |  200 |   60 | 0.500 || 112.0 | 100.2 | 1.12 |\n",
      "|  850 |  200 |   70 | 0.500 || 112.9 | 103.8 | 1.09 |\n",
      "|  850 |  200 |   80 | 0.500 || 113.4 | 106.6 | 1.06 |\n",
      "|  850 |  200 |   90 | 0.500 || 113.4 | 109.4 | 1.04 |\n",
      "|  850 |  200 |  100 | 0.500 || 113.6 | 112.0 | 1.01 |\n",
      "\n",
      "=======17/06/2020========================================================\n",
      "\n",
      "Wires 1um\n",
      "_____Precise_model_30passes_0.03%error_____\n",
      "|----------------------------------------------------|\n",
      "|  R3  |  Gap | Width| Theta ||  Cs   |   Ct  | Cs/Ct|\n",
      "|  850 |  200 |   50 | 0.500 || 107.6 |  93.6 | 1.15 |\n",
      "\n",
      "\n",
      "\n",
      " HFSS-project :: V_shape_510_noMesh_1_R3_gap_width_Teta\n"
     ]
    },
    {
     "data": {
      "image/png": "[encoded data removed]",
      "text/plain": [
       "<Figure size 1152x1152 with 1 Axes>"
      ]
     },
     "metadata": {
      "needs_background": "light"
     },
     "output_type": "display_data"
    }
   ],
   "source": [
    "print( '\\n=======16/06/2020========================================================\\n')\n",
    "print('Wires 1um')\n",
    "\n",
    "print('___vary R3_____')\n",
    "print('|----------------------------------------------------|')\n",
    "print('|  R3  |  Gap | Width| Theta ||  Cs   |   Ct  | Cs/Ct|')\n",
    "list_circ_res = []\n",
    "print_string_R3(600, 200,    70,   0.65,    40e-9, 60e-9, 2.35936e9, 3.52318e9)\n",
    "print_string_R3(650, 200,    70,   0.65,    40e-9, 60e-9, 2.21889e9, 3.40937e9)\n",
    "print_string_R3(700, 200,    70,   0.65,    40e-9, 60e-9, 2.10180e9, 3.30486e9)\n",
    "print_string_R3(750, 200,    70,   0.65,    40e-9, 60e-9, 2.00427e9, 3.20565e9)\n",
    "print_string_R3(800, 200,    70,   0.65,    40e-9, 60e-9, 1.92175e9, 3.11927e9)\n",
    "print_string_R3(850, 200,    70,   0.65,    40e-9, 60e-9, 1.84969e9, 3.04013e9)\n",
    "print_string_R3(900, 200,    70,   0.65,    40e-9, 60e-9, 1.78259e9, 2.95869e9)\n",
    "print_string_R3(950, 200,    70,   0.65,    40e-9, 60e-9, 1.72402e9, 2.88155e9)\n",
    "print_string_R3(1000, 200,   70,   0.65,    40e-9, 60e-9, 1.67293e9, 2.81365e9)\n",
    "\n",
    "list_circ_res_R3_200_70_65 = list_circ_res\n",
    "list_circ_res=[]\n",
    "\n",
    "print('\\n___vary Width_____')\n",
    "print('|----------------------------------------------------|')\n",
    "print('|  R3  |  Gap | Width| Theta ||  Cs   |   Ct  | Cs/Ct|')\n",
    "list_circ_res = []\n",
    "print_string_R3(750, 200,    50,   0.65,    40e-9, 60e-9, 2.01716e9, 3.30392e9)\n",
    "print_string_R3(750, 200,    60,   0.65,    40e-9, 60e-9, 2.00698e9, 3.24895e9)\n",
    "print_string_R3(750, 200,    70,   0.65,    40e-9, 60e-9, 2.00427e9, 3.20565e9)\n",
    "print_string_R3(750, 200,    80,   0.65,    40e-9, 60e-9, 1.99679e9, 3.16589e9)\n",
    "print_string_R3(750, 200,    90,   0.65,    40e-9, 60e-9, 2.00614e9, 3.13530e9)\n",
    "print_string_R3(750, 200,    100,  0.65,    40e-9, 60e-9, 2.01136e9, 3.10847e9)\n",
    "\n",
    "list_circ_res_750_200_W_65 = list_circ_res\n",
    "list_circ_res=[]\n",
    "\n",
    "print('\\n___vary Teta_____')\n",
    "print('|----------------------------------------------------|')\n",
    "print('|  R3  |  Gap | Width| Theta ||  Cs   |   Ct  | Cs/Ct|')\n",
    "list_circ_res = []\n",
    "print_string_R3(750, 200,    70,   0.40,    40e-9, 60e-9, 2.17918e9, 3.62575e9)\n",
    "print_string_R3(750, 200,    70,   0.45,    40e-9, 60e-9, 2.13740e9, 3.53585e9)\n",
    "print_string_R3(750, 200,    70,   0.50,    40e-9, 60e-9, 2.09793e9, 3.44958e9)\n",
    "print_string_R3(750, 200,    70,   0.55,    40e-9, 60e-9, 2.06266e9, 3.36768e9)\n",
    "print_string_R3(750, 200,    70,   0.60,    40e-9, 60e-9, 2.03201e9, 3.28572e9)\n",
    "print_string_R3(750, 200,    70,   0.65,    40e-9, 60e-9, 2.00427e9, 3.20565e9)\n",
    "print_string_R3(750, 200,    70,   0.70,    40e-9, 60e-9, 1.97696e9, 3.13376e9)\n",
    "print_string_R3(750, 200,    70,   0.75,    40e-9, 60e-9, 1.95271e9, 3.06447e9)\n",
    "print_string_R3(750, 200,    70,   0.80,    40e-9, 60e-9, 1.93178e9, 2.99619e9)\n",
    "print_string_R3(750, 200,    70,   0.85,    40e-9, 60e-9, 1.90944e9, 2.91743e9)\n",
    "list_circ_res_750_200_70_T = list_circ_res\n",
    "list_circ_res=[]\n",
    "\n",
    "print('\\n___vary R3 (Teta=0.5)_____')\n",
    "print('|----------------------------------------------------|')\n",
    "print('|  R3  |  Gap | Width| Theta ||  Cs   |   Ct  | Cs/Ct|')\n",
    "list_circ_res = []\n",
    "print_string_R3(600, 200,    70,   0.5,    40e-9, 60e-9, 2.45521e9, 3.79515e9)\n",
    "print_string_R3(650, 200,    70,   0.5,    40e-9, 60e-9, 2.31506e9, 3.67167e9)\n",
    "print_string_R3(700, 200,    70,   0.5,    40e-9, 60e-9, 2.19708e9, 3.55014e9)\n",
    "print_string_R3(750, 200,    70,   0.5,    40e-9, 60e-9, 2.09793e9, 3.44958e9)\n",
    "print_string_R3(800, 200,    70,   0.5,    40e-9, 60e-9, 2.00997e9, 3.34301e9)\n",
    "print_string_R3(850, 200,    70,   0.5,    40e-9, 60e-9, 1.93413e9, 3.24651e9)\n",
    "print_string_R3(900, 200,    70,   0.5,    40e-9, 60e-9, 1.86871e9, 3.16587e9)\n",
    "print_string_R3(950, 200,    70,   0.5,    40e-9, 60e-9, 1.80740e9, 3.08065e9)\n",
    "print_string_R3(1000, 200,   70,   0.5,    40e-9, 60e-9, 1.76374e9, 3.02420e9)\n",
    "\n",
    "list_circ_res_R3_200_70_50 = list_circ_res\n",
    "list_circ_res=[]\n",
    "\n",
    "\n",
    "print('\\n___vary Width (R3=852,G=200,T=0.5)_____')\n",
    "print('|----------------------------------------------------|')\n",
    "print('|  R3  |  Gap | Width| Theta ||  Cs   |   Ct  | Cs/Ct|')\n",
    "list_circ_res = []\n",
    "print_string_R3(850, 200,    50,   0.5,    40e-9, 60e-9, 1.95341e9, 3.33374e9)\n",
    "print_string_R3(850, 200,    60,   0.5,    40e-9, 60e-9, 1.94128e9, 3.28777e9)\n",
    "print_string_R3(850, 200,    70,   0.5,    40e-9, 60e-9, 1.93413e9, 3.24651e9)\n",
    "print_string_R3(850, 200,    80,   0.5,    40e-9, 60e-9, 1.92948e9, 3.21538e9)\n",
    "print_string_R3(850, 200,    90,   0.5,    40e-9, 60e-9, 1.92923e9, 3.18794e9)\n",
    "print_string_R3(850, 200,    100,  0.5,    40e-9, 60e-9, 1.92762e9, 3.16305e9)\n",
    "\n",
    "list_circ_res_850_200_W_50 = list_circ_res\n",
    "list_circ_res=[]\n",
    "\n",
    "\n",
    "print( '\\n=======17/06/2020========================================================\\n')\n",
    "print('Wires 1um')\n",
    "print('_____Precise_model_30passes_0.03%error_____')\n",
    "print('|----------------------------------------------------|')\n",
    "print('|  R3  |  Gap | Width| Theta ||  Cs   |   Ct  | Cs/Ct|')\n",
    "list_circ_res = []\n",
    "print_string_R3(850, 200,   50,   0.50,   40e-9, 60e-9, 1.98046e9, 3.38456e9)\n",
    "\n",
    "list_prec_850_200_50_50 = list_circ_res\n",
    "list_circ_res=[]\n",
    "\n",
    "####################################################################################################################\n",
    "####################################################################################################################\n",
    "\n",
    "print('\\n\\n\\n HFSS-project :: V_shape_510_noMesh_1_R3_gap_width_Teta')\n",
    "fig = None\n",
    "ax = None\n",
    "xlim = [None, None]\n",
    "ylim = [None, None]\n",
    "\n",
    "\n",
    "[fig, ax] = plot_CsCt_scatter_R3( list_circ_res_750_200_W_65, marker='o', color='blue', fig=fig, ax=ax, xlim=xlim, ylim=ylim)\n",
    "\n",
    "[fig, ax] = plot_CsCt_scatter_R3( list_circ_res_R3_200_70_65, marker='+', color='red', fig=fig, ax=ax, xlim=xlim, ylim=ylim)\n",
    "\n",
    "[fig, ax] = plot_CsCt_scatter_R3( list_circ_res_750_200_70_T, marker='X', color='green', fig=fig, ax=ax, xlim=xlim, ylim=ylim)\n",
    "\n",
    "[fig, ax] = plot_CsCt_scatter_R3( list_circ_res_R3_200_70_50, marker='.', color='purple', fig=fig, ax=ax, xlim=xlim, ylim=ylim)\n",
    "\n",
    "[fig, ax] = plot_CsCt_scatter_R3( list_circ_res_850_200_W_50, marker='D', color='orange', fig=fig, ax=ax, xlim=xlim, ylim=ylim)\n",
    "\n",
    "[fig, ax] = plot_CsCt_scatter_R3( list_prec_850_200_50_50,    marker='D', color='red', fig=fig, ax=ax, xlim=xlim, ylim=ylim)\n"
   ]
  },
  {
   "cell_type": "markdown",
   "metadata": {},
   "source": [
    "______________"
   ]
  },
  {
   "cell_type": "markdown",
   "metadata": {},
   "source": [
    "### 11 Jun Circular Geometry "
   ]
  },
  {
   "cell_type": "code",
   "execution_count": 66,
   "metadata": {
    "scrolled": true
   },
   "outputs": [
    {
     "name": "stdout",
     "output_type": "stream",
     "text": [
      "\n",
      "=======11-12/06/2020========================================================\n",
      "\n",
      "Wires 1um\n",
      "vary Width and Angle\n",
      "|----------------------------------------------------|\n",
      "|  R1  | Gap  | Width| Theta ||  Cs   |   Ct  | Cs/Ct|\n",
      "|  500 |  120 |   30 | 0.800 || 105.5 | 105.7 | 1.00 |\n",
      "|  500 |  120 |   30 | 0.700 || 100.0 |  95.6 | 1.05 |\n",
      "|  500 |  120 |   30 | 0.600 ||  94.5 |  86.3 | 1.09 |\n",
      "|  500 |  120 |   30 | 0.500 ||  88.8 |  78.3 | 1.13 |\n",
      "|  500 |  120 |   40 | 0.800 || 109.4 | 113.5 | 0.96 |\n",
      "|  500 |  120 |   40 | 0.700 || 103.9 | 102.6 | 1.01 |\n",
      "|  500 |  120 |   40 | 0.600 ||  98.1 |  92.3 | 1.06 |\n",
      "|  500 |  120 |   40 | 0.500 ||  91.9 |  83.0 | 1.11 |\n",
      "|  500 |  120 |   50 | 0.800 || 112.5 | 120.7 | 0.93 |\n",
      "|  500 |  120 |   50 | 0.700 || 107.1 | 109.0 | 0.98 |\n",
      "|  500 |  120 |   50 | 0.600 || 101.2 |  97.7 | 1.04 |\n",
      "|  500 |  120 |   50 | 0.500 ||  94.8 |  87.9 | 1.08 |\n",
      "|  500 |  120 |   60 | 0.800 || 115.1 | 127.6 | 0.90 |\n",
      "|  500 |  120 |   60 | 0.700 || 109.9 | 115.0 | 0.96 |\n",
      "|  500 |  120 |   60 | 0.600 || 103.6 | 102.3 | 1.01 |\n",
      "|  500 |  120 |   60 | 0.500 ||  97.4 |  92.5 | 1.05 |\n",
      "|  500 |  120 |   70 | 0.800 || 117.6 | 134.2 | 0.88 |\n",
      "|  500 |  120 |   70 | 0.700 || 112.0 | 119.9 | 0.93 |\n",
      "|  500 |  120 |   70 | 0.600 || 106.0 | 107.6 | 0.99 |\n",
      "|  500 |  120 |   70 | 0.500 ||  99.3 |  96.0 | 1.04 |\n"
     ]
    }
   ],
   "source": [
    "# list_circ_res_500_120_30_x\n",
    "# list_circ_res_500_120_40_x\n",
    "# list_circ_res_500_120_50_x\n",
    "# list_circ_res_500_120_60_x\n",
    "# list_circ_res_500_120_70_x\n",
    "\n",
    "#### help to make table with R3 and freq for DataBase ###\n",
    "# def print_string(R1, Gap, Width, Theta, La, Lj, fr_q, fr_a):\n",
    "#     [Cs, Ct] = get_Cs_Ct_from_fQ_fA(fr_a, fr_q, La, Lj)\n",
    "#     print(\"{:0.3f}\".format( 1e-3*(R1+Gap+Width) ) +', '+ \"{:3.0f}\".format(Gap) +', '+ \"{:3.0f}\".format(Width) +', '+ \"{:2.0f}\".format(100*Theta) +','+ \"{:12.0f}\".format(fr_q)+','+ \"{:12.0f}\".format(fr_a) )  \n",
    "#     s = HFSS_Result_Circular(R1,Gap,Width,Theta, fr_q, fr_a)\n",
    "#     list_circ_res.append(s)\n",
    "# print('|  R3 mm| Gap  | Width| Theta || fr1, fr2')\n",
    "\n",
    "\n",
    "print( '\\n=======11-12/06/2020========================================================\\n')\n",
    "print('Wires 1um')\n",
    "print('vary Width and Angle')\n",
    "print('|----------------------------------------------------|')\n",
    "\n",
    "print('|  R1  | Gap  | Width| Theta ||  Cs   |   Ct  | Cs/Ct|')\n",
    "\n",
    "\n",
    "\n",
    "\n",
    "## Width = 30 ##\n",
    "list_circ_res = []\n",
    "print_string(500, 120,    30,   0.8,    40e-9, 60e-9, 2.00024e9, 3.26458e9)\n",
    "print_string(500, 120,    30,   0.7,    40e-9, 60e-9, 2.05421e9, 3.40544e9)\n",
    "print_string(500, 120,    30,   0.6,    40e-9, 60e-9, 2.11417e9, 3.55588e9)\n",
    "print_string(500, 120,    30,   0.5,    40e-9, 60e-9, 2.18095e9, 3.71090e9)\n",
    "list_circ_res_500_120_30_x = list_circ_res\n",
    "\n",
    "\n",
    "## Width = 40 ##\n",
    "list_circ_res = []\n",
    "print_string(500, 120,    40,   0.8,    40e-9, 60e-9, 1.96486e9, 3.16923e9)\n",
    "print_string(500, 120,    40,   0.7,    40e-9, 60e-9, 2.01591e9, 3.30574e9)\n",
    "print_string(500, 120,    40,   0.6,    40e-9, 60e-9, 2.07417e9, 3.45677e9)\n",
    "print_string(500, 120,    40,   0.5,    40e-9, 60e-9, 2.14316e9, 3.61863e9)\n",
    "list_circ_res_500_120_40_x = list_circ_res\n",
    "\n",
    "\n",
    "## Width = 50 ##\n",
    "list_circ_res = []\n",
    "print_string(500, 120,    50,   0.8,    40e-9, 60e-9, 1.93745e9, 3.08900e9)\n",
    "print_string(500, 120,    50,   0.7,    40e-9, 60e-9, 1.98515e9, 3.22349e9)\n",
    "print_string(500, 120,    50,   0.6,    40e-9, 60e-9, 2.04249e9, 3.37420e9)\n",
    "print_string(500, 120,    50,   0.5,    40e-9, 60e-9, 2.11079e9, 3.53269e9)\n",
    "list_circ_res_500_120_50_x = list_circ_res\n",
    "\n",
    "\n",
    "## Width = 60 ##\n",
    "list_circ_res = []\n",
    "print_string(500, 120,    60,   0.8,    40e-9, 60e-9, 1.91523e9, 3.02038e9)\n",
    "print_string(500, 120,    60,   0.7,    40e-9, 60e-9, 1.95965e9, 3.15192e9)\n",
    "print_string(500, 120,    60,   0.6,    40e-9, 60e-9, 2.01855e9, 3.31036e9)\n",
    "print_string(500, 120,    60,   0.5,    40e-9, 60e-9, 2.08172e9, 3.45754e9)\n",
    "list_circ_res_500_120_60_x = list_circ_res\n",
    "\n",
    "\n",
    "## Width = 70 ##\n",
    "list_circ_res = []\n",
    "print_string(500, 120,    70,   0.8,    40e-9, 60e-9, 1.89431e9, 2.95783e9)\n",
    "print_string(500, 120,    70,   0.7,    40e-9, 60e-9, 1.94188e9, 3.09879e9)\n",
    "print_string(500, 120,    70,   0.6,    40e-9, 60e-9, 1.99554e9, 3.24281e9)\n",
    "print_string(500, 120,    70,   0.5,    40e-9, 60e-9, 2.06141e9, 3.40510e9)\n",
    "list_circ_res_500_120_70_x = list_circ_res\n",
    "\n",
    "list_circ_res_k1 = list_circ_res_500_120_30_x + list_circ_res_500_120_40_x + list_circ_res_500_120_50_x + list_circ_res_500_120_60_x +list_circ_res_500_120_70_x "
   ]
  },
  {
   "cell_type": "code",
   "execution_count": null,
   "metadata": {
    "scrolled": true
   },
   "outputs": [],
   "source": [
    "l1 = [1,2,3]\n",
    "l2 = [4,5,6]\n",
    "l3 = l1 + l2\n",
    "l3"
   ]
  },
  {
   "cell_type": "markdown",
   "metadata": {},
   "source": [
    "### 10 Jun Circular Geometry "
   ]
  },
  {
   "cell_type": "code",
   "execution_count": null,
   "metadata": {
    "scrolled": true
   },
   "outputs": [],
   "source": [
    "list_circ_res = []\n",
    "print( '\\n=======10/06/2020========================================================\\n')\n",
    "print('Wires 1um')\n",
    "print('vary Angle')\n",
    "print('|----------------------------------------------------|')\n",
    "print('|  R1  | Gap  | Width| Theta ||  Cs   |   Ct  | Cs/Ct|')\n",
    "\n",
    "print_string(500, 120, 25,  0.65,   40e-9, 60e-9, 2.03750e9, 3.58280e9)\n",
    "print_string(500, 120, 30,  0.65,   40e-9, 60e-9, 2.01050e9, 3.51690e9)\n",
    "print_string(500, 120, 35,  0.65,   40e-9, 60e-9, 1.98754e9, 3.46154e9)\n",
    "print_string(500, 120, 40,  0.65,   40e-9, 60e-9, 1.96703e9, 3.41093e9)\n",
    "print_string(500, 120, 45,  0.65,   40e-9, 60e-9, 1.94521e9, 3.35361e9)\n",
    "print_string(500, 120, 50,  0.65,   40e-9, 60e-9, 1.93227e9, 3.32298e9)\n",
    "print_string(500, 120, 70,  0.65,   40e-9, 60e-9, 1.88071e9, 3.18249e9)\n",
    "\n",
    "\n",
    "list_circ_res_s0 = list_circ_res\n",
    "list_circ_res = []"
   ]
  },
  {
   "cell_type": "markdown",
   "metadata": {},
   "source": [
    "### 05 Jun Circular Geometry "
   ]
  },
  {
   "cell_type": "markdown",
   "metadata": {},
   "source": [
    "___________"
   ]
  },
  {
   "cell_type": "code",
   "execution_count": null,
   "metadata": {
    "scrolled": true
   },
   "outputs": [],
   "source": [
    "list_circ_res = []\n",
    "print( '\\n=======05/06/2020========================================================\\n')\n",
    "print('Wires 1um')\n",
    "print('vary Angle')\n",
    "print('|----------------------------------------------------|')\n",
    "\n",
    "print('|  R1  | Gap  | Width| Theta ||  Cs   |   Ct  | Cs/Ct|')\n",
    "\n",
    "print_string(500, 200, 35,  0.6,   40e-9, 60e-9, 2.08355e9, 3.48682e9)\n",
    "print_string(500, 200, 35,  0.65,  40e-9, 60e-9, 2.05872e9, 3.41495e9)\n",
    "print_string(500, 200, 35,  0.75,  40e-9, 60e-9, 1.99988e9, 3.27014e9)\n",
    "\n",
    "print_string(540, 200, 50,  0.5,  40e-9, 60e-9, 2.05855e9, 3.48117e9)\n",
    "print_string(540, 200, 50,  0.65, 40e-9, 60e-9, 1.95929e9, 3.24085e9)\n",
    "print_string(540, 200, 50,  0.7,  40e-9, 60e-9, 1.92840e9, 3.16770e9)\n",
    "print_string(540, 200, 50,  0.8,  40e-9, 60e-9, 1.87556e9, 3.02408e9)\n",
    "\n",
    "\n",
    "list_circ_res_s1 = list_circ_res\n",
    "list_circ_res = []"
   ]
  },
  {
   "cell_type": "code",
   "execution_count": 33,
   "metadata": {
    "scrolled": true
   },
   "outputs": [
    {
     "name": "stdout",
     "output_type": "stream",
     "text": [
      "\n",
      "=======05/06/2020========================================================\n",
      "\n",
      "Wires 1um\n",
      "|----------------------------------------------------|\n",
      "|  R1  | Gap  | Width| Theta ||  Cs   |   Ct  | Cs/Ct|\n",
      "|  550 |  100 |   50 | 0.650 || 126.0 |  99.8 | 1.26 |\n",
      "|  540 |  100 |   50 | 0.650 || 123.9 |  98.8 | 1.25 |\n",
      "|  530 |  100 |   50 | 0.650 || 121.6 |  97.4 | 1.25 |\n",
      "|  520 |  100 |   50 | 0.650 || 119.6 |  96.4 | 1.24 |\n",
      "|  510 |  100 |   50 | 0.650 || 117.5 |  95.2 | 1.23 |\n",
      "|  500 |  100 |   50 | 0.650 || 115.5 |  94.1 | 1.23 |\n",
      "|  490 |  100 |   50 | 0.650 || 113.3 |  93.0 | 1.22 |\n",
      "|  480 |  100 |   50 | 0.650 || 111.1 |  91.8 | 1.21 |\n",
      "|  470 |  100 |   50 | 0.650 || 109.0 |  90.7 | 1.20 |\n",
      "|  460 |  100 |   50 | 0.650 || 109.5 |  90.3 | 1.21 |\n",
      "|  450 |  100 |   50 | 0.650 || 104.9 |  88.5 | 1.19 |\n",
      "|----------------------------------------------------|\n",
      "|  550 |  120 |   50 | 0.650 || 122.0 | 100.8 | 1.21 |\n",
      "|  540 |  120 |   50 | 0.650 || 120.0 |  99.6 | 1.20 |\n",
      "|  530 |  120 |   50 | 0.650 || 117.9 |  98.5 | 1.20 |\n",
      "|  520 |  120 |   50 | 0.650 || 115.9 |  97.4 | 1.19 |\n",
      "|  510 |  120 |   50 | 0.650 || 114.0 |  96.5 | 1.18 |\n",
      "|  500 |  120 |   50 | 0.650 || 111.9 |  95.2 | 1.17 |\n",
      "|  490 |  120 |   50 | 0.650 || 109.9 |  94.1 | 1.17 |\n",
      "|  480 |  120 |   50 | 0.650 || 107.8 |  93.1 | 1.16 |\n",
      "|  470 |  120 |   50 | 0.650 || 105.9 |  92.1 | 1.15 |\n",
      "|  460 |  120 |   50 | 0.650 || 103.7 |  91.0 | 1.14 |\n",
      "|  450 |  120 |   50 | 0.650 || 101.8 |  90.0 | 1.13 |\n",
      "|----------------------------------------------------|\n",
      "|  550 |  140 |   50 | 0.650 || 118.9 | 102.0 | 1.17 |\n",
      "|  540 |  140 |   50 | 0.650 || 116.6 | 100.7 | 1.16 |\n",
      "|  530 |  140 |   50 | 0.650 || 114.8 |  99.8 | 1.15 |\n",
      "|  520 |  140 |   50 | 0.650 || 112.9 |  98.8 | 1.14 |\n",
      "|  510 |  140 |   50 | 0.650 || 111.0 |  97.7 | 1.14 |\n",
      "|  500 |  140 |   50 | 0.650 || 109.1 |  96.7 | 1.13 |\n",
      "|  490 |  140 |   50 | 0.650 || 107.2 |  95.8 | 1.12 |\n",
      "|  480 |  140 |   50 | 0.650 || 105.3 |  94.7 | 1.11 |\n",
      "|  470 |  140 |   50 | 0.650 || 103.2 |  93.6 | 1.10 |\n",
      "|  460 |  140 |   50 | 0.650 || 101.3 |  92.7 | 1.09 |\n",
      "|  450 |  140 |   50 | 0.650 ||  99.2 |  91.6 | 1.08 |\n",
      "|----------------------------------------------------|\n",
      "|  550 |  160 |   50 | 0.650 || 116.0 | 103.5 | 1.12 |\n",
      "|  540 |  160 |   50 | 0.650 || 114.0 | 102.3 | 1.11 |\n",
      "|  530 |  160 |   50 | 0.650 || 112.4 | 101.5 | 1.11 |\n",
      "|  520 |  160 |   50 | 0.650 || 110.6 | 100.3 | 1.10 |\n",
      "|  510 |  160 |   50 | 0.650 || 108.6 |  99.3 | 1.09 |\n",
      "|  500 |  160 |   50 | 0.650 || 106.7 |  98.3 | 1.09 |\n",
      "|  490 |  160 |   50 | 0.650 || 104.8 |  97.3 | 1.08 |\n",
      "|  480 |  160 |   50 | 0.650 || 102.9 |  96.3 | 1.07 |\n",
      "|  470 |  160 |   50 | 0.650 || 101.2 |  95.3 | 1.06 |\n",
      "|  460 |  160 |   50 | 0.650 ||  99.1 |  94.3 | 1.05 |\n",
      "|  450 |  160 |   50 | 0.650 ||  97.2 |  93.2 | 1.04 |\n",
      "|----------------------------------------------------|\n",
      "|  550 |  180 |   50 | 0.650 || 113.6 | 104.9 | 1.08 |\n",
      "|  540 |  180 |   50 | 0.650 || 111.9 | 103.8 | 1.08 |\n",
      "|  530 |  180 |   50 | 0.650 || 110.0 | 103.0 | 1.07 |\n",
      "|  520 |  180 |   50 | 0.650 || 108.2 | 101.9 | 1.06 |\n",
      "|  510 |  180 |   50 | 0.650 || 106.6 | 101.0 | 1.05 |\n",
      "|  500 |  180 |   50 | 0.650 || 104.7 | 100.1 | 1.05 |\n",
      "|  490 |  180 |   50 | 0.650 || 103.0 |  99.3 | 1.04 |\n",
      "|  480 |  180 |   50 | 0.650 || 101.4 |  98.6 | 1.03 |\n",
      "|  470 |  180 |   50 | 0.650 ||  99.2 |  97.1 | 1.02 |\n",
      "|  460 |  180 |   50 | 0.650 ||  97.4 |  96.3 | 1.01 |\n",
      "|  450 |  180 |   50 | 0.650 ||  95.4 |  95.3 | 1.00 |\n",
      "|----------------------------------------------------|\n",
      "|  550 |  200 |   50 | 0.650 || 111.9 | 107.1 | 1.05 |\n",
      "|  540 |  200 |   50 | 0.650 || 110.0 | 105.8 | 1.04 |\n",
      "|  530 |  200 |   50 | 0.650 || 108.5 | 105.1 | 1.03 |\n",
      "|  520 |  200 |   50 | 0.650 || 106.3 | 103.8 | 1.02 |\n",
      "|  510 |  200 |   50 | 0.650 || 104.5 | 102.8 | 1.02 |\n",
      "|  500 |  200 |   50 | 0.650 || 103.3 | 102.2 | 1.01 |\n",
      "|  490 |  200 |   50 | 0.650 || 101.2 | 101.0 | 1.00 |\n",
      "|  480 |  200 |   50 | 0.650 ||  99.4 | 100.0 | 0.99 |\n",
      "|  470 |  200 |   50 | 0.650 ||  97.8 |  99.4 | 0.98 |\n",
      "|  460 |  200 |   50 | 0.650 ||  95.8 |  98.2 | 0.98 |\n",
      "|  450 |  200 |   50 | 0.650 ||  93.9 |  97.1 | 0.97 |\n"
     ]
    }
   ],
   "source": [
    "list_circ_res = []\n",
    "\n",
    "\n",
    "### new data ###\n",
    "print( '\\n=======05/06/2020========================================================\\n')\n",
    "print('Wires 1um')\n",
    "print('|----------------------------------------------------|')\n",
    "print('|  R1  | Gap  | Width| Theta ||  Cs   |   Ct  | Cs/Ct|')\n",
    "\n",
    "# Gap = 100\n",
    "print_string(550, 100, 50,  0.65,  40e-9, 60e-9, 1.83051e9, 3.22071e9)\n",
    "print_string(540, 100, 50,  0.65,  40e-9, 60e-9, 1.84581e9, 3.24101e9)\n",
    "print_string(530, 100, 50,  0.65,  40e-9, 60e-9, 1.86337e9, 3.26692e9)\n",
    "print_string(520, 100, 50,  0.65,  40e-9, 60e-9, 1.87888e9, 3.28811e9)\n",
    "print_string(510, 100, 50,  0.65,  40e-9, 60e-9, 1.89516e9, 3.31123e9)\n",
    "print_string(500, 100, 50,  0.65,  40e-9, 60e-9, 1.91218e9, 3.33525e9)\n",
    "print_string(490, 100, 50,  0.65,  40e-9, 60e-9, 1.93046e9, 3.35896e9)\n",
    "print_string(480, 100, 50,  0.65,  40e-9, 60e-9, 1.94912e9, 3.38542e9)\n",
    "print_string(470, 100, 50,  0.65,  40e-9, 60e-9, 1.96822e9, 3.41047e9)\n",
    "print_string(460, 100, 50,  0.65,  40e-9, 60e-9, 1.96327e9, 3.41148e9)\n",
    "print_string(450, 100, 50,  0.65,  40e-9, 60e-9, 2.00639e9, 3.46162e9)\n",
    "\n",
    "# Gap = 120\n",
    "print('|----------------------------------------------------|')\n",
    "print_string(550, 120, 50,  0.65,  40e-9, 60e-9, 1.86011e9, 3.23047e9)\n",
    "print_string(540, 120, 50,  0.65,  40e-9, 60e-9, 1.87580e9, 3.25263e9)\n",
    "print_string(530, 120, 50,  0.65,  40e-9, 60e-9, 1.89191e9, 3.27509e9)\n",
    "print_string(520, 120, 50,  0.65,  40e-9, 60e-9, 1.90830e9, 3.29733e9)\n",
    "print_string(510, 120, 50,  0.65,  40e-9, 60e-9, 1.92419e9, 3.31687e9)\n",
    "print_string(500, 120, 50,  0.65,  40e-9, 60e-9, 1.94265e9, 3.34233e9)\n",
    "print_string(490, 120, 50,  0.65,  40e-9, 60e-9, 1.95997e9, 3.36561e9)\n",
    "print_string(480, 120, 50,  0.65,  40e-9, 60e-9, 1.97920e9, 3.38933e9)\n",
    "print_string(470, 120, 50,  0.65,  40e-9, 60e-9, 1.99677e9, 3.41184e9)\n",
    "print_string(460, 120, 50,  0.65,  40e-9, 60e-9, 2.01756e9, 3.43846e9)\n",
    "print_string(450, 120, 50,  0.65,  40e-9, 60e-9, 2.03621e9, 3.46135e9)\n",
    "\n",
    "#Gap = 140\n",
    "print('|----------------------------------------------------|')\n",
    "print_string(550, 140, 50,  0.65,  40e-9, 60e-9, 1.88424e9, 3.23392e9)\n",
    "print_string(540, 140, 50,  0.65,  40e-9, 60e-9, 1.90242e9, 3.25837e9)\n",
    "print_string(530, 140, 50,  0.65,  40e-9, 60e-9, 1.91759e9, 3.27776e9)\n",
    "print_string(520, 140, 50,  0.65,  40e-9, 60e-9, 1.93363e9, 3.29813e9)\n",
    "print_string(510, 140, 50,  0.65,  40e-9, 60e-9, 1.95065e9, 3.32072e9)\n",
    "print_string(500, 140, 50,  0.65,  40e-9, 60e-9, 1.96756e9, 3.34196e9)\n",
    "print_string(490, 140, 50,  0.65,  40e-9, 60e-9, 1.98416e9, 3.36182e9)\n",
    "print_string(480, 140, 50,  0.65,  40e-9, 60e-9, 2.00219e9, 3.38563e9)\n",
    "print_string(470, 140, 50,  0.65,  40e-9, 60e-9, 2.02266e9, 3.41067e9)\n",
    "print_string(460, 140, 50,  0.65,  40e-9, 60e-9, 2.04115e9, 3.43202e9)\n",
    "print_string(450, 140, 50,  0.65,  40e-9, 60e-9, 2.06260e9, 3.45827e9)\n",
    "\n",
    "#Gap = 160\n",
    "print('|----------------------------------------------------|')\n",
    "print_string(550, 160, 50,  0.65,  40e-9, 60e-9, 1.90812e9, 3.23411e9)\n",
    "print_string(540, 160, 50,  0.65,  40e-9, 60e-9, 1.92461e9, 3.25587e9)\n",
    "print_string(530, 160, 50,  0.65,  40e-9, 60e-9, 1.93799e9, 3.27246e9)\n",
    "print_string(520, 160, 50,  0.65,  40e-9, 60e-9, 1.95390e9, 3.29437e9)\n",
    "print_string(510, 160, 50,  0.65,  40e-9, 60e-9, 1.97182e9, 3.31564e9)\n",
    "print_string(500, 160, 50,  0.65,  40e-9, 60e-9, 1.98896e9, 3.33637e9)\n",
    "print_string(490, 160, 50,  0.65,  40e-9, 60e-9, 2.00724e9, 3.35914e9)\n",
    "print_string(480, 160, 50,  0.65,  40e-9, 60e-9, 2.02504e9, 3.38027e9)\n",
    "print_string(470, 160, 50,  0.65,  40e-9, 60e-9, 2.04283e9, 3.40211e9)\n",
    "print_string(460, 160, 50,  0.65,  40e-9, 60e-9, 2.06445e9, 3.42670e9)\n",
    "print_string(450, 160, 50,  0.65,  40e-9, 60e-9, 2.08450e9, 3.45070e9)\n",
    "\n",
    "#Gap = 180\n",
    "print('|----------------------------------------------------|')\n",
    "print_string(550, 180, 50,  0.65,  40e-9, 60e-9, 1.92800e9, 3.23190e9)\n",
    "print_string(540, 180, 50,  0.65,  40e-9, 60e-9, 1.94274e9, 3.25109e9)\n",
    "print_string(530, 180, 50,  0.65,  40e-9, 60e-9, 1.95913e9, 3.26948e9)\n",
    "print_string(520, 180, 50,  0.65,  40e-9, 60e-9, 1.97525e9, 3.28965e9)\n",
    "print_string(510, 180, 50,  0.65,  40e-9, 60e-9, 1.99028e9, 3.30786e9)\n",
    "print_string(500, 180, 50,  0.65,  40e-9, 60e-9, 2.00782e9, 3.32825e9)\n",
    "print_string(490, 180, 50,  0.65,  40e-9, 60e-9, 2.02502e9, 3.34619e9)\n",
    "print_string(480, 180, 50,  0.65,  40e-9, 60e-9, 2.04007e9, 3.36326e9)\n",
    "print_string(470, 180, 50,  0.65,  40e-9, 60e-9, 2.06306e9, 3.39342e9)\n",
    "print_string(460, 180, 50,  0.65,  40e-9, 60e-9, 2.08174e9, 3.41245e9)\n",
    "print_string(450, 180, 50,  0.65,  40e-9, 60e-9, 2.10332e9, 3.43627e9)\n",
    "\n",
    "#Gap = 200\n",
    "print('|----------------------------------------------------|')\n",
    "print_string(550, 200, 50,  0.65,  40e-9, 60e-9, 1.94211e9, 3.21830e9)\n",
    "print_string(540, 200, 50,  0.65,  40e-9, 60e-9, 1.95929e9, 3.24085e9)\n",
    "print_string(530, 200, 50,  0.65,  40e-9, 60e-9, 1.97300e9, 3.25570e9)\n",
    "print_string(520, 200, 50,  0.65,  40e-9, 60e-9, 1.99263e9, 3.28040e9)\n",
    "print_string(510, 200, 50,  0.65,  40e-9, 60e-9, 2.00959e9, 3.30039e9)\n",
    "print_string(500, 200, 50,  0.65,  40e-9, 60e-9, 2.02190e9, 3.31327e9)\n",
    "print_string(490, 200, 50,  0.65,  40e-9, 60e-9, 2.04204e9, 3.33778e9)\n",
    "print_string(480, 200, 50,  0.65,  40e-9, 60e-9, 2.06043e9, 3.35840e9)\n",
    "print_string(470, 200, 50,  0.65,  40e-9, 60e-9, 2.07794e9, 3.37506e9)\n",
    "print_string(460, 200, 50,  0.65,  40e-9, 60e-9, 2.09883e9, 3.39911e9)\n",
    "print_string(450, 200, 50,  0.65,  40e-9, 60e-9, 2.11982e9, 3.42300e9)\n",
    "\n",
    "list_circ_res_s2 = list_circ_res\n",
    "list_circ_res = []"
   ]
  },
  {
   "cell_type": "markdown",
   "metadata": {},
   "source": [
    "### 04 Jun Circular Geometry "
   ]
  },
  {
   "cell_type": "code",
   "execution_count": null,
   "metadata": {
    "scrolled": true
   },
   "outputs": [],
   "source": [
    "list_circ_res = []\n",
    "\n",
    "\n",
    "print( '\\n=======04/06/2020========================================================\\n')\n",
    "print('Wires 1um')\n",
    "print('|----------------------------------------------------|')\n",
    "print('mesh: chip | edges | ingap | onPad | out1 | out2 | subwires')\n",
    "print('     0.2mm | 6um   |  10um | 30um  | 60um | 120um| 5um ')\n",
    "print('0.5%->19%->23%->0.05%')\n",
    "print('|----------------------------------------------------|')\n",
    "\n",
    "print('|  R1  | Gap  | Width| Theta ||  Cs   |   Ct  | Cs/Ct|')\n",
    "print_string(470, 105,  35,  0.81,  40e-9, 60e-9, 1.94105e9, 3.34025e9)\n",
    "print('mesh: no')\n",
    "print_string(400, 500,  100,  0.81,  40e-9, 60e-9, 2.21486e9, 2.74018e9)\n",
    "print_string(470, 200,   35,  0.81,  40e-9, 60e-9, 2.05134e9, 3.29260e9)\n",
    "print_string(500, 200,   35,  0.75,  40e-9, 60e-9, 1.99988e9, 3.27014e9)\n",
    "print_string(500, 200,   35,  0.65,  40e-9, 60e-9, 2.05872e9, 3.41495e9)\n",
    "print_string(500, 200,   35,  0.6,  40e-9, 60e-9, 2.08355e9, 3.48682e9)\n",
    "\n",
    "# print(\"no pre-mesh - and it's going extramly fast! Maybe, less corners->less field->less necessary mesh\")\n",
    "print_string(520, 200,   35,  0.6,  40e-9, 60e-9, 2.03684e9, 3.39899e9)\n",
    "print_string(540, 200,   35,  0.6,  40e-9, 60e-9, 2.00253e9, 3.35356e9)\n",
    "# print_string(540, 200,   50,  0.6,  40e-9, 60e-9, 1.94381e9, 3.22342e9) #14\n",
    "print_string(540, 200,   50,  0.6,  40e-9, 60e-9, 1.95600e9, 3.23402e9) #16\n",
    "\n",
    "list_circ_res_s3 = list_circ_res\n",
    "list_circ_res = []"
   ]
  },
  {
   "cell_type": "markdown",
   "metadata": {},
   "source": [
    "# Circular Geometry"
   ]
  },
  {
   "cell_type": "markdown",
   "metadata": {},
   "source": [
    "### 14 May -adding holes"
   ]
  },
  {
   "cell_type": "code",
   "execution_count": null,
   "metadata": {
    "scrolled": true
   },
   "outputs": [],
   "source": [
    "# def print_string(R1, Gap, Width, Theta, La, Lj, fr_q, fr_a):\n",
    "#     [Cs, Ct] = get_Cs_Ct_from_fQ_fA(fr_a, fr_q, La, Lj)\n",
    "#     print('|'+ \"{:5.0f}\".format(R1) +' |'+ \"{:5.0f}\".format(Gap) +' |'+ \"{:5.0f}\".format(Width) +' | '+ \"{:2.3f}\".format(Theta) +' ||'+ \"{:6.1f}\".format(1e15*Cs) +' |'+ \"{:6.1f}\".format(1e15*Ct)+' |'+\"{:5.2f}\".format(Cs/Ct)+' |' ) \n",
    "# #     return [Cs, Ct]\n",
    "\n",
    "print( '\\n=======14/05/2020========================================================\\n')\n",
    "print('No holes check!   Mesh: 555000; err:0.11%')\n",
    "print('|  R1  | Gap  | Width| Theta ||  Cs   |   Ct  | Cs/Ct|')\n",
    "print('|----------------------------------------------------|')\n",
    "print('Wires 4um')\n",
    "print_string(470, 110,  35,  0.81,  40e-9, 60e-9, 1.94619e9, 3.32989e9) \n",
    "print('Wires 1um')\n",
    "print_string(470, 110,  35,  0.81,  40e-9, 60e-9, 1.95025e9, 3.34110e9)\n"
   ]
  },
  {
   "cell_type": "code",
   "execution_count": null,
   "metadata": {
    "scrolled": true
   },
   "outputs": [],
   "source": [
    "# s = np.sin(np.pi/3)\n",
    "# c = np.cos(np.pi/3)\n",
    "# print s\n",
    "# print c\n",
    "# print s/c\n",
    "\n",
    "# print 20/1.7\n",
    "# #10 x 17 (xy)"
   ]
  },
  {
   "cell_type": "markdown",
   "metadata": {},
   "source": [
    "### 5-6 May"
   ]
  },
  {
   "cell_type": "code",
   "execution_count": null,
   "metadata": {
    "scrolled": true
   },
   "outputs": [],
   "source": [
    "def axer(ax, X, Cs_list, Ct_list,  Xname, xunits, RGWT):\n",
    "    Cs_o_Ct_list = []\n",
    "    for i in range(len(Cs_list)):\n",
    "        Cs_o_Ct_list.append(Cs_list[i] / Ct_list[i])\n",
    "    ax.set_title('Vary '+Xname+RGWT)\n",
    "    ax.plot(X, Cs_o_Ct_list, label='Cs/Ct', color='k')\n",
    "    ax.legend(loc='lower left')\n",
    "    ax.grid()\n",
    "    ax.set_xlabel(Xname+' '+xunits)\n",
    "    ax.set_ylabel('Cs/Ct ratio')\n",
    "    ax12 = ax.twinx() \n",
    "    ax12.set_ylabel('[fF]')\n",
    "    ax12.plot(X, Cs_list, label='Cs')\n",
    "    ax12.plot(X, Ct_list, label='Ct')\n",
    "    ax12.legend(loc='lower right')\n",
    "    return ax\n",
    "\n",
    "figsize = [12,8]\n",
    "\n",
    "fig1 = plt.figure(constrained_layout=True, figsize=figsize)\n",
    "spec1 = gridspec.GridSpec(ncols=2, nrows=2, figure=fig1)\n",
    "ax1 = fig1.add_subplot(spec1[0, 0])\n",
    "ax2 = fig1.add_subplot(spec1[0, 1])\n",
    "ax3 = fig1.add_subplot(spec1[1, 0])\n",
    "ax4 = fig1.add_subplot(spec1[1, 1])\n",
    "\n",
    "#### VARY Theta #####\n",
    "Theta_list = np.arange(0.3,0.81,0.1)\n",
    "Cs_list = [76.2, 83.2, 90.3, 96.0, 103.0, 107.0]\n",
    "Ct_list = [65.5, 74.1, 83.1, 91.9, 111.6, 114.3]\n",
    "RGWT = ' \\n(CircularGeo RGWT = 450, 160, 60, X'\n",
    "ax1 = axer(ax1, Theta_list, Cs_list, Ct_list,  'Theta', '[part]', RGWT)\n",
    "\n",
    "#### VARY Gap #####\n",
    "Gap_list = [70, 80, 90, 100, 110]\n",
    "Cs_list = [73.2, 71.5, 70.1, 68.9, 67.6]\n",
    "Ct_list = [93.9, 94.7, 95.7, 96.8, 97.9]\n",
    "RGWT = ' \\n(CircularGeo RGWT = 250, X, 120, 2/3'\n",
    "ax2 = axer(ax2, Gap_list, Cs_list, Ct_list,  'Gap', '[um]', RGWT)\n",
    "\n",
    "#### VARY Width #####\n",
    "Width_list = [40, 60, 100, 140]\n",
    "Cs_list = [56.2, 59.1,  63.2,  65.3]\n",
    "Ct_list = [70.1, 79.7, 102.2, 111.3]\n",
    "RGWT = ' \\n(CircularGeo RGWT = 250, 160, X, 2/3'\n",
    "ax3 = axer(ax3, Width_list, Cs_list, Ct_list,  'Width', '[um]', RGWT)\n",
    "\n",
    "\n",
    "#### VARY R1 #####\n",
    "r1_list = [277, 300, 400, 500]\n",
    "Cs_list = [69.3, 72.7, 93.6, 114.3]\n",
    "Ct_list = [94.6, 93.8, 102.6, 113.1]\n",
    "# ax4.set_title('Vary R1 \\n(CircularGeo RGWT = X, 160, 80, 2/3)')\n",
    "RGWT = ' \\n(CircularGeo RGWT = X, 160, 80, 2/3'\n",
    "ax4 = axer(ax4, r1_list, Cs_list, Ct_list,  'R1', '[um]', RGWT)\n"
   ]
  },
  {
   "cell_type": "code",
   "execution_count": null,
   "metadata": {
    "scrolled": true
   },
   "outputs": [],
   "source": [
    "list_circ_res = []\n",
    "\n",
    "\n",
    "print('\\n=======06/05/2020========================================================\\n')\n",
    "\n",
    "print('\\n___________CircularGeo Rounded!___________')\n",
    "print('\\n____try to achieve____')\n",
    "# print('|  R1  | Gap  | Width| Theta ||  Lj  |  La  |  Cs  |  Ct  |  fQ  |  fA   |'\n",
    "# print('|------------------------------------------------------------------------|'\n",
    "print('|  R1  | Gap  | Width| Theta ||  Cs   |   Ct  | Cs/Ct|')\n",
    "print('|----------------------------------------------------|')\n",
    "print_string(450, 120,  50,  0.8,  40e-9, 60e-9, 1.95110e9, 3.24179e9) \n",
    "print_string(450, 120,  25,  0.8,  40e-9, 60e-9, 2.05978e9, 3.52934e9) \n",
    "print_string(450, 120,  35,  0.8,  40e-9, 60e-9, 2.00697e9, 3.39446e9) \n",
    "print_string(460, 110,  35,  0.8,  40e-9, 60e-9, 1.97118e9, 3.36950e9) \n",
    "print('ok enough for now. Need to add holes')\n",
    "print_string(470, 110,  35,  0.8,  40e-9, 60e-9, 1.94961e9, 3.33987e9) \n",
    "print_string(470, 110,  35,  0.81,  40e-9, 60e-9, 1.94619e9, 3.32989e9) \n",
    "\n",
    "\n",
    "\n",
    "print('\\n\\n___________CircularGeo___________')\n",
    "print('\\n____try to achieve____')\n",
    "print('|  R1  | Gap  | Width| Theta ||  Cs   |   Ct  | Cs/Ct|')\n",
    "print('|----------------------------------------------------|')\n",
    "print_string(450, 160,  60,  0.8,  40e-9, 60e-9, 1.98369e9, 3.17060e9) \n",
    "print_string(450, 120,  60,  0.8,  40e-9, 60e-9, 1.95945e9, 3.16347e9) \n",
    "print_string(450, 120,  50,  0.8,  40e-9, 60e-9, 1.99235e9, 3.26404e9) \n",
    "\n",
    "print('\\n____vary Theta____')\n",
    "print('RGWT = [450, 160, 60, X]')\n",
    "print('|  R1  | Gap  | Width| Theta ||  Cs   |   Ct  | Cs/Ct|')\n",
    "print('|----------------------------------------------------|')\n",
    "print_string(450, 160,  60,  0.3,  40e-9, 60e-9, 2.35307e9, 4.03668e9) \n",
    "print_string(450, 160,  60,  0.4,  40e-9, 60e-9, 2.25273e9, 3.82040e9)\n",
    "print_string(450, 160,  60,  0.5,  40e-9, 60e-9, 2.16280e9, 3.62859e9) \n",
    "print_string(450, 160,  60,  0.6,  40e-9, 60e-9, 2.09750e9, 3.47430e9) \n",
    "print_string(450, 160,  60,  0.7,  40e-9, 60e-9, 2.02407e9, 3.21750e9) \n",
    "print_string(450, 160,  60,  0.8,  40e-9, 60e-9, 1.98369e9, 3.17060e9) \n",
    "\n",
    "print('\\n____vary Gap____')\n",
    "print('RGWT = [250, X, 120, 2/3]')\n",
    "print('|  R1  | Gap  | Width| Theta ||  Cs   |   Ct  | Cs/Ct|')\n",
    "print('|----------------------------------------------------|')\n",
    "# print_string(250, 60,  120, 2./3.,  40e-9, 60e-9, 3.59522e9, 7.18884e9) #\n",
    "print_string(250,  70,  120, 2./3.,  40e-9, 60e-9, 2.40098e9, 3.59735e9)\n",
    "print_string(250,  80,  120, 2./3.,  40e-9, 60e-9, 2.43066e9, 3.59884e9)\n",
    "print_string(250,  90,  120, 2./3.,  40e-9, 60e-9, 2.45454e9, 3.59420e9)\n",
    "print_string(250, 100,  120, 2./3.,  40e-9, 60e-9, 2.47528e9, 3.586970e9)\n",
    "print_string(250, 110,  120, 2./3.,  40e-9, 60e-9, 2.49838e9, 3.58028e9)\n",
    "# print_string(250, 120,  120, 2./3.,  40e-9, 60e-9, 3.56000e9, 7.18000e9)  #\n",
    "print(' -----------------------------------------------------')\n",
    "\n",
    "\n",
    "\n",
    "print('\\n____vary Width Side____')\n",
    "print('RGWT = [250, 160, X, 2/3]')\n",
    "print('|  R1  | Gap  | Width| Theta ||  Cs   |   Ct  | Cs/Ct|')\n",
    "print('|----------------------------------------------------|')\n",
    "print_string(250, 160,  40, 2./3.,  40e-9, 60e-9, 2.74160e9, 4.14824e9)\n",
    "print_string(250, 160,  60, 2./3.,  40e-9, 60e-9, 2.67248e9, 3.93141e9)\n",
    "# print_string(250, 160,  80, 2./3.,  40e-9, 60e-9, 3.76650e9, 7.19068e9) #\n",
    "print_string(250, 160, 100, 2./3.,  40e-9, 60e-9, 2.58374e9, 3.55215e9)\n",
    "# print_string(250, 160, 120, 2./3.,  40e-9, 60e-9, 3.52141e9, 7.13371e9) #\n",
    "print_string(250, 160, 120, 2./3.,  40e-9, 60e-9, 3.52141e9, 3.52141e9) #try to overcome\n",
    "print_string(250, 160, 140, 2./3.,  40e-9, 60e-9, 2.54324e9, 3.42562e9)\n",
    "print_string(250, 160, 160, 2./3.,  40e-9, 60e-9, 3.52378e9, 3.31587e9)  #\n",
    "print(' -----------------------------------------------------')\n",
    "\n",
    "\n",
    "print('\\n=======05/05/2020========================================================\\n')\n",
    "print('\\n____RGWT = [X, X, X, 2/3] all')\n",
    "print('|  R1  | Gap  | Width| Theta ||  Cs   |   Ct  | Cs/Ct|')\n",
    "print('|----------------------------------------------------|')\n",
    "print_string(250, 120, 100, 2./3.,  40e-9, 60e-9, 3.66098e9, 7.19027e9)\n",
    "print_string(250, 160, 100, 2./3.,  40e-9, 60e-9, 2.58374e9, 3.55215e9)\n",
    "print_string(500, 160,  80, 2./3.,  40e-9, 60e-9, 1.92150e9, 3.14964e9)\n",
    "print_string(400, 160,  80, 2./3.,  40e-9, 60e-9, 2.12399e9, 3.36239e9)\n",
    "print_string(250, 200, 120, 2./3.,  40e-9, 60e-9, 2.47397e9, 3.46775e9)\n",
    "print_string(250, 200, 100, 2./3.,  40e-9, 60e-9, 2.49240e9, 3.56309e9)\n",
    "print_string(250, 200,  90, 2./3.,  40e-9, 60e-9, 2.56060e9, 3.61947e9)\n",
    "print_string(300, 160,  82, 2./3.,  40e-9, 60e-9, 2.41037e9, 3.60254e9)\n",
    "print_string(277, 160,  82, 2./3.,  40e-9, 60e-9, 2.50298e9, 3.66892e9)\n",
    "print_string(277, 160,  82, 2./3.,  40e-9, 60e-9, 2.46870e9, 3.61513e9)\n",
    "print_string(180, 200, 108, 2./3.,  40e-9, 60e-9, 3.02370e9, 3.71254e9)\n",
    "print(' -----------------------------------------------------')\n",
    "\n",
    "list_circ_res_s4 = list_circ_res\n",
    "list_circ_res = []"
   ]
  },
  {
   "cell_type": "code",
   "execution_count": null,
   "metadata": {
    "scrolled": true
   },
   "outputs": [],
   "source": [
    "print('CircularGeo')\n",
    "print('\\n=======05/05/2020========================================================\\n')\n",
    "print('\\nR1,R2,R3, Part = 180, 380, 488, 2/3 __ 10 for all night')\n",
    "print('Mesher:  Chip, Pads, Edges, SubWires')\n",
    "print('         800,   40,    6,      2')\n",
    "print(' 7 passes!')\n",
    "print('|  R1  | Gap  | Width| Theta ||  Cs   |   Ct  | Cs/Ct|')\n",
    "print(' -----------------------------------------------------')\n",
    "print_string(250, 120, 100, 2./3.,  40e-9, 60e-9, 2.46870e9, 3.61513e9)\n",
    "print_string(250, 120, 100, 2./3.,  40e-9, 60e-9, 3.01686e9, 3.70577e9)\n",
    "print_string(250, 120, 100, 2./3.,  40e-9, 60e-9, 3.02073e9, 3.70947e9)\n",
    "print_string(250, 120, 100, 2./3.,  40e-9, 60e-9, 3.02230e9, 3.71110e9)\n",
    "print_string(250, 120, 100, 2./3.,  40e-9, 60e-9, 2.81986e9, 3.49683e9)\n",
    "print_string(250, 120, 100, 2./3.,  40e-9, 60e-9, 3.18184e9, 4.06146e9)\n",
    "print_string(250, 120, 100, 2./3.,  40e-9, 60e-9, 3.02370e9, 3.71254e9)\n",
    "print (' -----------------------------------------------------')\n"
   ]
  },
  {
   "cell_type": "code",
   "execution_count": null,
   "metadata": {
    "scrolled": true
   },
   "outputs": [],
   "source": []
  },
  {
   "cell_type": "code",
   "execution_count": null,
   "metadata": {
    "scrolled": true
   },
   "outputs": [],
   "source": []
  },
  {
   "cell_type": "code",
   "execution_count": null,
   "metadata": {
    "scrolled": true
   },
   "outputs": [],
   "source": []
  },
  {
   "cell_type": "code",
   "execution_count": null,
   "metadata": {
    "scrolled": true
   },
   "outputs": [],
   "source": []
  },
  {
   "cell_type": "code",
   "execution_count": null,
   "metadata": {
    "scrolled": true
   },
   "outputs": [],
   "source": []
  },
  {
   "cell_type": "code",
   "execution_count": null,
   "metadata": {
    "scrolled": true
   },
   "outputs": [],
   "source": []
  },
  {
   "cell_type": "code",
   "execution_count": null,
   "metadata": {
    "scrolled": true
   },
   "outputs": [],
   "source": []
  },
  {
   "cell_type": "code",
   "execution_count": null,
   "metadata": {
    "scrolled": true
   },
   "outputs": [],
   "source": []
  },
  {
   "cell_type": "code",
   "execution_count": null,
   "metadata": {
    "scrolled": true
   },
   "outputs": [],
   "source": [
    " 5 / 0"
   ]
  },
  {
   "cell_type": "markdown",
   "metadata": {},
   "source": [
    "# The end"
   ]
  },
  {
   "cell_type": "markdown",
   "metadata": {},
   "source": [
    "_______________"
   ]
  },
  {
   "cell_type": "markdown",
   "metadata": {},
   "source": [
    "# Bracket Geo (with Clampls)"
   ]
  },
  {
   "cell_type": "code",
   "execution_count": null,
   "metadata": {
    "scrolled": true
   },
   "outputs": [],
   "source": [
    "# def print_string(Length, Width, rMoS, Gap, partP2W, shift,  Shl_W,Shl_L,Gap_Y, RadC,RadCB,  La, Lj, fr_q, fr_a):\n",
    "#     [Cs, Ct] = get_Cs_Ct_from_fQ_fA(fr_a, fr_q, La, Lj)\n",
    "#     print \"|{:5.0f} |\".format(Length) + \"{:5.0f}  |\".format(Width) + \" {:3.1f} |\".format(rMoS) + \" {:3.2f} |\".format(Gap) + \" {:3.2f} |\".format(partP2W) + \"{:5.0f}  ||\".format(shift) +\"{:5.0f}  |\".format(Shl_W) +\"{:5.0f}  |\".format(Shl_L) +\"{:5.0f} |\".format(Gap_Y) +\"{:5.0f}  ||\".format(RadC) +\"{:5.0f}  ||\".format(RadCB) +\"{:6.1f}\".format(1e15*Cs) +'|'+ \"{:6.1f}\".format(1e15*Ct)+'|'+\"{:5.2f}\".format(Cs/Ct)+' |'  \n",
    "# #     print [1e15*Cs, 1e15*Ct]\n",
    "#     return \n",
    "# ### !!! Change the function here!"
   ]
  },
  {
   "cell_type": "code",
   "execution_count": null,
   "metadata": {
    "scrolled": true
   },
   "outputs": [],
   "source": [
    "# ## print_string(Length, Width, rMoS, Gap, partP2W, shift, Shl_W,Shl_L,Gap_Y, RadC,RadCB, La, Lj, fr_q, fr_a):\n",
    "\n",
    "# print '\\n=======08/05/2020========================================================\\n'\n",
    "# print 'Make clamp like sides'\n",
    "# print '|--------------------------------------------------------------------|'\n",
    "# print '|Length| Width | rMoS|  Gap |prtP2W| shift || Shl_W | Shl_L | GapY |  RadC || RadCB ||  Cs  |  Ct  | Cs/Ct|'\n",
    "# print_string(2000, 500, 7.5, 0.045, 0.75,    0,      40,     550,    300,    30,    100,  40e-9, 60e-9, 0.915957e9, 2.51539e9)\n",
    "# print 'it is not precise'\n"
   ]
  },
  {
   "cell_type": "markdown",
   "metadata": {},
   "source": [
    "______________"
   ]
  },
  {
   "cell_type": "markdown",
   "metadata": {},
   "source": [
    "# Symmetrical Geo General."
   ]
  },
  {
   "cell_type": "code",
   "execution_count": null,
   "metadata": {
    "scrolled": true
   },
   "outputs": [],
   "source": [
    "def print_string(Length, Width, rMoS, Gap, partP2W, shift, RadC, La, Lj, fr_q, fr_a):\n",
    "    [Cs, Ct] = get_Cs_Ct_from_fQ_fA(fr_a, fr_q, La, Lj)\n",
    "    print('|'+ \"{:5.0f}\".format(Length) +' |'+ \"{:5.0f}\".format(Width) +'  |'+ \"{:3.1f}\".format(rMoS) +' | '+ \"{:3.2f}\".format(Gap) +' | '+ \"{:3.2f}\".format(partP2W) +' |'+ \"{:5.0f}\".format(shift) +' |'+ \"{:4.0f}\".format(RadC) +' ||'+ \"{:6.1f}\".format(1e15*Cs) +'|'+ \"{:6.1f}\".format(1e15*Ct)+'|'+\"{:5.2f}\".format(Cs/Ct)+' |')  \n",
    "    return "
   ]
  },
  {
   "cell_type": "code",
   "execution_count": null,
   "metadata": {
    "scrolled": true
   },
   "outputs": [],
   "source": [
    "print('\\n=======19-20/05/2020========================================================\\n')\n",
    "print(' Triing to get correct values')\n",
    "print('|Length| Width| rMoS|  Gap |prtP2W| shift| RadC||  Cs  |  Ct  | Cs/Ct|')\n",
    "print('|--------------------------------------------------------------------|')\n",
    "print_string(2010, 350, 4.84, 0.075, 0.57,    0,      1,  40e-9, 60e-9, 2.45845e9, 3.82457e9)  ## too bad error 31%\n",
    "print_string(2010, 350, 4.84, 0.075, 0.57,    0,      1,  40e-9, 60e-9, 2.0e9, 3.0e9)  "
   ]
  },
  {
   "cell_type": "code",
   "execution_count": null,
   "metadata": {
    "scrolled": true
   },
   "outputs": [],
   "source": [
    "print(' StripGeo with rounded corners. ')\n",
    "print('\\n=======07/05/2020========================================================\\n')\n",
    "print('|--------------------------------------------------------------------|')\n",
    "print('|Length| Width| rMoS|  Gap |prtP2W| shift| RadC||  Cs  |  Ct  | Cs/Ct|')\n",
    "print('|--------------------------------------------------------------------|')\n",
    "print_string(2000, 550, 9, 0.05, 1.0, 0, 30,  40e-9, 60e-9, 1.96724e9, 3.40004e9)\n",
    "print_string(2000, 560, 9, 0.05, 1.0, 0, 30,  40e-9, 60e-9, 1.95799e9, 3.38543e9)\n",
    "print_string(2000, 570, 9, 0.05, 1.0, 0, 30,  40e-9, 60e-9, 1.94887e9, 3.370853e9)\n",
    "print('\\n ok')\n",
    "print('!!_____Problem with E field from Wire!')\n",
    "print( 'go to more Remy like scheme - more distance between wire and pads')\n",
    "print('\\nMore generalized (with shift, and prtP2W - coefficient of Pad2.Width)')\n",
    "print('|--------------------------------------------------------------------|')\n",
    "print('|Length| Width| rMoS|  Gap |prtP2W| shift| RadC||  Cs  |  Ct  | Cs/Ct|')\n",
    "print_string(2000, 500,  8,  0.05,  0.75,    0,     30,  40e-9, 60e-9, 2.09670e9, 3.51716e9)\n",
    "print_string(2000, 500, 7.5, 0.045, 0.75,    0,     30,  40e-9, 60e-9, 2.08058e9, 3.48787e9)\n",
    "print('\\n=======08/05/2020========================================================\\n')\n",
    "print(' Go to 411_SimmetricGeo - with pads for holes. \\nfirst test... and adding holes')\n",
    "print('|--------------------------------------------------------------------|')\n",
    "print('|Length| Width| rMoS|  Gap |prtP2W| shift| RadC||  Cs  |  Ct  | Cs/Ct|')\n",
    "print_string(2000, 500, 7.5, 0.045, 0.75,    0,     30,  40e-9, 60e-9, 2.06269e9, 3.46963e9)\n",
    "print_string(2100, 550, 7.5, 0.045, 0.75,    0,     30,  40e-9, 60e-9, 2.01117e9, 3.37513e9)\n",
    "print_string(2400, 550, 7.5, 0.045, 0.75,    0,     30,  40e-9, 60e-9, 1.95121e9, 3.26482e9)\n",
    "print_string(2500, 500, 7.5, 0.045, 0.75,    0,     30,  40e-9, 60e-9, 1.97278e9, 3.29274e9)\n",
    "\n",
    "print_string(2500, 500,   8, 0.045, 0.75,    0,     30,  40e-9, 60e-9, 1.97153e9, 3.30370e9)\n",
    "print('|--------------------------------------------------------------------|')\n",
    "\n",
    "print('\\n=======18/05/2020========================================================\\n')\n",
    "print(' structure shifted 200 um (before was 156um)')\n",
    "print('|Length| Width| rMoS|  Gap |prtP2W| shift| RadC||  Cs  |  Ct  | Cs/Ct|')\n",
    "print('|--------------------------------------------------------------------|')\n",
    "print_string(2100, 550, 7.5, 0.045, 0.75,    0,     30,  40e-9, 60e-9, 2.02801e9, 3.37283e9)\n",
    "print_string(2100, 550, 7.2, 0.045, 0.75,    0,     30,  40e-9, 60e-9, 2.02837e9, 3.36487e9)\n",
    "print_string(2100, 550, 6.5, 0.045, 0.75,    0,     30,  40e-9, 60e-9, 2.03008e9, 3.34568e9)\n",
    "print_string(2100, 700, 9.0, 0.045, 0.50,    0,     30,  40e-9, 60e-9, 2.03083e9, 3.31364e9)\n",
    "print_string(2100, 700, 11,  0.045, 0.50,    0,     30,  40e-9, 60e-9, 2.03155e9, 3.35355e9)\n",
    "\n",
    "print('\\n=======19-20/05/2020========================================================\\n')\n",
    "print(' Remy-like design')\n",
    "print('|Length| Width| rMoS|  Gap |prtP2W| shift| RadC||  Cs  |  Ct  | Cs/Ct|')\n",
    "print('|--------------------------------------------------------------------|')\n",
    "print(' Remy-like design')\n",
    "print_string(2010, 350, 4.84,0.075, 0.57,    0,      1,  40e-9, 60e-9, 2.45551e9, 3.82004e9)\n",
    "print(' Remy design exact')\n",
    "print_string(2010, 350, 4.84,0.075, 0.57,    0,      1,  40e-9, 60e-9, 2.24368e9, 3.80831e9)\n",
    "print(' Remy design pass#11')\n",
    "print_string(2010, 350, 4.84,0.075, 0.57,    0,      1,  40e-9, 60e-9, 1.99688e9, 3.79066e9)\n",
    "\n"
   ]
  },
  {
   "cell_type": "code",
   "execution_count": null,
   "metadata": {
    "scrolled": true
   },
   "outputs": [],
   "source": []
  },
  {
   "cell_type": "markdown",
   "metadata": {},
   "source": [
    "________"
   ]
  },
  {
   "cell_type": "markdown",
   "metadata": {},
   "source": [
    "____"
   ]
  },
  {
   "cell_type": "markdown",
   "metadata": {},
   "source": [
    "# Simmetrical (not strip) Geometry (no rounded)\n"
   ]
  },
  {
   "cell_type": "markdown",
   "metadata": {},
   "source": [
    "### Vary width of Pad2"
   ]
  },
  {
   "cell_type": "code",
   "execution_count": null,
   "metadata": {
    "scrolled": true
   },
   "outputs": [],
   "source": [
    "pad2Width_list = [0.4, 0.6, 0.8]\n",
    "Cs_list = [85.3, 95.1, 103.1]\n",
    "Ct_list = [ 88.8, 90.0, 91.2]\n",
    "\n",
    "Cs_o_Ct_list = []\n",
    "for i in range(len(Cs_list)):\n",
    "    Cs_o_Ct_list.append(Cs_list[i] / Ct_list[i])\n",
    "    \n",
    "########------------------------------------#########\n",
    "print ' |  RatMoS  |  Cs  |  Ct  |  Cs/Ct  | '\n",
    "for i in range(len(Cs_list)):\n",
    "    print '      ', pad2Width_list[i], '    ', Cs_list[i], ' ', Ct_list[i], '   ', round(Cs_o_Ct_list[i],2)\n",
    "\n",
    "print \"\\nWidth of Side pads: 550 um\"\n",
    "print \"Width of CentralPad = 550 * Pad2_W_coeff\"\n",
    "fig, ax1 = plt.subplots()\n",
    "ax1.set_title('pad2Width_list \\n(StripLineGeo LWRG = 2000, None!, X, 0.05')\n",
    "ax1.plot(pad2Width_list, Cs_o_Ct_list, label='Cs/Ct', color='k')\n",
    "ax1.legend(loc='lower right')\n",
    "ax1.grid()\n",
    "ax1.set_xlabel('Pad2_W_coeff')\n",
    "ax1.set_ylabel('Cs/Ct ratio')\n",
    "ax2 = ax1.twinx() \n",
    "ax2.set_ylabel('[fF]')\n",
    "ax2.plot(pad2Width_list, Cs_list, label='Cs')\n",
    "ax2.plot(pad2Width_list, Ct_list, label='Ct')\n",
    "ax2.legend()"
   ]
  },
  {
   "cell_type": "markdown",
   "metadata": {},
   "source": [
    "____________"
   ]
  },
  {
   "cell_type": "markdown",
   "metadata": {},
   "source": [
    "# StripLineGeo. prec mesh"
   ]
  },
  {
   "cell_type": "code",
   "execution_count": null,
   "metadata": {
    "scrolled": true
   },
   "outputs": [],
   "source": [
    "def axer(ax, X, Cs_list, Ct_list,  Xname, xunits, RGWT):\n",
    "    Cs_o_Ct_list = []\n",
    "    for i in range(len(Cs_list)):\n",
    "        Cs_o_Ct_list.append(Cs_list[i] / Ct_list[i])\n",
    "    ax.set_title('Vary '+Xname+RGWT)\n",
    "    ax.plot(X, Cs_o_Ct_list, label='Cs/Ct', color='k')\n",
    "    ax.legend(loc='lower left')\n",
    "    ax.grid()\n",
    "    ax.set_xlabel(Xname+' '+xunits)\n",
    "    ax.set_ylabel('Cs/Ct ratio')\n",
    "    ax12 = ax.twinx() \n",
    "    ax12.set_ylabel('[fF]')\n",
    "    ax12.plot(X, Cs_list, label='Cs')\n",
    "    ax12.plot(X, Ct_list, label='Ct')\n",
    "    ax12.legend(loc='lower right')\n",
    "    return ax\n",
    "\n",
    "figsize = [12,8]\n",
    "\n",
    "fig1 = plt.figure(constrained_layout=True, figsize=figsize)\n",
    "spec1 = gridspec.GridSpec(ncols=2, nrows=2, figure=fig1)\n",
    "ax1 = fig1.add_subplot(spec1[0, 0])\n",
    "ax2 = fig1.add_subplot(spec1[0, 1])\n",
    "ax3 = fig1.add_subplot(spec1[1, 0])\n",
    "ax4 = fig1.add_subplot(spec1[1, 1])\n",
    "\n",
    "#### VARY Theta #####\n",
    "Theta_list = [70, 80, ]\n",
    "Cs_list = [73.2, 71.5]\n",
    "Ct_list = [93.9, 94.7]\n",
    "RGWT = ' \\n(CircularGeo RGWT = 450, 160, 60, X'\n",
    "ax1 = axer(ax1, Theta_list, Cs_list, Ct_list,  'Theta', '[part]', RGWT)\n",
    "\n",
    "#### VARY Gap #####\n",
    "Gap_list = [70, 80, 90, 100, 110]\n",
    "Cs_list = [73.2, 71.5, 70.1, 68.9, 67.6]\n",
    "Ct_list = [93.9, 94.7, 95.7, 96.8, 97.9]\n",
    "RGWT = ' \\n(CircularGeo RGWT = 250, X, 120, 2/3'\n",
    "ax2 = axer(ax2, Gap_list, Cs_list, Ct_list,  'Gap', '[um]', RGWT)\n",
    "\n",
    "#### VARY Width #####\n",
    "Width_list = [40, 60, 100, 140]\n",
    "Cs_list = [56.2, 59.1,  63.2,  65.3]\n",
    "Ct_list = [70.1, 79.7, 102.2, 111.3]\n",
    "RGWT = ' \\n(CircularGeo RGWT = 250, 160, X, 2/3'\n",
    "ax3 = axer(ax3, Width_list, Cs_list, Ct_list,  'Width', '[um]', RGWT)\n",
    "\n",
    "\n",
    "#### VARY R1 #####\n",
    "r1_list = [277, 300, 400, 500]\n",
    "Cs_list = [69.3, 72.7, 93.6, 114.3]\n",
    "Ct_list = [94.6, 93.8, 102.6, 113.1]\n",
    "# ax4.set_title('Vary R1 \\n(CircularGeo RGWT = X, 160, 80, 2/3)')\n",
    "RGWT = ' \\n(CircularGeo RGWT = X, 160, 80, 2/3'\n",
    "ax4 = axer(ax4, r1_list, Cs_list, Ct_list,  'R1', '[um]', RGWT)\n"
   ]
  },
  {
   "cell_type": "markdown",
   "metadata": {},
   "source": [
    "### Vary Gap_part"
   ]
  },
  {
   "cell_type": "code",
   "execution_count": null,
   "metadata": {
    "scrolled": true
   },
   "outputs": [],
   "source": [
    "print 'Varyation of Gap'\n",
    "print 'LWRG = 2000, 400, 9, X'\n",
    "print 'X = {0.03, 0.04, 0.05, .. , 0.09}'\n",
    "# Pad2 Width = 0.8 (rabbish variable)\n",
    "\n",
    "Gap_list = np.arange(0.03, 0.091, 0.01)\n",
    "print Gap_list\n",
    "frQ_list = [ 1.87956e9, 1.92111e9, 1.95739e9, 1.98818e9, 2.01534e9, 2.03981e9, 2.06212e9]\n",
    "frA_list = [ 3.29316e9, 3.34121e9, 3.38257e9, 3.41459e9, 3.44142e9, 3.46407e9, 3.48383e9]\n",
    "########------------------------------------#########\n",
    "Cs_list = []\n",
    "Ct_list = []\n",
    "\n",
    "[La, Lj] = [40e-9, 60e-9]\n",
    "for i in range(len(frQ_list)):\n",
    "    [Cs, Ct] = get_Cs_Ct_from_fQ_fA(frA_list[i], frQ_list[i], La, Lj)\n",
    "    Cs_list.append( round(1e15*Cs,1) )\n",
    "    Ct_list.append( round(1e15*Ct,1) )\n",
    "\n",
    "Cs_o_Ct_list = []\n",
    "for i in range(len(Cs_list)):\n",
    "    Cs_o_Ct_list.append(Cs_list[i] / Ct_list[i])\n",
    "########------------------------------------#########    \n",
    "print ' |  Gap_part  |  Cs  |  Ct  |  Cs/Ct  | '\n",
    "for i in range(len(Cs_list)):\n",
    "    print '      ', Gap_list[i], '  ', Cs_list[i], ' ', Ct_list[i], '   ', round(Cs_o_Ct_list[i],2)\n",
    "\n",
    "########------------------------------------#########   \n",
    "fig, ax1 = plt.subplots()\n",
    "ax1.set_title('Vary Gap_part \\n(StripLineGeo LWRG = 2000, 400, 9, X)')\n",
    "ax1.plot(Gap_list, Cs_o_Ct_list, label='Cs/Ct', color='k')\n",
    "ax1.legend(loc='lower right')\n",
    "ax1.grid()\n",
    "ax1.set_xlabel('Gap_part')\n",
    "ax1.set_ylabel('Cs/Ct ratio')\n",
    "ax2 = ax1.twinx() \n",
    "ax2.set_ylabel('[fF]')\n",
    "ax2.plot(Gap_list, Cs_list, label='Cs')\n",
    "ax2.plot(Gap_list, Ct_list, label='Ct')\n",
    "ax2.legend()"
   ]
  },
  {
   "cell_type": "markdown",
   "metadata": {},
   "source": [
    "### WidthQubit vary"
   ]
  },
  {
   "cell_type": "code",
   "execution_count": null,
   "metadata": {
    "scrolled": true
   },
   "outputs": [],
   "source": [
    "Width_list = [  400,   500,   550,   600 ]\n",
    "Cs_list     = [94.4, 104.0, 109.9, 115.0]\n",
    "Ct_list     = [81.1,  88.0,  92.2,  96.0]\n",
    "Cs_o_Ct_list = []\n",
    "for i in range(len(Cs_list)):\n",
    "    Cs_o_Ct_list.append(Cs_list[i] / Ct_list[i])\n",
    "########------------------------------------#########\n",
    "print ' |  Width  |  Cs  |  Ct  |  Cs/Ct  | '\n",
    "for i in range(len(Cs_list)):\n",
    "    print '      ', Width_list[i], '    ', Cs_list[i], ' ', Ct_list[i], '   ', round(Cs_o_Ct_list[i],2)\n",
    "\n",
    "fig, ax1 = plt.subplots()\n",
    "ax1.set_title('Vary Width \\n(StripLineGeo LWRG = 2000, X, 9, 0.05')\n",
    "ax1.plot(Width_list, Cs_o_Ct_list, label='Cs/Ct', color='k')\n",
    "ax1.legend(loc='lower right')\n",
    "ax1.grid()\n",
    "ax1.set_xlabel('Width [um]')\n",
    "ax1.set_ylabel('Cs/Ct ratio')\n",
    "ax2 = ax1.twinx() \n",
    "ax2.set_ylabel('[fF]')\n",
    "ax2.plot(Width_list, Cs_list, label='Cs')\n",
    "ax2.plot(Width_list, Ct_list, label='Ct')\n",
    "ax2.legend()"
   ]
  },
  {
   "cell_type": "markdown",
   "metadata": {},
   "source": [
    "### Rat_MoS vary"
   ]
  },
  {
   "cell_type": "code",
   "execution_count": null,
   "metadata": {
    "scrolled": true
   },
   "outputs": [],
   "source": [
    "RatMos_list = [   3,    4,    5,    7,    9]\n",
    "Cs_list     = [89.7, 92.3, 93.3, 94.4, 94.4]\n",
    "Ct_list     = [98.2, 93.5, 89.5, 84.6, 81.1]\n",
    "Cs_o_Ct_list = []\n",
    "for i in range(len(Cs_list)):\n",
    "    Cs_o_Ct_list.append(Cs_list[i] / Ct_list[i])\n",
    "    \n",
    "########------------------------------------#########\n",
    "print ' |  RatMoS  |  Cs  |  Ct  |  Cs/Ct  | '\n",
    "for i in range(len(Cs_list)):\n",
    "    print '      ', RatMos_list[i], '    ', Cs_list[i], ' ', Ct_list[i], '   ', round(Cs_o_Ct_list[i],2)\n",
    "\n",
    "fig, ax1 = plt.subplots()\n",
    "ax1.set_title('Vary Ratio_MoS \\n(StripLineGeo LWRG = 2000, 500, X, 0.05')\n",
    "ax1.plot(RatMos_list, Cs_o_Ct_list, label='Cs/Ct', color='k')\n",
    "ax1.legend(loc='lower right')\n",
    "ax1.grid()\n",
    "ax1.set_xlabel('Ratio MoS')\n",
    "ax1.set_ylabel('Cs/Ct ratio')\n",
    "ax2 = ax1.twinx() \n",
    "ax2.set_ylabel('[fF]')\n",
    "ax2.plot(RatMos_list, Cs_list, label='Cs')\n",
    "ax2.plot(RatMos_list, Ct_list, label='Ct')\n",
    "ax2.legend()"
   ]
  },
  {
   "cell_type": "markdown",
   "metadata": {},
   "source": [
    "### 4 May\n"
   ]
  },
  {
   "cell_type": "code",
   "execution_count": null,
   "metadata": {
    "scrolled": true
   },
   "outputs": [],
   "source": []
  },
  {
   "cell_type": "code",
   "execution_count": null,
   "metadata": {
    "scrolled": true
   },
   "outputs": [],
   "source": [
    "\n",
    "print 'vary Width of only Pad2'\n",
    "print 'LWRG = 2000, None!&550, 9, 0.05'\n",
    "print 'NOT REALLY STRIPLINE'\n",
    "print 'Pad2W', ' L_j ', 'L_a', '    Cs ', '  Ct  ', '  fQ', '   fA'\n",
    "\n",
    "[La, Lj, fr_q, fr_a] = [40e-9, 60e-9, 2.02353e9, 3.43968e9]\n",
    "[Cs, Ct] = get_Cs_Ct_from_fQ_fA(fr_a, fr_q, La, Lj)\n",
    "print ' 0.8 ',1e9*Lj, '',1e9*La , ' ', round(1e15*Cs,1),'  ',round(1e15*Ct,1),'  ', round(1e-9*fr_q,2),'  ', round(1e-9*fr_a,2)\n",
    "\n",
    "[La, Lj, fr_q, fr_a] = [40e-9, 60e-9, 2.10686e9, 3.50332e9]\n",
    "[Cs, Ct] = get_Cs_Ct_from_fQ_fA(fr_a, fr_q, La, Lj)\n",
    "print ' 0.6 ',1e9*Lj, '',1e9*La , ' ', round(1e15*Cs,1),'  ',round(1e15*Ct,1),'  ', round(1e-9*fr_q,2),'  ', round(1e-9*fr_a,2)\n",
    "\n",
    "[La, Lj, fr_q, fr_a] = [40e-9, 60e-9, 2.22505e9, 3.58484e9]\n",
    "[Cs, Ct] = get_Cs_Ct_from_fQ_fA(fr_a, fr_q, La, Lj)\n",
    "print ' 0.4 ',1e9*Lj, '',1e9*La , ' ', round(1e15*Cs,1),'  ',round(1e15*Ct,1),'  ', round(1e-9*fr_q,2),'  ', round(1e-9*fr_a,2)\n"
   ]
  },
  {
   "cell_type": "code",
   "execution_count": null,
   "metadata": {
    "scrolled": true
   },
   "outputs": [],
   "source": []
  },
  {
   "cell_type": "code",
   "execution_count": null,
   "metadata": {
    "scrolled": true
   },
   "outputs": [],
   "source": [
    "print 'Width increased more!!!'\n",
    "print 'LWRG = 2000, 600, 9, 0.05'\n",
    "print 'Mesher:  Chip, Pads, Ractangle, WiresAround, PadsAround, RoundWires(new), SubWires'\n",
    "print '         800,   40,    100,         6,           6,            6,            2'\n",
    "print 'path', ' L_j ', 'L_a', '    Cs ', '  Ct  ', '  fQ', '   fA'\n",
    "\n",
    "[La, Lj, fr_q, fr_a] = [40e-9, 60e-9, 1.90540e9, 3.29793e9]\n",
    "[Cs, Ct] = get_Cs_Ct_from_fQ_fA(fr_a, fr_q, La, Lj)\n",
    "print ' #1 ',1e9*Lj, '',1e9*La , ' ', round(1e15*Cs,1),'  ',round(1e15*Ct,1),'  ', round(1e-9*fr_q,2),'  ', round(1e-9*fr_a,2)\n",
    "\n",
    "[La, Lj, fr_q, fr_a] = [40e-9, 60e-9, 1.91286e9, 3.31195e9]\n",
    "[Cs, Ct] = get_Cs_Ct_from_fQ_fA(fr_a, fr_q, La, Lj)\n",
    "print ' #2 ',1e9*Lj, '',1e9*La , ' ', round(1e15*Cs,1),'  ',round(1e15*Ct,1),'  ', round(1e-9*fr_q,2),'  ', round(1e-9*fr_a,2)\n",
    "\n",
    "[La, Lj, fr_q, fr_a] = [40e-9, 60e-9, 1.91562e9, 3.31704e9]\n",
    "[Cs, Ct] = get_Cs_Ct_from_fQ_fA(fr_a, fr_q, La, Lj)\n",
    "print ' #3 ',1e9*Lj, '',1e9*La , ' ', round(1e15*Cs,1),'  ',round(1e15*Ct,1),'  ', round(1e-9*fr_q,2),'  ', round(1e-9*fr_a,2)\n"
   ]
  },
  {
   "cell_type": "code",
   "execution_count": null,
   "metadata": {
    "scrolled": true
   },
   "outputs": [],
   "source": [
    "\n",
    "\n",
    "\n",
    "\n",
    "print 'Width increased a bit!'\n",
    "print 'LWRG = 2000, 550, 9, 0.05'\n",
    "print 'Mesher:  Chip, Pads, Ractangle, WiresAround, PadsAround, RoundWires(new), SubWires'\n",
    "print '         800,   40,    100,         6,           6,            6,            2'\n",
    "print 'path', ' L_j ', 'L_a', '    Cs ', '  Ct  ', '  fQ', '   fA'\n",
    "\n",
    "[La, Lj, fr_q, fr_a] = [40e-9, 60e-9, 1.94953e9, 3.36781e9]\n",
    "[Cs, Ct] = get_Cs_Ct_from_fQ_fA(fr_a, fr_q, La, Lj)\n",
    "print ' #1 ',1e9*Lj, '',1e9*La , ' ', round(1e15*Cs,1),'  ',round(1e15*Ct,1),'  ', round(1e-9*fr_q,2),'  ', round(1e-9*fr_a,2)\n",
    "\n",
    "[La, Lj, fr_q, fr_a] = [40e-9, 60e-9, 1.95739e9, 3.38257e9]\n",
    "[Cs, Ct] = get_Cs_Ct_from_fQ_fA(fr_a, fr_q, La, Lj)\n",
    "print ' #2 ',1e9*Lj, '',1e9*La , ' ', round(1e15*Cs,1),'  ',round(1e15*Ct,1),'  ', round(1e-9*fr_q,2),'  ', round(1e-9*fr_a,2)\n",
    "\n",
    "[La, Lj, fr_q, fr_a] = [40e-9, 60e-9, 1.96034e9, 3.38814e9]\n",
    "[Cs, Ct] = get_Cs_Ct_from_fQ_fA(fr_a, fr_q, La, Lj)\n",
    "print ' #3 ',1e9*Lj, '',1e9*La , ' ', round(1e15*Cs,1),'  ',round(1e15*Ct,1),'  ', round(1e-9*fr_q,2),'  ', round(1e-9*fr_a,2)\n",
    "\n"
   ]
  },
  {
   "cell_type": "code",
   "execution_count": null,
   "metadata": {
    "scrolled": true
   },
   "outputs": [],
   "source": [
    "print 'Width increased!'\n",
    "print 'LWRG = 2000, 500, 9, 0.05'\n",
    "print 'Mesher:  Chip, Pads, Ractangle, WiresAround, PadsAround, RoundWires(new), SubWires'\n",
    "print '         800,   40,    100,         6,           6,            6,            2'\n",
    "print 'path', ' L_j ', 'L_a', '    Cs ', '  Ct  ', '  fQ', '   fA'\n",
    "\n",
    "[La, Lj, fr_q, fr_a] = [40e-9, 60e-9, 1.99710e9, 3.44194e9]\n",
    "[Cs, Ct] = get_Cs_Ct_from_fQ_fA(fr_a, fr_q, La, Lj)\n",
    "print ' #1 ',1e9*Lj, '',1e9*La , ' ', round(1e15*Cs,1),'  ',round(1e15*Ct,1),'  ', round(1e-9*fr_q,2),'  ', round(1e-9*fr_a,2)\n",
    "\n",
    "[La, Lj, fr_q, fr_a] = [40e-9, 60e-9, 2.00553e9, 3.45781e9]\n",
    "[Cs, Ct] = get_Cs_Ct_from_fQ_fA(fr_a, fr_q, La, Lj)\n",
    "print ' #2 ',1e9*Lj, '',1e9*La , ' ', round(1e15*Cs,1),'  ',round(1e15*Ct,1),'  ', round(1e-9*fr_q,2),'  ', round(1e-9*fr_a,2)\n"
   ]
  },
  {
   "cell_type": "code",
   "execution_count": null,
   "metadata": {
    "scrolled": true
   },
   "outputs": [],
   "source": [
    "print 'LWRG = 2000, 400, 9, 0.05'\n",
    "print 'Mesher:  Chip, Pads, Ractangle, WiresAround, PadsAround, RoundWires(new), SubWires'\n",
    "print '         800,   40,    100,         6,           6,            6,            2'\n",
    "print 'path', ' L_j ', 'L_a', '    Cs ', '  Ct  ', '  fQ', '   fA'\n",
    "\n",
    "[La, Lj, fr_q, fr_a] = [40e-9, 60e-9, 2.10584e9, 3.61015e9]\n",
    "[Cs, Ct] = get_Cs_Ct_from_fQ_fA(fr_a, fr_q, La, Lj)\n",
    "print ' #1 ',1e9*Lj, '',1e9*La , ' ', round(1e15*Cs,1),'  ',round(1e15*Ct,1),'  ', round(1e-9*fr_q,2),'  ', round(1e-9*fr_a,2)\n",
    "\n",
    "[La, Lj, fr_q, fr_a] = [40e-9, 60e-9, 2.11513e9, 3.62757e9]\n",
    "[Cs, Ct] = get_Cs_Ct_from_fQ_fA(fr_a, fr_q, La, Lj)\n",
    "print ' #2 ',1e9*Lj, '',1e9*La , ' ', round(1e15*Cs,1),'  ',round(1e15*Ct,1),'  ', round(1e-9*fr_q,2),'  ', round(1e-9*fr_a,2)\n"
   ]
  },
  {
   "cell_type": "code",
   "execution_count": null,
   "metadata": {
    "scrolled": true
   },
   "outputs": [],
   "source": [
    "print 'LWRG = 2000, 400, 7, 0.05'\n",
    "print 'Mesher:  Chip, Pads, Ractangle, WiresAround, PadsAround, RoundWires(new), SubWires'\n",
    "print '         800,   40,    100,         6,           6,            6,            2'\n",
    "print 'path', ' L_j ', 'L_a', '    Cs ', '  Ct  ', '  fQ', '   fA'\n",
    "\n",
    "[La, Lj, fr_q, fr_a] = [40e-9, 60e-9, 2.10653e9, 3.56380e9]\n",
    "[Cs, Ct] = get_Cs_Ct_from_fQ_fA(fr_a, fr_q, La, Lj)\n",
    "print ' #1 ',1e9*Lj, '',1e9*La , ' ', round(1e15*Cs,1),'  ',round(1e15*Ct,1),'  ', round(1e-9*fr_q,2),'  ', round(1e-9*fr_a,2)\n",
    "\n",
    "[La, Lj, fr_q, fr_a] = [40e-9, 60e-9, 2.11463e9, 3.57877e9]\n",
    "[Cs, Ct] = get_Cs_Ct_from_fQ_fA(fr_a, fr_q, La, Lj)\n",
    "print ' #2 ',1e9*Lj, '',1e9*La , ' ', round(1e15*Cs,1),'  ',round(1e15*Ct,1),'  ', round(1e-9*fr_q,2),'  ', round(1e-9*fr_a,2)\n"
   ]
  },
  {
   "cell_type": "code",
   "execution_count": null,
   "metadata": {
    "scrolled": true
   },
   "outputs": [],
   "source": [
    "print 'LWRG = 2000, 400, 5, 0.05'\n",
    "print 'Mesher:  Chip, Pads, Ractangle, WiresAround, PadsAround, RoundWires(new), SubWires'\n",
    "print '         800,   40,    100,         6,           6,            6,            2'\n",
    "print 'path', ' L_j ', 'L_a', '    Cs ', '  Ct  ', '  fQ', '   fA'\n",
    "\n",
    "[La, Lj, fr_q, fr_a] = [40e-9, 60e-9, 2.11608e9, 3.50124e9]\n",
    "[Cs, Ct] = get_Cs_Ct_from_fQ_fA(fr_a, fr_q, La, Lj)\n",
    "print ' #1 ',1e9*Lj, '',1e9*La , ' ', round(1e15*Cs,1),'  ',round(1e15*Ct,1),'  ', round(1e-9*fr_q,2),'  ', round(1e-9*fr_a,2)\n",
    "\n",
    "[La, Lj, fr_q, fr_a] = [40e-9, 60e-9, 2.12422e9, 3.51596e9]\n",
    "[Cs, Ct] = get_Cs_Ct_from_fQ_fA(fr_a, fr_q, La, Lj)\n",
    "print ' #2 ',1e9*Lj, '',1e9*La , ' ', round(1e15*Cs,1),'  ',round(1e15*Ct,1),'  ', round(1e-9*fr_q,2),'  ', round(1e-9*fr_a,2)\n",
    "\n",
    "[La, Lj, fr_q, fr_a] = [40e-9, 60e-9, 2.12719e9, 3.52135e9]\n",
    "[Cs, Ct] = get_Cs_Ct_from_fQ_fA(fr_a, fr_q, La, Lj)\n",
    "print ' #3 ',1e9*Lj, '',1e9*La , ' ', round(1e15*Cs,1),'  ',round(1e15*Ct,1),'  ', round(1e-9*fr_q,2),'  ', round(1e-9*fr_a,2)\n"
   ]
  },
  {
   "cell_type": "code",
   "execution_count": null,
   "metadata": {
    "scrolled": true
   },
   "outputs": [],
   "source": [
    "print 'LWRG = 2000, 400, 4, 0.05'\n",
    "print 'Mesher:  Chip, Pads, Ractangle, WiresAround, PadsAround, RoundWires(new), SubWires'\n",
    "print '         800,   40,    100,         6,           6,            6,            2'\n",
    "print 'path', ' L_j ', 'L_a', '    Cs ', '  Ct  ', '  fQ', '   fA'\n",
    "\n",
    "[La, Lj, fr_q, fr_a] = [40e-9, 60e-9, 2.13016e9, 3.46325e9]\n",
    "[Cs, Ct] = get_Cs_Ct_from_fQ_fA(fr_a, fr_q, La, Lj)\n",
    "print ' #1 ',1e9*Lj, '',1e9*La , ' ', round(1e15*Cs,1),'  ',round(1e15*Ct,1),'  ', round(1e-9*fr_q,2),'  ', round(1e-9*fr_a,2)\n",
    "\n",
    "[La, Lj, fr_q, fr_a] = [40e-9, 60e-9, 2.13811e9, 3.47707e9]\n",
    "[Cs, Ct] = get_Cs_Ct_from_fQ_fA(fr_a, fr_q, La, Lj)\n",
    "print ' #2 ',1e9*Lj, '',1e9*La , ' ', round(1e15*Cs,1),'  ',round(1e15*Ct,1),'  ', round(1e-9*fr_q,2),'  ', round(1e-9*fr_a,2)"
   ]
  },
  {
   "cell_type": "code",
   "execution_count": null,
   "metadata": {
    "scrolled": true
   },
   "outputs": [],
   "source": [
    "print 'LWRG = 2000, 400, 3, 0.05'\n",
    "print 'Mesher:  Chip, Pads, Ractangle, WiresAround, PadsAround, RoundWires(new), SubWires'\n",
    "print '         800,   40,    100,         6,           6,            6,            2'\n",
    "print 'path', ' L_j ', 'L_a', '    Cs ', '  Ct  ', '  fQ', '   fA'\n",
    "\n",
    "[La, Lj, fr_q, fr_a] = [40e-9, 60e-9, 2.1586e9, 3.41804e9]\n",
    "[Cs, Ct] = get_Cs_Ct_from_fQ_fA(fr_a, fr_q, La, Lj)\n",
    "print ' #1 ',1e9*Lj, '',1e9*La , ' ', round(1e15*Cs,1),'  ',round(1e15*Ct,1),'  ', round(1e-9*fr_q,2),'  ', round(1e-9*fr_a,2)\n",
    "\n",
    "[La, Lj, fr_q, fr_a] = [40e-9, 60e-9, 2.16640e9, 3.34043e9]\n",
    "[Cs, Ct] = get_Cs_Ct_from_fQ_fA(fr_a, fr_q, La, Lj)\n",
    "print ' #2 ',1e9*Lj, '',1e9*La , ' ', round(1e15*Cs,1),'  ',round(1e15*Ct,1),' ', round(1e-9*fr_q,2),'  ', round(1e-9*fr_a,2)\n",
    "\n",
    "[La, Lj, fr_q, fr_a] = [40e-9, 60e-9, 2.16899e9, 3.43482e9]\n",
    "[Cs, Ct] = get_Cs_Ct_from_fQ_fA(fr_a, fr_q, La, Lj)\n",
    "print ' #3 ',1e9*Lj, '',1e9*La , ' ', round(1e15*Cs,1),'  ',round(1e15*Ct,1),'  ', round(1e-9*fr_q,2),'  ', round(1e-9*fr_a,2)\n",
    "\n",
    "[La, Lj, fr_q, fr_a] = [40e-9, 60e-9, 2.17001e9, 3.43645e9]\n",
    "[Cs, Ct] = get_Cs_Ct_from_fQ_fA(fr_a, fr_q, La, Lj)\n",
    "print ' #4 ',1e9*Lj, '',1e9*La , ' ', round(1e15*Cs,1),'  ',round(1e15*Ct,1),'  ', round(1e-9*fr_q,2),'  ', round(1e-9*fr_a,2)\n",
    "\n"
   ]
  },
  {
   "cell_type": "markdown",
   "metadata": {},
   "source": [
    "_____"
   ]
  },
  {
   "cell_type": "markdown",
   "metadata": {},
   "source": [
    "# Remy geo. prec mesh"
   ]
  },
  {
   "cell_type": "markdown",
   "metadata": {},
   "source": [
    "# Cs = 105 fF, Ct = 64 fF"
   ]
  },
  {
   "cell_type": "markdown",
   "metadata": {},
   "source": [
    "### 2 May 2020"
   ]
  },
  {
   "cell_type": "code",
   "execution_count": null,
   "metadata": {
    "scrolled": true
   },
   "outputs": [],
   "source": [
    "print 'night infinity'\n",
    "print 'path', ' L_j ', 'L_a', '    Cs ', '  Ct  ', '  fQ', '   fA'\n",
    "\n",
    "[La, Lj, fr_q, fr_a] = [40e-9, 60e-9, 2.06513e9, 3.79776e9]\n",
    "[Cs, Ct] = get_Cs_Ct_from_fQ_fA(fr_a, fr_q, La, Lj)\n",
    "print ' #7  ',1e9*Lj, '',1e9*La , ' ', int(1e15*Cs),'   ',int(1e15*Ct),'  ', round(1e-9*fr_q,2),' ', round(1e-9*fr_a,2)\n",
    "\n",
    "[La, Lj, fr_q, fr_a] = [40e-9, 60e-9, 2.04008e9, 3.79676e9]\n",
    "[Cs, Ct] = get_Cs_Ct_from_fQ_fA(fr_a, fr_q, La, Lj)\n",
    "print ' #9  ',1e9*Lj, '',1e9*La , ' ', int(1e15*Cs),'  ',int(1e15*Ct),'  ', round(1e-9*fr_q,2),' ', round(1e-9*fr_a,2)\n",
    "\n",
    "[La, Lj, fr_q, fr_a] = [40e-9, 60e-9, 1.99688e9, 3.79066e9]\n",
    "[Cs, Ct] = get_Cs_Ct_from_fQ_fA(fr_a, fr_q, La, Lj)\n",
    "print ' #10 ',1e9*Lj, '',1e9*La , ' ', int(1e15*Cs),'  ',int(1e15*Ct),'  ', round(1e-9*fr_q,2),'  ', round(1e-9*fr_a,2)\n"
   ]
  },
  {
   "cell_type": "code",
   "execution_count": null,
   "metadata": {
    "scrolled": true
   },
   "outputs": [],
   "source": [
    "print 'Setup2 (2%) nothing except pads&Wires 50,4,0.5 um 4passes 0.1%'\n",
    "print 'path', ' L_j ', 'L_a', '    Cs ', '  Ct  ', '  fQ', '   fA'\n",
    "[La, Lj, fr_q, fr_a] = [40e-9, 60e-9, 1.67540e9, 3.63991e9]\n",
    "[Cs, Ct] = get_Cs_Ct_from_fQ_fA(fr_a, fr_q, La, Lj)\n",
    "print '  #4',1e9*Lj, '',1e9*La , ' ', int(1e15*Cs),'  ',int(1e15*Ct),'  ', round(1e-9*fr_q,2),' ', round(1e-9*fr_a,2)\n",
    "\n",
    "[La, Lj, fr_q, fr_a] = [40e-9, 60e-9, 1.59545e9, 3.62418e9]\n",
    "[Cs, Ct] = get_Cs_Ct_from_fQ_fA(fr_a, fr_q, La, Lj)\n",
    "print '  #5',1e9*Lj, '',1e9*La , ' ', int(1e15*Cs),'  ',int(1e15*Ct),'  ', round(1e-9*fr_q,2),' ', round(1e-9*fr_a,2)\n",
    "\n",
    "print 'Setup2 (2%) nothing except pads&Wires 50,4,0.5 um 2passes 4%'\n",
    "[La, Lj, fr_q, fr_a] = [15e-9, 15e-9, 3.50774e9, 5.91113e9]\n",
    "[Cs, Ct] = get_Cs_Ct_from_fQ_fA(fr_a, fr_q, La, Lj)\n",
    "print ' L_j ', 'L_a', '    Cs ', '  Ct  ', '  fQ', '   fA'\n",
    "print 1e9*Lj, '',1e9*La , ' ', int(1e15*Cs),'  ',int(1e15*Ct),'  ', round(1e-9*fr_q,2),' ', round(1e-9*fr_a,2)\n",
    "\n",
    "print 'Setup2 (5%) subWires,Wires,Pads, BigRect,Between,Corners = [0.5, 4, 50, 80, 50, 10] -- only 2 passes'\n",
    "[La, Lj, fr_q, fr_a] = [40e-9, 60e-9, 1.17866e9, 3.51256e9]\n",
    "[Cs, Ct] = get_Cs_Ct_from_fQ_fA(fr_a, fr_q, La, Lj)\n",
    "print ' L_j ', 'L_a', '    Cs ', '  Ct  ', '  fQ', '   fA'\n",
    "print 1e9*Lj, '',1e9*La , ' ', int(1e15*Cs),'  ',int(1e15*Ct),'  ', round(1e-9*fr_q,2),' ', round(1e-9*fr_a,2)\n",
    "\n",
    "print '2May_001butshit'"
   ]
  },
  {
   "cell_type": "code",
   "execution_count": null,
   "metadata": {
    "scrolled": true
   },
   "outputs": [],
   "source": []
  },
  {
   "cell_type": "markdown",
   "metadata": {},
   "source": [
    "### 1 May 2020"
   ]
  },
  {
   "cell_type": "code",
   "execution_count": null,
   "metadata": {
    "scrolled": true
   },
   "outputs": [],
   "source": [
    "### Check ####\n",
    "print '__Mesher 100 um, SX=0.6, SY=2.20mm  1% --- finished ---'\n",
    "[La, Lj, fr_q, fr_a] = [40e-9, 60e-9, 2.02570e9, 3.7957e9]\n",
    "[Cs, Ct] = get_Cs_Ct_from_fQ_fA(fr_a, fr_q, La, Lj)\n",
    "print ' L_j ', 'L_a', '    Cs ', '  Ct  ', '  fQ', '   fA'\n",
    "print 1e9*Lj, '',1e9*La , ' ', int(1e15*Cs),'  ',int(1e15*Ct),'  ', round(1e-9*fr_q,2),' ', round(1e-9*fr_a,2)\n",
    "\n",
    "print '__Mesher 100 um, SX=0.6, SY=2.20mm  1% not finished (true2%)'\n",
    "[La, Lj, fr_q, fr_a] = [40e-9, 60e-9, 2.07086e9, 3.80110e9]\n",
    "[Cs, Ct] = get_Cs_Ct_from_fQ_fA(fr_a, fr_q, La, Lj)\n",
    "print ' L_j ', 'L_a', '    Cs ', '  Ct  ', '  fQ', '   fA'\n",
    "print 1e9*Lj, '',1e9*La , ' ', int(1e15*Cs),'  ',int(1e15*Ct),'  ', round(1e-9*fr_q,2),' ', round(1e-9*fr_a,2)\n",
    "\n",
    "print '__Mesher 100 um, SX=0.6, SY=2.20mm  5%'\n",
    "[La, Lj, fr_q, fr_a] = [40e-9, 60e-9, 2.47743e9, 3.88071e9]\n",
    "[Cs, Ct] = get_Cs_Ct_from_fQ_fA(fr_a, fr_q, La, Lj)\n",
    "print ' L_j ', 'L_a', '    Cs ', '  Ct  ', '  fQ', '   fA'\n",
    "print 1e9*Lj, '',1e9*La , ' ', int(1e15*Cs),'  ',int(1e15*Ct),'  ', round(1e-9*fr_q,2),' ', round(1e-9*fr_a,2)\n",
    "\n",
    "print '__Mesher 100 um, SX=0.4, SY=2.05mm '\n",
    "[La, Lj, fr_q, fr_a] = [40e-9, 60e-9, 2.07574e9, 3.76402e9]\n",
    "[Cs, Ct] = get_Cs_Ct_from_fQ_fA(fr_a, fr_q, La, Lj)\n",
    "print ' L_j ', 'L_a', '    Cs ', '  Ct  ', '  fQ', '   fA'\n",
    "print 1e9*Lj, '',1e9*La , ' ', int(1e15*Cs),'  ',int(1e15*Ct),'  ', round(1e-9*fr_q,2),' ', round(1e-9*fr_a,2)\n",
    "\n",
    "print '__Mesher 10 um'\n",
    "[La, Lj, fr_q, fr_a] = [40e-9, 60e-9, 2.12344e9, 3.79807e9]\n",
    "[Cs, Ct] = get_Cs_Ct_from_fQ_fA(fr_a, fr_q, La, Lj)\n",
    "print ' L_j ', 'L_a', '    Cs ', '  Ct  ', '  fQ', '   fA'\n",
    "print 1e9*Lj, '',1e9*La , ' ', int(1e15*Cs),'  ',int(1e15*Ct),'  ', round(1e-9*fr_q,2),' ', round(1e-9*fr_a,2)\n",
    "\n",
    "print '__Mesher 20 um'\n",
    "[La, Lj, fr_q, fr_a] = [40e-9, 60e-9, 2.1234e9, 3.798e9]\n",
    "[Cs, Ct] = get_Cs_Ct_from_fQ_fA(fr_a, fr_q, La, Lj)\n",
    "print ' L_j ', 'L_a', '    Cs ', '  Ct  ', '  fQ', '   fA'\n",
    "print 1e9*Lj, '',1e9*La , ' ', int(1e15*Cs),'  ',int(1e15*Ct),'  ', round(1e-9*fr_q,2),' ', round(1e-9*fr_a,2)\n",
    "\n",
    "folder = 'D:\\\\Data\\\\Desktop\\\\HFSS_results\\\\__Vary_parameters__\\\\1_Initial_Remy_Geometry\\\\FullWiring\\\\'\n",
    "filename = folder + '20200430_RemyGeo_prec_mesh.dat'\n",
    "print '__Mesher 50 um'\n",
    "print_C_from_file(filename)\n",
    "\n",
    "print '\\nVery big difference, with another mesh!\\nBefore it was:'\n",
    "folder = 'D:\\\\Data\\\\Desktop\\HFSS_results\\\\__Vary_parameters__\\\\1_Initial_Remy_Geometry\\\\FullWiring\\\\'\n",
    "filename = folder + '200423_200_RG_LaLj_24points_ok.dat'\n",
    "print '__No additional mesh'\n",
    "print_C_from_file(filename)\n",
    "print('\\nWhy is it so?!')\n"
   ]
  },
  {
   "cell_type": "markdown",
   "metadata": {},
   "source": [
    "## Remy geometry, but Pad2 in center"
   ]
  },
  {
   "cell_type": "code",
   "execution_count": null,
   "metadata": {
    "scrolled": true
   },
   "outputs": [],
   "source": [
    "Lj = 60e-9\n",
    "La = 20e-9\n",
    "fr_q = 2.45333e9\n",
    "fr_a = 3.59109e9\n",
    "\n",
    "[C_s, C_t] = get_Cs_Ct_from_fQ_fA(fr_a, fr_q, La, Lj)\n",
    "# [C_s, C_t] = get_Cs_Ct_from_fQ_fA(fr_q, fr_a, La, Lj)\n",
    "\n",
    "print ' L_j ', 'L_a', '    Cs ', '  Ct  ', '  fQ', '   fA'\n",
    "print 1e9*Lj, 1e9*La,' ', round(1e15*C_s), round(1e15*C_t),' ', round(1e-9*fr_q,2),'', round(1e-9*fr_a,2)\n"
   ]
  },
  {
   "cell_type": "markdown",
   "metadata": {},
   "source": [
    "____"
   ]
  },
  {
   "cell_type": "markdown",
   "metadata": {},
   "source": [
    "28 Apr 2020"
   ]
  },
  {
   "cell_type": "code",
   "execution_count": null,
   "metadata": {
    "scrolled": false
   },
   "outputs": [],
   "source": [
    "'''\n",
    "Variation +- 2% of each LWRG\n",
    "Part_Gap\tWidth\tPart_Ratio_Middle_o_Side\tfr1\tfr2\t\n",
    "'''\n",
    "folder = 'D:\\\\Data\\\\Desktop\\\\HFSS_results\\\\__Vary_parameters__\\\\2_StripGeometry\\\\'\n",
    "filename = folder + '20200428_StripGeo_Vary_LWRG=2000,sv,sv,sv.dat'\n",
    "\n",
    "L_j = 60e-9\n",
    "L_a = 40e-9\n",
    "\n",
    "print 'Gap ',' Width','RatMoS', ' Cs ', '  Ct  ', ' fQ', '   fA'\n",
    "#########################\n",
    "\n",
    "data = np.loadtxt(filename)\n",
    "Part_Gap = data[:,0]\n",
    "Width = data[:,1]\n",
    "RatioMoS = data[:,2]\n",
    "fr_q_list = data[:,3]\n",
    "fr_a_list = data[:,4]\n",
    "\n",
    "Cs_list = np.ones_like(fr_q_list)\n",
    "Ct_list = np.ones_like(fr_q_list)\n",
    "for i in range(len( fr_q_list )):\n",
    "    [Cs_list[i], Ct_list[i]] = get_Cs_Ct_from_fQ_fA(fr_a_list[i], fr_q_list[i], L_a, L_j)\n",
    "    print Part_Gap[i],Width[i],RatioMoS[i], ' ', round(1e15*Cs_list[i]),round(1e15*Ct_list[i]),' ', round(1e-9*fr_q_list[i],2),'', round(1e-9*fr_a_list[i],2)\n",
    "\n",
    "#########################\n",
    "\n",
    "## reshape to 3D array \n",
    "Gaps = np.unique(Part_Gap)\n",
    "Widths = np.unique(Width)\n",
    "Ratios = np.unique(RatioMoS)\n",
    "\n",
    "lg = len(Gaps)\n",
    "lw = len(Widths)\n",
    "lr = len(Ratios)\n",
    "\n",
    "Cs_3D_fF = np.reshape(1e15*Cs_list, [lg,lw,lr])\n",
    "Ct_3D_fF = np.reshape(1e15*Ct_list, [lg,lw,lr])\n",
    "\n",
    "'''\n",
    "Cs_3D[gap_i, width_i, rat_i]\n",
    "'''\n",
    "\n",
    "###########################################################################\n",
    "\n",
    "max_Cs = np.max(Cs_3D_fF)\n",
    "min_Cs = np.min(Cs_3D_fF)\n",
    "tar_Cs = 143\n",
    "range_Cs = np.max([ abs(tar_Cs-max_Cs), abs(tar_Cs-min_Cs) ])\n",
    "print '\\nrange_Cs',range_Cs\n",
    "Cs_colormin = tar_Cs - range_Cs\n",
    "Cs_colormax = tar_Cs + range_Cs\n",
    "\n",
    "max_Ct = np.max(Ct_3D_fF)\n",
    "min_Ct = np.min(Ct_3D_fF)\n",
    "tar_Ct = 89\n",
    "range_Ct = np.max([ abs(tar_Ct-max_Ct), abs(tar_Ct-min_Ct) ])\n",
    "print 'range_Ct',range_Ct\n",
    "Ct_colormin = tar_Ct - range_Ct\n",
    "Ct_colormax = tar_Ct + range_Ct\n",
    "\n",
    "#########################\n",
    "\n",
    "\n",
    "\n",
    "####### PICTURE COLORPLOTS ######\n",
    "\n",
    "fig1 = plt.figure(constrained_layout=True, figsize=[15,10])\n",
    "spec1 = gridspec.GridSpec(ncols=4, nrows=2, figure=fig1, width_ratios=[1,1,1,.1])\n",
    "ax11 = fig1.add_subplot(spec1[0, 0])\n",
    "ax12 = fig1.add_subplot(spec1[0, 1])\n",
    "ax13 = fig1.add_subplot(spec1[0, 2])\n",
    "ax14 = fig1.add_subplot(spec1[0, 3], visible=False) #colorbar\n",
    "\n",
    "ax11.set_title('Cs; gap='+str((Gaps[0]) ))\n",
    "ax11.set_xlabel('Ratio MoS')\n",
    "ax11.set_ylabel('Width [um]')\n",
    "c11 = ax11.pcolor(Cs_3D_fF[0,:,:], edgecolors='k', linewidths=4, vmin=Cs_colormin, vmax=Cs_colormax)\n",
    "c11.set_cmap('seismic')\n",
    "\n",
    "ax12.set_title( 'Cs; gap='+str(Gaps[1]) )\n",
    "c12 = ax12.pcolor(Cs_3D_fF[1,:,:], edgecolors='k', linewidths=4, vmin=Cs_colormin, vmax=Cs_colormax)\n",
    "c12.set_cmap('seismic')\n",
    "\n",
    "ax13.set_title( 'Cs; gap='+str(Gaps[2]) )\n",
    "c13 = ax13.pcolor(Cs_3D_fF[2,:,:], edgecolors='k', linewidths=4, vmin=Cs_colormin, vmax=Cs_colormax)\n",
    "c13.set_cmap('seismic')\n",
    "\n",
    "cbar1 = fig1.colorbar(c11, ax=ax14, orientation = 'vertical', fraction=1.0)\n",
    "\n",
    "##############\n",
    "\n",
    "ax21 = fig1.add_subplot(spec1[1, 0])\n",
    "ax22 = fig1.add_subplot(spec1[1, 1])\n",
    "ax23 = fig1.add_subplot(spec1[1, 2])\n",
    "ax24 = fig1.add_subplot(spec1[1, 3], visible=False) #colorbar\n",
    "\n",
    "ax21.set_title('Ct; gap='+str((Gaps[0]) ))\n",
    "c21 = ax21.pcolor(Ct_3D_fF[0,:,:], edgecolors='k', linewidths=4, vmin=Ct_colormin, vmax=Ct_colormax)\n",
    "c21.set_cmap('seismic')\n",
    "\n",
    "ax22.set_title( 'Ct; gap='+str(Gaps[1]) )\n",
    "c22 = ax22.pcolor(Ct_3D_fF[1,:,:], edgecolors='k', linewidths=4, vmin=Ct_colormin, vmax=Ct_colormax)\n",
    "c22.set_cmap('seismic')\n",
    "\n",
    "ax23.set_title( 'Ct; gap='+str(Gaps[2]) )\n",
    "c23 = ax23.pcolor(Ct_3D_fF[2,:,:], edgecolors='k', linewidths=4, vmin=Ct_colormin, vmax=Ct_colormax)\n",
    "c23.set_cmap('seismic')\n",
    "\n",
    "cbar2 = fig1.colorbar(c21, ax=ax24, orientation = 'vertical', fraction=1.0)\n",
    "\n",
    "#########################\n",
    "\n"
   ]
  },
  {
   "cell_type": "code",
   "execution_count": null,
   "metadata": {
    "scrolled": true
   },
   "outputs": [],
   "source": []
  },
  {
   "cell_type": "code",
   "execution_count": null,
   "metadata": {
    "scrolled": true
   },
   "outputs": [],
   "source": [
    "print Gaps\n",
    "print Widths\n",
    "print Ratios"
   ]
  },
  {
   "cell_type": "code",
   "execution_count": null,
   "metadata": {
    "scrolled": true
   },
   "outputs": [],
   "source": []
  },
  {
   "cell_type": "code",
   "execution_count": null,
   "metadata": {
    "scrolled": true
   },
   "outputs": [],
   "source": [
    "print 'Gaps:', Gaps\n",
    "print 'Ratios', Ratios\n",
    "print 'Widths', Widths\n",
    "Cs_3D\n",
    "\n",
    "# [lg,lr,lw]\n",
    "Cs_3D[0,0,0]"
   ]
  },
  {
   "cell_type": "code",
   "execution_count": null,
   "metadata": {
    "scrolled": true
   },
   "outputs": [],
   "source": [
    "d1 = np.arange(0, 16,1)\n",
    "d3 = np.reshape(d1, [4,2,2])\n",
    "print '>:', d3[0,1,0]\n",
    "d3"
   ]
  },
  {
   "cell_type": "code",
   "execution_count": null,
   "metadata": {
    "scrolled": true
   },
   "outputs": [],
   "source": [
    "### Check ####\n",
    "folder = 'D:\\\\Data\\\\Desktop\\\\HFSS_results\\\\__Vary_parameters__\\\\2_StripGeometry\\\\'\n",
    "filename = folder + '20200428_StripGeo_check_LWRG=2000,400,3,0.05.dat'\n",
    "\n",
    "### GOOD TARGET PARAMETERS ###\n",
    "print '\\nLWRG = 2000, 400, 3 ,0.05 \\n'\n",
    "\n",
    "print_C_from_file(filename)\n",
    "print('\\nConfirmed!')"
   ]
  },
  {
   "cell_type": "code",
   "execution_count": null,
   "metadata": {
    "scrolled": true
   },
   "outputs": [],
   "source": [
    "### Accurate vary of Width, with Ratio_M_o_s = 3 (instead of 5)\n",
    "\n",
    "folder = 'D:\\\\Data\\\\Desktop\\\\HFSS_results\\\\__Vary_parameters__\\\\2_StripGeometry\\\\'\n",
    "filename = folder + '20200428_StripGeo_LWRG=2000;v;2;0.05_v={300-400}.dat'\n",
    "\n",
    "L_j = 60e-9\n",
    "L_a = 40e-9\n",
    "\n",
    "print '\\n LWRG = 2000, v, 3 ,0.05 \\n'\n",
    "\n",
    "print 'Width ', ' Cs ', '  Ct  ', ' fQ', '   fA'\n",
    "\n",
    "data = np.loadtxt(filename)\n",
    "Width = data[:,0]\n",
    "fr_q_list = data[:,1]\n",
    "fr_a_list = data[:,2]\n",
    "\n",
    "Cs_list = np.ones_like(fr_q_list)\n",
    "Ct_list = np.ones_like(fr_q_list)\n",
    "for i in range(len( fr_q_list )):\n",
    "    [Cs_list[i], Ct_list[i]] = get_Cs_Ct_from_fQ_fA(fr_a_list[i], fr_q_list[i], L_a, L_j)\n",
    "    print Width[i], ' ', round(1e15*Cs_list[i]),round(1e15*Ct_list[i]),' ', round(1e-9*fr_q_list[i],2),'', round(1e-9*fr_a_list[i],2)\n",
    "\n",
    "plt.figure()\n",
    "plt.grid()\n",
    "plt.xlabel('Width [um]')\n",
    "plt.axhline(143, linestyle='-.', c='k')\n",
    "plt.axhline(90, linestyle=':', c='k')\n",
    "\n",
    "plt.plot( Width, 1e15*Cs_list, '.-.' )\n",
    "plt.plot( Width, 1e15*Ct_list, ':' )\n"
   ]
  },
  {
   "cell_type": "code",
   "execution_count": null,
   "metadata": {
    "scrolled": true
   },
   "outputs": [],
   "source": [
    "## Make Ratio_M_o_S is =1, vary Gap\n",
    "## LWRG = ff1v\n",
    "\n",
    "# I've add it to the big array in file \n",
    "L_j = 60e-9\n",
    "L_a = 40e-9\n",
    "\n",
    "Part_Gap = [0.075, 0.1, 0.125, 0.15]\n",
    "fr_q_list = [2139673796., 2265516033., 2260757021., 2708481105.]\n",
    "fr_a_list = [3298817761., 3351288364., 3376195863., 3481042008.]\n",
    "\n",
    "print 'Gap', '    Cs ', '  Ct  ', '  fQ', '   fA'\n",
    "\n",
    "Cs_list = np.ones_like(fr_q_list)\n",
    "Ct_list = np.ones_like(fr_q_list)\n",
    "for i in range(len( fr_q_list )):\n",
    "    [Cs_list[i], Ct_list[i]] = get_Cs_Ct_from_fQ_fA(fr_a_list[i], fr_q_list[i], L_a, L_j)\n",
    "    print Part_Gap[i], ' ', round(1e15*Cs_list[i]),round(1e15*Ct_list[i]),' ', round(1e-9*fr_q_list[i],2),'', round(1e-9*fr_a_list[i],2)\n"
   ]
  },
  {
   "cell_type": "code",
   "execution_count": null,
   "metadata": {
    "scrolled": true
   },
   "outputs": [],
   "source": [
    "folder = 'D:\\\\Data\\\\Desktop\\\\HFSS_results\\\\__Vary_parameters__\\\\2_StripGeometry\\\\'\n",
    "filename = folder + '20200428_StripGeo_3_varyRatio&Gap.dat'\n",
    "\n",
    "L_j = 60e-9\n",
    "L_a = 40e-9\n",
    "print '\\n LWRG = 2000, 350, v ,v \\n'\n",
    "print 'Gap', '  Ratio', ' Cs ', '  Ct  ', '  fQ', '   fA'\n",
    "\n",
    "data = np.loadtxt(filename)\n",
    "Part_Gap = data[:,0]\n",
    "Ratio_MoS = data[:,1]\n",
    "fr_q_list = data[:,2]\n",
    "fr_a_list = data[:,3]\n",
    "\n",
    "Cs_list = np.ones_like(fr_q_list)\n",
    "Ct_list = np.ones_like(fr_q_list)\n",
    "for i in range(len( fr_q_list )):\n",
    "    [Cs_list[i], Ct_list[i]] = get_Cs_Ct_from_fQ_fA(fr_a_list[i], fr_q_list[i], L_a, L_j)\n",
    "    print Part_Gap[i], Ratio_MoS[i],' ', round(1e15*Cs_list[i]),round(1e15*Ct_list[i]),' ', round(1e-9*fr_q_list[i],2),'', round(1e-9*fr_a_list[i],2)\n",
    "\n",
    "    \n",
    "## reshape to 2D array \n",
    "\n",
    "Gaps = np.unique(Part_Gap)\n",
    "Ratios = np.unique(Ratio_MoS)\n",
    "\n",
    "n = len(Gaps)\n",
    "m = len(Ratios)\n",
    "print '\\n n,m = Gaps, Ratios = ', n,',',m\n",
    "\n",
    "Cs_2D = np.reshape(Cs_list, [n,m])\n",
    "Ct_2D = np.reshape(Ct_list, [n,m])\n",
    "\n",
    "\n",
    "#### PICTURES ####"
   ]
  },
  {
   "cell_type": "code",
   "execution_count": null,
   "metadata": {
    "scrolled": true
   },
   "outputs": [],
   "source": [
    "print 'LWRG = 2000, 350, v ,v'\n",
    "\n",
    "fig2 = plt.figure(constrained_layout=True, figsize=[12,10])\n",
    "spec2 = gridspec.GridSpec(ncols=2, nrows=3, figure=fig2)\n",
    "ax1 = fig2.add_subplot(spec2[0, 0])\n",
    "ax2 = fig2.add_subplot(spec2[0, 1])\n",
    "ax3 = fig2.add_subplot(spec2[1, 0])\n",
    "ax4 = fig2.add_subplot(spec2[1, 1])\n",
    "ax5 = fig2.add_subplot(spec2[2, 0])\n",
    "ax6 = fig2.add_subplot(spec2[2, 1])\n",
    "\n",
    "#########################\n",
    "ax3.set_title('C_t vs Ratio')\n",
    "ax3.set_xlabel('Ratio [u.l]')\n",
    "ax3.set_ylabel('C_t [fF]')\n",
    "ax3.grid()\n",
    "for l in range(len(Gaps)):\n",
    "    ax3.plot(Ratios, 1e15*Ct_2D[l,:], label='Gap='+str(Gaps[l])+'u.l' )\n",
    "ax3.legend()\n",
    "\n",
    "ax1.set_title('C_s vs Ratio')\n",
    "ax1.set_xlabel('Ratio [u.l]')\n",
    "ax1.set_ylabel('C_s [fF]')\n",
    "ax1.grid()\n",
    "for l in range(len(Gaps)):\n",
    "    ax1.plot(Ratios, 1e15*Cs_2D[l,:], label='Gap='+str(Gaps[l])+'u.l' )\n",
    "ax1.legend()\n",
    "\n",
    "#########################\n",
    "ax4.set_title('C_t vs Gap')\n",
    "ax4.set_xlabel('Gap [u.l]')\n",
    "ax4.set_ylabel('C_t [fF]')\n",
    "ax4.grid()\n",
    "for w in range(len(Ratios)):\n",
    "    ax4.plot(Gaps, 1e15*Ct_2D[:,w], label='Ratio='+str(Ratios[w])+'u.l' )\n",
    "# ax4.legend()\n",
    "\n",
    "ax2.set_title('C_s vs Gap')\n",
    "ax2.set_xlabel('Gap [u.l]')\n",
    "ax2.set_ylabel('C_s [fF]')\n",
    "ax2.grid()\n",
    "for w in range(len(Ratios)):\n",
    "    ax2.plot(Gaps, 1e15*Cs_2D[:,w], label='Ratio='+str(Ratios[w])+'u.l' )\n",
    "ax2.legend()\n",
    "\n",
    "#########################\n",
    "\n",
    "ax5.set_title('C_s/C_t vs Ratio')\n",
    "ax5.set_xlabel('Ratio [u.l]')\n",
    "ax5.set_ylabel('C_s/C_t')\n",
    "ax5.grid()\n",
    "for l in range(len(Gaps)):\n",
    "    ax5.plot(Ratios, Cs_2D[l,:]/Ct_2D[l,:], label='Gap='+str(Gaps[l])+'u.l' )\n",
    "ax5.legend()\n",
    "\n",
    "ax6.set_title('C_s/C_t vs Gap')\n",
    "ax6.set_xlabel('Gap [u.l]')\n",
    "ax6.set_ylabel('C_s/C_t')\n",
    "ax6.grid()\n",
    "for w in range(len(Ratios)):\n",
    "    ax6.plot(Gaps, Cs_2D[:,w]/Ct_2D[:,w], label='Ratio='+str(Ratios[w])+'u.l' )\n",
    "# ax6.legend()\n",
    "\n",
    "#########################\n"
   ]
  },
  {
   "cell_type": "markdown",
   "metadata": {},
   "source": [
    "Ratio := {2.5 - 3.0}"
   ]
  },
  {
   "cell_type": "markdown",
   "metadata": {},
   "source": [
    "_______________"
   ]
  },
  {
   "cell_type": "markdown",
   "metadata": {},
   "source": [
    "27 Apr 2020"
   ]
  },
  {
   "cell_type": "code",
   "execution_count": null,
   "metadata": {
    "scrolled": true
   },
   "outputs": [],
   "source": [
    "folder = 'D:\\\\Data\\\\Desktop\\\\HFSS_results\\\\__Vary_parameters__\\\\2_StripGeometry\\\\'\n",
    "filename = folder + '20200427_StripGeo_2_Gap_vary.dat'\n",
    "\n",
    "\n",
    "## LWRG = ff5v\n",
    "print '\\nLWRG = 2000, 350, 5 ,v \\n'\n",
    "\n",
    "L_j = 60e-9\n",
    "L_a = 40e-9\n",
    "\n",
    "print 'PartGap', ' Cs ', '  Ct  ', '  fQ', '   fA'\n",
    "\n",
    "data = np.loadtxt(filename)\n",
    "Part_Gap = data[:,0]\n",
    "fr_q_list = data[:,1]\n",
    "fr_a_list = data[:,2]\n",
    "\n",
    "Cs_list = np.ones_like(fr_q_list)\n",
    "Ct_list = np.ones_like(fr_q_list)\n",
    "for i in range(len( fr_q_list )):\n",
    "    [Cs_list[i], Ct_list[i]] = get_Cs_Ct_from_fQ_fA(fr_a_list[i], fr_q_list[i], L_a, L_j)\n",
    "    print Part_Gap[i], ' ', round(1e15*Cs_list[i]),round(1e15*Ct_list[i]),' ', round(1e-9*fr_q_list[i],2),'', round(1e-9*fr_a_list[i],2)\n",
    "\n",
    "\n",
    "plt.figure()\n",
    "plt.title('Cs_vs_Part_Gap')\n",
    "plt.xlabel('Part_Gap')\n",
    "plt.ylabel('Cs [fF]')\n",
    "plt.grid()\n",
    "plt.plot(Part_Gap, 1e15*Cs_list)\n",
    "\n",
    "plt.figure()\n",
    "plt.title('Ct_vs_Part_Gap')\n",
    "plt.xlabel('Part_Gap')\n",
    "plt.ylabel('Ct [fF]')\n",
    "plt.grid()\n",
    "plt.plot(Part_Gap, 1e15*Ct_list)\n",
    "\n",
    "plt.figure()\n",
    "plt.title('Cs/Ct_vs_Part_Gap')\n",
    "plt.xlabel('Part_Gap')\n",
    "plt.ylabel('Cs/Ct [u.l.]')\n",
    "plt.grid()\n",
    "plt.plot(Part_Gap, Cs_list/Ct_list)\n"
   ]
  },
  {
   "cell_type": "code",
   "execution_count": null,
   "metadata": {
    "scrolled": true
   },
   "outputs": [],
   "source": []
  },
  {
   "cell_type": "code",
   "execution_count": null,
   "metadata": {
    "scrolled": true
   },
   "outputs": [],
   "source": [
    "### GOOD TARGET PARAMETERS ###\n",
    "print '\\nLWRG = 2800, 280, 5 ,0.075 \\n'\n",
    "\n",
    "print 'Stripline\\n'\n",
    "folder = 'D:\\\\Data\\\\Desktop\\\\HFSS_results\\\\__Vary_parameters__\\\\2_StripGeometry\\\\'\n",
    "filename = folder + '20200427_StripGeo_2_W280L2800_LjLa.dat'\n",
    "\n",
    "print_C_from_file(filename)\n",
    "print('\\nConfirmed!')"
   ]
  },
  {
   "cell_type": "code",
   "execution_count": null,
   "metadata": {
    "scrolled": true
   },
   "outputs": [],
   "source": [
    "print 'Stripline, varyation of Ratios middle_o_side'\n",
    "print ' L_a=40nH L_j=60nH Qubit_length=2000um Qubit_Width=350um '\n",
    "folder = 'D:\\\\Data\\\\Desktop\\\\HFSS_results\\\\__Vary_parameters__\\\\2_StripGeometry\\\\'\n",
    "filename = folder + '20200424_StripGeo_0_W350_PartsAsRemy_notComplete.dat'\n",
    "\n",
    "print '\\nLWRG = 2000, 350, v ,0.075 \\n'\n",
    "\n",
    "L_j = 60e-9\n",
    "L_a = 40e-9\n",
    "print 'Ratio', ' Cs ', '  Ct  ', '  fQ', '   fA'\n",
    "\n",
    "data = np.loadtxt(filename)\n",
    "Ratio_m_o_s = data[:,0]\n",
    "fr_q_list = data[:,1]\n",
    "fr_a_list = data[:,2]\n",
    "\n",
    "Cs_list = np.ones_like(fr_q_list)\n",
    "Ct_list = np.ones_like(fr_q_list)\n",
    "for i in range(len( fr_q_list )):\n",
    "    [Cs_list[i], Ct_list[i]] = get_Cs_Ct_from_fQ_fA(fr_a_list[i], fr_q_list[i], L_a, L_j)\n",
    "    print Ratio_m_o_s[i], ' ', round(1e15*Cs_list[i]),round(1e15*Ct_list[i]),' ', round(1e-9*fr_q_list[i],2),'', round(1e-9*fr_a_list[i],2)\n",
    "\n",
    "    \n",
    "plt.figure()\n",
    "plt.title('Cs_vs_Ratio_MOS')\n",
    "plt.xlabel('ratio middle over side len')\n",
    "plt.ylabel('Cs [fF]')\n",
    "plt.grid()\n",
    "plt.plot(Ratio_m_o_s, 1e15*Cs_list)\n",
    "    \n",
    "plt.figure()\n",
    "plt.title('Ct_vs_Ratio_MOS')\n",
    "plt.xlabel('ratio middle over side len')\n",
    "plt.ylabel('Ct [fF]')\n",
    "plt.grid()\n",
    "plt.plot(Ratio_m_o_s, 1e15*Ct_list)\n",
    "\n",
    "plt.figure()\n",
    "plt.title('Cs/Ct_vs_Ratio_MOS')\n",
    "plt.xlabel('ratio middle over side len')\n",
    "plt.ylabel('Cs/Ct [u.l.]')\n",
    "plt.grid()\n",
    "plt.plot(Ratio_m_o_s, Cs_list/Ct_list)\n"
   ]
  },
  {
   "cell_type": "markdown",
   "metadata": {},
   "source": [
    "_______"
   ]
  },
  {
   "cell_type": "code",
   "execution_count": null,
   "metadata": {
    "scrolled": true
   },
   "outputs": [],
   "source": [
    "print 'Stripline, varyation of full_Length and full_Width'\n",
    "folder = 'D:\\\\Data\\\\Desktop\\\\HFSS_results\\\\__Vary_parameters__\\\\2_StripGeometry\\\\'\n",
    "filename = folder + '20200427_StripGeo_1_vs_Wid&Len.dat'\n",
    "\n",
    "print '\\nLWRG = v, v, 5 ,0.075 \\n'\n",
    "\n",
    "L_j = 60e-9\n",
    "L_a = 40e-9\n",
    "print 'Q_len ', 'Q_wid', '   Cs ', '  Ct  ', '  fQ', '   fA'\n",
    "\n",
    "data = np.loadtxt(filename)\n",
    "\n",
    "Q_length = data[:,0]\n",
    "Q_width = data[:,1]\n",
    "fr_q_list = data[:,4]\n",
    "fr_a_list = data[:,5]\n",
    "Cs_list = np.ones_like(fr_q_list)\n",
    "Ct_list = np.ones_like(fr_q_list)\n",
    "\n",
    "for i in range(len( fr_q_list )):\n",
    "    [Cs_list[i], Ct_list[i]] = get_Cs_Ct_from_fQ_fA(fr_a_list[i], fr_q_list[i], L_a, L_j)\n",
    "    print Q_length[i], Q_width[i],' ', round(1e15*Cs_list[i]),round(1e15*Ct_list[i]),' ', round(1e-9*fr_q_list[i],2),'', round(1e-9*fr_a_list[i],2)\n",
    "\n",
    "    \n",
    "## reshape to 2D array \n",
    "\n",
    "Length = np.unique(Q_length)\n",
    "Width = np.unique(Q_width)\n",
    "\n",
    "n = len(Length)\n",
    "m = len(Width)\n",
    "print 'n,m = Length, Width = ', n,',',m\n",
    "\n",
    "Cs_2D = np.reshape(Cs_list, [n,m])\n",
    "Ct_2D = np.reshape(Ct_list, [n,m])\n",
    "\n",
    "\n",
    "#### PICTURES ####\n",
    "\n"
   ]
  },
  {
   "cell_type": "code",
   "execution_count": null,
   "metadata": {
    "scrolled": true
   },
   "outputs": [],
   "source": [
    "# ########################## ########################## ########################## #########################\n",
    "##### ALTERNATIVE #####\n",
    "from cycler import cycler \n",
    "custom_cycler = (cycler(color=['r','r', 'orange','orange', 'gold','gold', 'g','g', 'deepskyblue','deepskyblue', 'b','b','purple','purple']))\n",
    "\n",
    "print '\\nLWRG = v, v, 5 ,0.075 \\n'\n",
    "\n",
    "fig2 = plt.figure(constrained_layout=True, figsize=[16,6])\n",
    "spec2 = gridspec.GridSpec(ncols=2, nrows=1, figure=fig2)\n",
    "ax1 = fig2.add_subplot(spec2[0, 0])\n",
    "ax2 = fig2.add_subplot(spec2[0, 1])\n",
    "\n",
    "\n",
    "ax1.set_prop_cycle(custom_cycler)\n",
    "ax2.set_prop_cycle(custom_cycler)\n",
    "\n",
    "ax1.axhline(143, linestyle='--', c='k')\n",
    "ax1.axhline(90, linestyle='-.', c='k')\n",
    "ax2.axhline(143, linestyle='--', c='k')\n",
    "ax2.axhline(90, linestyle='-.', c='k')\n",
    "\n",
    "\n",
    "\n",
    "ax1.set_title('Cs & Ct vs Width')\n",
    "ax1.set_xlabel('Width [um]')\n",
    "ax1.set_ylabel('Capasitance [fF]')\n",
    "ax1.grid()\n",
    "for l in range(len(Length)):\n",
    "    ax1.plot(Width, 1e15*Cs_2D[l,:], '.-.', label='Cs; Length='+str( int(Length[l]) )+'um' )\n",
    "    ax1.plot(Width, 1e15*Ct_2D[l,:], ':', label='Ct; Length='+str( int(Length[l]) )+'um' )\n",
    "ax1.legend(bbox_to_anchor=(1.1, 1.05))\n",
    "\n",
    "ax2.set_title('Cs & Ct vs Length')\n",
    "ax2.set_xlabel('Length [um]')\n",
    "ax2.set_ylabel('Capasitance [fF]')\n",
    "ax2.grid()\n",
    "for w in range(len(Width)):\n",
    "    ax2.plot(Length, 1e15*Cs_2D[:,w], '.-.', label='Cs; Width='+str(int(Width[w]))+'um' )\n",
    "    ax2.plot(Length, 1e15*Ct_2D[:,w], ':',   label='Ct; Width='+str(int(Width[w]))+'um' )\n",
    "ax2.legend(bbox_to_anchor=(1.1, 1.05))\n",
    "\n",
    "# ########################## ########################## #########################"
   ]
  },
  {
   "cell_type": "code",
   "execution_count": null,
   "metadata": {
    "scrolled": true
   },
   "outputs": [],
   "source": []
  },
  {
   "cell_type": "markdown",
   "metadata": {},
   "source": [
    "__________"
   ]
  },
  {
   "cell_type": "markdown",
   "metadata": {},
   "source": [
    "24 Apr 2020"
   ]
  },
  {
   "cell_type": "code",
   "execution_count": null,
   "metadata": {
    "scrolled": true
   },
   "outputs": [],
   "source": [
    "print '\\n LWRG = 2000, 175, 5 ,0.075 \\n'\n",
    "#True strip geometry init0 - Width=175(2times_less), Partials-same as Remy\n",
    "folder = 'D:\\\\Data\\\\Desktop\\\\HFSS_results\\\\__Vary_parameters__\\\\2_StripGeometry\\\\'\n",
    "filename = folder + '20200424_StripGeo_0_W175_PartsAsRemy.dat'\n",
    "print_C_from_file(filename)"
   ]
  },
  {
   "cell_type": "code",
   "execution_count": null,
   "metadata": {
    "scrolled": true
   },
   "outputs": [],
   "source": [
    "print '\\n LWRG = 2000, 350, 5 ,0.075 \\n'\n",
    "#True strip geometry init0 - Width=350, Partials-same as Remy\n",
    "folder = 'D:\\\\Data\\\\Desktop\\\\HFSS_results\\\\__Vary_parameters__\\\\2_StripGeometry\\\\'\n",
    "filename = folder + '20200424_StripGeo_0_W350_PartsAsRemy.dat'\n",
    "print_C_from_file(filename)"
   ]
  },
  {
   "cell_type": "code",
   "execution_count": null,
   "metadata": {
    "scrolled": true
   },
   "outputs": [],
   "source": [
    "#initialization of strip geometry - just shift central pad\n",
    "folder = 'D:\\\\Data\\\\Desktop\\\\HFSS_results\\\\__Vary_parameters__\\\\1_Initial_Remy_Geometry\\\\Pad2_shiftToCenter_&Overwires\\\\'\n",
    "filename = folder + '20200424_test_overwires_Pad2ShiftToCenter.dat'\n",
    "print_C_from_file(filename)"
   ]
  },
  {
   "cell_type": "code",
   "execution_count": null,
   "metadata": {
    "scrolled": true
   },
   "outputs": [],
   "source": [
    "#initial strip geometry - just shift central pad\n",
    "folder = 'D:\\\\Data\\\\Desktop\\\\HFSS_results\\\\__Vary_parameters__\\\\1_Initial_Remy_Geometry\\\\Pad2_shift_to_center\\\\'\n",
    "filename = folder + '200424_310_StrG_LjLa_init.dat'\n",
    "print_C_from_file(filename)\n"
   ]
  },
  {
   "cell_type": "markdown",
   "metadata": {},
   "source": [
    "# Last result of exact Remy Geometry"
   ]
  },
  {
   "cell_type": "code",
   "execution_count": null,
   "metadata": {
    "scrolled": true
   },
   "outputs": [],
   "source": [
    "#sample 5x5, 24points La[10-40], Lj[10-40] \n",
    "folder = 'D:\\\\Data\\\\Desktop\\HFSS_results\\\\__Vary_parameters__\\\\1_Initial_Remy_Geometry\\\\FullWiring\\\\'\n",
    "filename = folder + '200423_200_RG_LaLj_24points_ok.dat'\n",
    "print_C_from_file(filename)\n",
    "print('Woooooo HooooO!!!!!')"
   ]
  },
  {
   "cell_type": "code",
   "execution_count": null,
   "metadata": {
    "scrolled": true
   },
   "outputs": [],
   "source": []
  },
  {
   "cell_type": "code",
   "execution_count": null,
   "metadata": {
    "scrolled": true
   },
   "outputs": [],
   "source": []
  },
  {
   "cell_type": "code",
   "execution_count": null,
   "metadata": {
    "scrolled": true
   },
   "outputs": [],
   "source": []
  },
  {
   "cell_type": "code",
   "execution_count": null,
   "metadata": {
    "scrolled": true
   },
   "outputs": [],
   "source": []
  }
 ],
 "metadata": {
  "kernelspec": {
   "display_name": "Python 2",
   "language": "python",
   "name": "python2"
  },
  "language_info": {
   "codemirror_mode": {
    "name": "ipython",
    "version": 2
   },
   "file_extension": ".py",
   "mimetype": "text/x-python",
   "name": "python",
   "nbconvert_exporter": "python",
   "pygments_lexer": "ipython2",
   "version": "2.7.10"
  }
 },
 "nbformat": 4,
 "nbformat_minor": 2
}
